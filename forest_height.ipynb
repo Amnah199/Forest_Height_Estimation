{
  "cells": [
    {
      "attachments": {},
      "cell_type": "markdown",
      "metadata": {
        "colab_type": "text",
        "id": "view-in-github"
      },
      "source": [
        "<a href=\"https://colab.research.google.com/github/lgiesen/forest-height/blob/main/forest_height.ipynb\" target=\"_parent\"><img src=\"https://colab.research.google.com/assets/colab-badge.svg\" alt=\"Open In Colab\"/></a>"
      ]
    },
    {
      "cell_type": "code",
      "execution_count": 1,
      "metadata": {
        "colab": {
          "base_uri": "https://localhost:8080/"
        },
        "id": "57beiuW6Nx-B",
        "outputId": "0e9309fe-a53c-4a73-f9b9-bc6305f9ca70"
      },
      "outputs": [
        {
          "name": "stdout",
          "output_type": "stream",
          "text": [
            "Mounted at /content/drive\n"
          ]
        }
      ],
      "source": [
        "from google.colab import drive\n",
        "drive.mount ('/content/drive', force_remount=True)\n",
        "root_path = 'drive/MyDrive/Colab Notebooks/data/'"
      ]
    },
    {
      "cell_type": "code",
      "execution_count": 2,
      "metadata": {
        "id": "cDh85SwKRKCe"
      },
      "outputs": [],
      "source": [
        "path_images = root_path + 'images/'\n",
        "path_masks = root_path + 'masks/'"
      ]
    },
    {
      "cell_type": "code",
      "execution_count": 5,
      "metadata": {
        "colab": {
          "base_uri": "https://localhost:8080/"
        },
        "id": "CCgGU0-32oER",
        "outputId": "ccb5d93d-6221-44fa-9b04-14c153f88c01"
      },
      "outputs": [
        {
          "name": "stdout",
          "output_type": "stream",
          "text": [
            "satellite: (10, 1024, 1024)\n",
            "mask: (10, 1024, 1024)\n"
          ]
        }
      ],
      "source": [
        "import numpy as np\n",
        "# load exemplary data\n",
        "sat_path = 'images/image_004.npy'\n",
        "if path_exists(sat_path):\n",
        "  satellite = np.load(root_path + sat_path)\n",
        "  print('satellite:',satellite.shape)\n",
        "mask_path = 'masks/mask_004.npy'\n",
        "if path_exists(mask_path):\n",
        "  mask = np.load(root_path + mask_path)\n",
        "  mask.shape\n",
        "  print('mask:',satellite.shape)"
      ]
    },
    {
      "cell_type": "code",
      "execution_count": 6,
      "metadata": {
        "id": "cMQABaW6Q2pE"
      },
      "outputs": [],
      "source": [
        "import matplotlib.pyplot as plt\n",
        "def plot_img(img, is_satellite = True):\n",
        "    #shape: satellite == (10, 1024, 1024), mask == (1, 1024, 1024)\n",
        "    if is_satellite:\n",
        "      # Extract Red, Green, and Blue bands\n",
        "      red = img[2, :, :]\n",
        "      green = img[1, :, :]\n",
        "      blue = img[0, :, :]\n",
        "\n",
        "      # Normalize the bands to [0, 1] range\n",
        "      red_norm = (red - red.min()) / (red.max() - red.min())\n",
        "      green_norm = (green - green.min()) / (green.max() - green.min())\n",
        "      blue_norm = (blue - blue.min()) / (blue.max() - blue.min())\n",
        "    \n",
        "      # Stack the bands to create an RGB image\n",
        "      scaled_img = np.stack((red_norm, green_norm, blue_norm), axis=-1)\n",
        "    \n",
        "    elif not is_satellite:\n",
        "      scaled_img = (mask - np.min(mask)) / (np.amax(mask) - np.amin(mask))\n",
        "      # TODO: scale with total max and min of all masks for comparability\n",
        "      scaled_img = np.squeeze(scaled_img) # remove redundant dimension\n",
        "      \n",
        "      \n",
        "    # Plot the image\n",
        "    plt.figure(figsize=(10, 10))\n",
        "    plt.imshow(scaled_img)\n",
        "    plt.axis('off')\n",
        "    plt.show()"
      ]
    },
    {
      "attachments": {},
      "cell_type": "markdown",
      "metadata": {
        "id": "s1lFuJ_jWi5m"
      },
      "source": [
        "## Data Preparation"
      ]
    },
    {
      "attachments": {},
      "cell_type": "markdown",
      "metadata": {
        "id": "vtSyrAb3-pku"
      },
      "source": [
        "The npy files are combined into a dataset. After the first loading they do not have to be generated anymore.\n",
        "One npy file might need to be split into smaller images of 256x256 or 512x512 pixels, which then are put back together in the end."
      ]
    },
    {
      "cell_type": "code",
      "execution_count": null,
      "metadata": {},
      "outputs": [],
      "source": [
        "# load dataset\n",
        "path_train_sat = root_path + \"train_satellite.npy\"\n",
        "path_train_masks = root_path + \"train_masks.npy\"\n",
        "\n",
        "train_sat = np.load(path_train_sat, allow_pickle=True)\n",
        "train_masks = np.load(path_train_masks, allow_pickle=True)"
      ]
    },
    {
      "cell_type": "code",
      "execution_count": 12,
      "metadata": {
        "id": "TlVA_IW0N58W"
      },
      "outputs": [],
      "source": [
        "# remove drive connection as it is no longer needed\n",
        "drive.flush_and_unmount()"
      ]
    },
    {
      "attachments": {},
      "cell_type": "markdown",
      "metadata": {
        "id": "70Tam_dWCCtk"
      },
      "source": [
        "To Do:\n",
        "\n",
        "- Data Augmentation (flip image at least by 90, 180 and 270°)"
      ]
    },
    {
      "attachments": {},
      "cell_type": "markdown",
      "metadata": {
        "id": "wVLznZ6dBdhy"
      },
      "source": [
        "## Training"
      ]
    },
    {
      "attachments": {},
      "cell_type": "markdown",
      "metadata": {
        "id": "0pfM3y1lAfB5"
      },
      "source": [
        "### Machine Learning Regressor\n",
        "\n"
      ]
    },
    {
      "attachments": {},
      "cell_type": "markdown",
      "metadata": {
        "id": "zxlgHGy-CUqv"
      },
      "source": [
        "Suggestions based on [SciKits advice](https://scikit-learn.org/stable/_static/ml_map.png) on choosing the right model:\n",
        "- RidgeRegression\n",
        "- SVR(kernel='linear')\n",
        "- SVR(kernel='rbf')\n",
        "- EnsembleRegressors"
      ]
    },
    {
      "cell_type": "code",
      "execution_count": null,
      "metadata": {
        "id": "K7Z86jZgBgtW"
      },
      "outputs": [],
      "source": []
    },
    {
      "attachments": {},
      "cell_type": "markdown",
      "metadata": {
        "id": "BkMQXJE9AiJV"
      },
      "source": [
        "### Convolutional Neural Network (CNN)"
      ]
    },
    {
      "cell_type": "code",
      "execution_count": null,
      "metadata": {
        "id": "hGHcRbowAjZv"
      },
      "outputs": [],
      "source": []
    },
    {
      "attachments": {},
      "cell_type": "markdown",
      "metadata": {
        "id": "KovwM0DYBh8a"
      },
      "source": [
        "## Evaluation"
      ]
    },
    {
      "cell_type": "code",
      "execution_count": null,
      "metadata": {
        "id": "8mY8ssUvBjLU"
      },
      "outputs": [],
      "source": []
    }
  ],
  "metadata": {
    "colab": {
      "authorship_tag": "ABX9TyMd6yAMMsWZkEecSR8fs2AC",
      "include_colab_link": true,
      "mount_file_id": "1rV3IKCJiMNf5RGKtbr2JL1fBHWhEJzHK",
      "provenance": []
    },
    "kernelspec": {
      "display_name": "Python 3",
      "name": "python3"
    },
    "language_info": {
      "name": "python",
      "version": "3.10.8"
    }
  },
  "nbformat": 4,
  "nbformat_minor": 0
}
