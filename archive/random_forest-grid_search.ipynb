{
  "nbformat": 4,
  "nbformat_minor": 0,
  "metadata": {
    "colab": {
      "provenance": [],
      "authorship_tag": "ABX9TyOQTakbP60FIWsj5IxnNHkA",
      "include_colab_link": true
    },
    "kernelspec": {
      "name": "python3",
      "display_name": "Python 3"
    },
    "language_info": {
      "name": "python"
    }
  },
  "cells": [
    {
      "cell_type": "markdown",
      "metadata": {
        "id": "view-in-github",
        "colab_type": "text"
      },
      "source": [
        "<a href=\"https://colab.research.google.com/github/lgiesen/forest_height/blob/main/archive/random_forest-grid_search.ipynb\" target=\"_parent\"><img src=\"https://colab.research.google.com/assets/colab-badge.svg\" alt=\"Open In Colab\"/></a>"
      ]
    },
    {
      "cell_type": "code",
      "execution_count": 1,
      "metadata": {
        "colab": {
          "base_uri": "https://localhost:8080/"
        },
        "id": "nUWo97O_SPAx",
        "outputId": "fcdd5697-b02a-4255-de4b-18de68d0fae9"
      },
      "outputs": [
        {
          "output_type": "stream",
          "name": "stdout",
          "text": [
            "Mounted at /content/drive\n"
          ]
        }
      ],
      "source": [
        "from google.colab import drive\n",
        "drive.mount ('/content/drive', force_remount=True)"
      ]
    },
    {
      "cell_type": "code",
      "source": [
        "# the zipped data is uploaded in the root_path folder\n",
        "root_path = 'drive/MyDrive/Colab Notebooks/data/'\n",
        "path_images = f'{root_path}images/'\n",
        "path_masks = f'{root_path}masks/'\n",
        "user = \"lgiesen\"\n",
        "repo = \"forest_height\"\n",
        "!git clone https://github.com/{user}/{repo}.git"
      ],
      "metadata": {
        "colab": {
          "base_uri": "https://localhost:8080/"
        },
        "id": "TCyCKCFRShPr",
        "outputId": "4ac122fd-f4e9-4b5c-ee1f-6095832c9dd6"
      },
      "execution_count": 2,
      "outputs": [
        {
          "output_type": "stream",
          "name": "stdout",
          "text": [
            "Cloning into 'forest_height'...\n",
            "remote: Enumerating objects: 367, done.\u001b[K\n",
            "remote: Counting objects: 100% (19/19), done.\u001b[K\n",
            "remote: Compressing objects: 100% (18/18), done.\u001b[K\n",
            "remote: Total 367 (delta 6), reused 8 (delta 1), pack-reused 348\u001b[K\n",
            "Receiving objects: 100% (367/367), 20.53 MiB | 16.27 MiB/s, done.\n",
            "Resolving deltas: 100% (197/197), done.\n"
          ]
        }
      ]
    },
    {
      "cell_type": "markdown",
      "source": [
        "Load dataset"
      ],
      "metadata": {
        "id": "cKzWgkMJjsif"
      }
    },
    {
      "cell_type": "code",
      "source": [
        "import pandas as pd\n",
        "import numpy as np\n",
        "forest_data = \"forest_height/data/\"\n",
        "data_type = \"color_channels_ndvi\"\n",
        "X_train = np.array(pd.read_pickle(f\"{forest_data}{data_type}/X_train.pkl\"))\n",
        "y_train = np.array(pd.read_pickle(f\"{forest_data}{data_type}/y_train.pkl\"))\n",
        "X_test = np.array(pd.read_pickle(f\"{forest_data}{data_type}/X_test.pkl\"))\n",
        "y_test = np.array(pd.read_pickle(f\"{forest_data}{data_type}/y_test.pkl\"))"
      ],
      "metadata": {
        "id": "BnDK9F5LSRsC"
      },
      "execution_count": 5,
      "outputs": []
    },
    {
      "cell_type": "markdown",
      "source": [
        "Random Search"
      ],
      "metadata": {
        "id": "WVMTDT5YjuV2"
      }
    },
    {
      "cell_type": "code",
      "source": [
        "import numpy as np\n",
        "# Number of trees in random forest\n",
        "n_estimators = [100, 200, 300, 400, 500] #[int(x) for x in np.linspace(start = 200, stop = 2000, num = 10)]\n",
        "# Number of features to consider at every split\n",
        "max_features = ['auto', 'sqrt', 'log2']\n",
        "# Maximum number of levels in tree\n",
        "max_depth = [int(x) for x in np.linspace(1, 100, num = 11)]\n",
        "# Minimum number of samples required to split a node\n",
        "min_samples_split = [2, 5, 10, 15]\n",
        "# Minimum number of samples required at each leaf node\n",
        "min_samples_leaf = [1, 2, 4]\n",
        "# Method of selecting samples for training each tree\n",
        "bootstrap = [True, False]# Create the random grid\n",
        "random_grid = {'n_estimators': n_estimators,\n",
        "               'max_features': max_features,\n",
        "               'max_depth': max_depth,\n",
        "               'min_samples_split': min_samples_split,\n",
        "               'min_samples_leaf': min_samples_leaf,\n",
        "               'criterion': ['absolute_error'],\n",
        "               'bootstrap': bootstrap}"
      ],
      "metadata": {
        "id": "zdAsHM14ZyIj"
      },
      "execution_count": 6,
      "outputs": []
    },
    {
      "cell_type": "code",
      "source": [
        "%%time\n",
        "from sklearn.ensemble import RandomForestRegressor\n",
        "from sklearn.model_selection import RandomizedSearchCV\n",
        "# initialize model\n",
        "rf = RandomForestRegressor()\n",
        "\n",
        "rf_random = RandomizedSearchCV(\n",
        "    estimator=rf,\n",
        "    param_distributions = random_grid,\n",
        "    scoring=\"neg_mean_absolute_error\", # strategy to evaluate the performance\n",
        "    n_iter=50,\n",
        "    cv=3, # k-fold cross-validation\n",
        "    verbose=3, # the higher, the more messages\n",
        "    random_state=42,\n",
        "    #  # use all processors\n",
        "    return_train_score=True)\n",
        "\n",
        "# train model\n",
        "rf_random.fit(X_train, y_train)"
      ],
      "metadata": {
        "colab": {
          "base_uri": "https://localhost:8080/",
          "height": 1000
        },
        "id": "tF9YKwkBaxEB",
        "outputId": "a6593c9b-01cb-47a5-b01c-8024b3ec3e2c"
      },
      "execution_count": 8,
      "outputs": [
        {
          "metadata": {
            "tags": null
          },
          "name": "stdout",
          "output_type": "stream",
          "text": [
            "Fitting 3 folds for each of 50 candidates, totalling 150 fits\n",
            "[CV 1/3] END bootstrap=True, criterion=absolute_error, max_depth=1, max_features=log2, min_samples_leaf=2, min_samples_split=5, n_estimators=500;, score=(train=-9.868, test=-10.094) total time=  36.6s\n",
            "[CV 2/3] END bootstrap=True, criterion=absolute_error, max_depth=1, max_features=log2, min_samples_leaf=2, min_samples_split=5, n_estimators=500;, score=(train=-9.951, test=-9.941) total time=  33.5s\n",
            "[CV 3/3] END bootstrap=True, criterion=absolute_error, max_depth=1, max_features=log2, min_samples_leaf=2, min_samples_split=5, n_estimators=500;, score=(train=-9.990, test=-9.855) total time=  33.2s\n",
            "[CV 1/3] END bootstrap=True, criterion=absolute_error, max_depth=50, max_features=log2, min_samples_leaf=1, min_samples_split=5, n_estimators=100;, score=(train=-5.842, test=-10.289) total time=  38.7s\n",
            "[CV 2/3] END bootstrap=True, criterion=absolute_error, max_depth=50, max_features=log2, min_samples_leaf=1, min_samples_split=5, n_estimators=100;, score=(train=-5.896, test=-10.112) total time=  39.1s\n",
            "[CV 3/3] END bootstrap=True, criterion=absolute_error, max_depth=50, max_features=log2, min_samples_leaf=1, min_samples_split=5, n_estimators=100;, score=(train=-5.870, test=-10.086) total time=  33.1s\n"
          ]
        },
        {
          "metadata": {
            "tags": null
          },
          "name": "stderr",
          "output_type": "stream",
          "text": [
            "/usr/local/lib/python3.10/dist-packages/sklearn/ensemble/_forest.py:413: FutureWarning: `max_features='auto'` has been deprecated in 1.1 and will be removed in 1.3. To keep the past behaviour, explicitly set `max_features=1.0` or remove this parameter as it is also the default value for RandomForestRegressors and ExtraTreesRegressors.\n",
            "  warn(\n"
          ]
        },
        {
          "metadata": {
            "tags": null
          },
          "name": "stdout",
          "output_type": "stream",
          "text": [
            "[CV 1/3] END bootstrap=True, criterion=absolute_error, max_depth=100, max_features=auto, min_samples_leaf=4, min_samples_split=5, n_estimators=200;, score=(train=-7.240, test=-10.298) total time= 3.3min\n"
          ]
        },
        {
          "metadata": {
            "tags": null
          },
          "name": "stderr",
          "output_type": "stream",
          "text": [
            "/usr/local/lib/python3.10/dist-packages/sklearn/ensemble/_forest.py:413: FutureWarning: `max_features='auto'` has been deprecated in 1.1 and will be removed in 1.3. To keep the past behaviour, explicitly set `max_features=1.0` or remove this parameter as it is also the default value for RandomForestRegressors and ExtraTreesRegressors.\n",
            "  warn(\n"
          ]
        },
        {
          "metadata": {
            "tags": null
          },
          "name": "stdout",
          "output_type": "stream",
          "text": [
            "[CV 2/3] END bootstrap=True, criterion=absolute_error, max_depth=100, max_features=auto, min_samples_leaf=4, min_samples_split=5, n_estimators=200;, score=(train=-7.317, test=-10.113) total time= 3.6min\n"
          ]
        },
        {
          "metadata": {
            "tags": null
          },
          "name": "stderr",
          "output_type": "stream",
          "text": [
            "/usr/local/lib/python3.10/dist-packages/sklearn/ensemble/_forest.py:413: FutureWarning: `max_features='auto'` has been deprecated in 1.1 and will be removed in 1.3. To keep the past behaviour, explicitly set `max_features=1.0` or remove this parameter as it is also the default value for RandomForestRegressors and ExtraTreesRegressors.\n",
            "  warn(\n"
          ]
        },
        {
          "output_type": "stream",
          "name": "stdout",
          "text": [
            "[CV 3/3] END bootstrap=True, criterion=absolute_error, max_depth=100, max_features=auto, min_samples_leaf=4, min_samples_split=5, n_estimators=200;, score=(train=-7.365, test=-10.051) total time= 2.9min\n"
          ]
        },
        {
          "output_type": "stream",
          "name": "stderr",
          "text": [
            "/usr/local/lib/python3.10/dist-packages/sklearn/ensemble/_forest.py:413: FutureWarning: `max_features='auto'` has been deprecated in 1.1 and will be removed in 1.3. To keep the past behaviour, explicitly set `max_features=1.0` or remove this parameter as it is also the default value for RandomForestRegressors and ExtraTreesRegressors.\n",
            "  warn(\n"
          ]
        },
        {
          "output_type": "stream",
          "name": "stdout",
          "text": [
            "[CV 1/3] END bootstrap=True, criterion=absolute_error, max_depth=40, max_features=auto, min_samples_leaf=1, min_samples_split=2, n_estimators=100;, score=(train=-4.992, test=-10.399) total time= 1.6min\n"
          ]
        },
        {
          "output_type": "stream",
          "name": "stderr",
          "text": [
            "/usr/local/lib/python3.10/dist-packages/sklearn/ensemble/_forest.py:413: FutureWarning: `max_features='auto'` has been deprecated in 1.1 and will be removed in 1.3. To keep the past behaviour, explicitly set `max_features=1.0` or remove this parameter as it is also the default value for RandomForestRegressors and ExtraTreesRegressors.\n",
            "  warn(\n"
          ]
        },
        {
          "output_type": "stream",
          "name": "stdout",
          "text": [
            "[CV 2/3] END bootstrap=True, criterion=absolute_error, max_depth=40, max_features=auto, min_samples_leaf=1, min_samples_split=2, n_estimators=100;, score=(train=-5.122, test=-10.144) total time= 1.9min\n"
          ]
        },
        {
          "output_type": "stream",
          "name": "stderr",
          "text": [
            "/usr/local/lib/python3.10/dist-packages/sklearn/ensemble/_forest.py:413: FutureWarning: `max_features='auto'` has been deprecated in 1.1 and will be removed in 1.3. To keep the past behaviour, explicitly set `max_features=1.0` or remove this parameter as it is also the default value for RandomForestRegressors and ExtraTreesRegressors.\n",
            "  warn(\n"
          ]
        },
        {
          "output_type": "stream",
          "name": "stdout",
          "text": [
            "[CV 3/3] END bootstrap=True, criterion=absolute_error, max_depth=40, max_features=auto, min_samples_leaf=1, min_samples_split=2, n_estimators=100;, score=(train=-5.091, test=-10.170) total time= 1.6min\n",
            "[CV 1/3] END bootstrap=True, criterion=absolute_error, max_depth=10, max_features=log2, min_samples_leaf=2, min_samples_split=5, n_estimators=100;, score=(train=-8.937, test=-10.120) total time=  28.7s\n",
            "[CV 2/3] END bootstrap=True, criterion=absolute_error, max_depth=10, max_features=log2, min_samples_leaf=2, min_samples_split=5, n_estimators=100;, score=(train=-9.002, test=-9.899) total time=  27.9s\n",
            "[CV 3/3] END bootstrap=True, criterion=absolute_error, max_depth=10, max_features=log2, min_samples_leaf=2, min_samples_split=5, n_estimators=100;, score=(train=-8.933, test=-9.859) total time=  26.3s\n",
            "[CV 1/3] END bootstrap=True, criterion=absolute_error, max_depth=40, max_features=log2, min_samples_leaf=1, min_samples_split=15, n_estimators=300;, score=(train=-7.289, test=-10.218) total time= 1.8min\n",
            "[CV 2/3] END bootstrap=True, criterion=absolute_error, max_depth=40, max_features=log2, min_samples_leaf=1, min_samples_split=15, n_estimators=300;, score=(train=-7.368, test=-10.012) total time= 1.8min\n",
            "[CV 3/3] END bootstrap=True, criterion=absolute_error, max_depth=40, max_features=log2, min_samples_leaf=1, min_samples_split=15, n_estimators=300;, score=(train=-7.378, test=-9.972) total time= 1.6min\n",
            "[CV 1/3] END bootstrap=False, criterion=absolute_error, max_depth=60, max_features=sqrt, min_samples_leaf=2, min_samples_split=10, n_estimators=400;, score=(train=-5.488, test=-10.369) total time= 5.4min\n",
            "[CV 2/3] END bootstrap=False, criterion=absolute_error, max_depth=60, max_features=sqrt, min_samples_leaf=2, min_samples_split=10, n_estimators=400;, score=(train=-5.462, test=-10.123) total time= 5.3min\n",
            "[CV 3/3] END bootstrap=False, criterion=absolute_error, max_depth=60, max_features=sqrt, min_samples_leaf=2, min_samples_split=10, n_estimators=400;, score=(train=-5.549, test=-10.113) total time= 5.1min\n"
          ]
        },
        {
          "output_type": "stream",
          "name": "stderr",
          "text": [
            "/usr/local/lib/python3.10/dist-packages/sklearn/ensemble/_forest.py:413: FutureWarning: `max_features='auto'` has been deprecated in 1.1 and will be removed in 1.3. To keep the past behaviour, explicitly set `max_features=1.0` or remove this parameter as it is also the default value for RandomForestRegressors and ExtraTreesRegressors.\n",
            "  warn(\n"
          ]
        },
        {
          "output_type": "stream",
          "name": "stdout",
          "text": [
            "[CV 1/3] END bootstrap=True, criterion=absolute_error, max_depth=20, max_features=auto, min_samples_leaf=4, min_samples_split=5, n_estimators=400;, score=(train=-7.700, test=-10.173) total time= 6.2min\n"
          ]
        },
        {
          "output_type": "stream",
          "name": "stderr",
          "text": [
            "/usr/local/lib/python3.10/dist-packages/sklearn/ensemble/_forest.py:413: FutureWarning: `max_features='auto'` has been deprecated in 1.1 and will be removed in 1.3. To keep the past behaviour, explicitly set `max_features=1.0` or remove this parameter as it is also the default value for RandomForestRegressors and ExtraTreesRegressors.\n",
            "  warn(\n"
          ]
        },
        {
          "output_type": "stream",
          "name": "stdout",
          "text": [
            "[CV 2/3] END bootstrap=True, criterion=absolute_error, max_depth=20, max_features=auto, min_samples_leaf=4, min_samples_split=5, n_estimators=400;, score=(train=-7.819, test=-9.970) total time= 6.7min\n"
          ]
        },
        {
          "output_type": "stream",
          "name": "stderr",
          "text": [
            "/usr/local/lib/python3.10/dist-packages/sklearn/ensemble/_forest.py:413: FutureWarning: `max_features='auto'` has been deprecated in 1.1 and will be removed in 1.3. To keep the past behaviour, explicitly set `max_features=1.0` or remove this parameter as it is also the default value for RandomForestRegressors and ExtraTreesRegressors.\n",
            "  warn(\n"
          ]
        },
        {
          "output_type": "stream",
          "name": "stdout",
          "text": [
            "[CV 3/3] END bootstrap=True, criterion=absolute_error, max_depth=20, max_features=auto, min_samples_leaf=4, min_samples_split=5, n_estimators=400;, score=(train=-7.806, test=-9.931) total time= 5.6min\n",
            "[CV 1/3] END bootstrap=False, criterion=absolute_error, max_depth=40, max_features=log2, min_samples_leaf=1, min_samples_split=2, n_estimators=300;, score=(train=-2.518, test=-10.509) total time= 4.1min\n",
            "[CV 2/3] END bootstrap=False, criterion=absolute_error, max_depth=40, max_features=log2, min_samples_leaf=1, min_samples_split=2, n_estimators=300;, score=(train=-2.555, test=-10.218) total time= 4.1min\n",
            "[CV 3/3] END bootstrap=False, criterion=absolute_error, max_depth=40, max_features=log2, min_samples_leaf=1, min_samples_split=2, n_estimators=300;, score=(train=-2.578, test=-10.270) total time= 3.9min\n",
            "[CV 1/3] END bootstrap=False, criterion=absolute_error, max_depth=80, max_features=log2, min_samples_leaf=4, min_samples_split=2, n_estimators=500;, score=(train=-6.121, test=-10.315) total time= 6.5min\n",
            "[CV 2/3] END bootstrap=False, criterion=absolute_error, max_depth=80, max_features=log2, min_samples_leaf=4, min_samples_split=2, n_estimators=500;, score=(train=-6.115, test=-10.091) total time= 6.4min\n",
            "[CV 3/3] END bootstrap=False, criterion=absolute_error, max_depth=80, max_features=log2, min_samples_leaf=4, min_samples_split=2, n_estimators=500;, score=(train=-6.200, test=-10.040) total time= 6.2min\n"
          ]
        },
        {
          "output_type": "stream",
          "name": "stderr",
          "text": [
            "/usr/local/lib/python3.10/dist-packages/sklearn/ensemble/_forest.py:413: FutureWarning: `max_features='auto'` has been deprecated in 1.1 and will be removed in 1.3. To keep the past behaviour, explicitly set `max_features=1.0` or remove this parameter as it is also the default value for RandomForestRegressors and ExtraTreesRegressors.\n",
            "  warn(\n"
          ]
        },
        {
          "output_type": "stream",
          "name": "stdout",
          "text": [
            "[CV 1/3] END bootstrap=False, criterion=absolute_error, max_depth=70, max_features=auto, min_samples_leaf=2, min_samples_split=5, n_estimators=400;, score=(train=-4.243, test=-12.563) total time=12.1min\n"
          ]
        },
        {
          "output_type": "stream",
          "name": "stderr",
          "text": [
            "/usr/local/lib/python3.10/dist-packages/sklearn/ensemble/_forest.py:413: FutureWarning: `max_features='auto'` has been deprecated in 1.1 and will be removed in 1.3. To keep the past behaviour, explicitly set `max_features=1.0` or remove this parameter as it is also the default value for RandomForestRegressors and ExtraTreesRegressors.\n",
            "  warn(\n"
          ]
        },
        {
          "output_type": "stream",
          "name": "stdout",
          "text": [
            "[CV 2/3] END bootstrap=False, criterion=absolute_error, max_depth=70, max_features=auto, min_samples_leaf=2, min_samples_split=5, n_estimators=400;, score=(train=-4.350, test=-12.505) total time=12.3min\n"
          ]
        },
        {
          "output_type": "stream",
          "name": "stderr",
          "text": [
            "/usr/local/lib/python3.10/dist-packages/sklearn/ensemble/_forest.py:413: FutureWarning: `max_features='auto'` has been deprecated in 1.1 and will be removed in 1.3. To keep the past behaviour, explicitly set `max_features=1.0` or remove this parameter as it is also the default value for RandomForestRegressors and ExtraTreesRegressors.\n",
            "  warn(\n"
          ]
        },
        {
          "output_type": "stream",
          "name": "stdout",
          "text": [
            "[CV 3/3] END bootstrap=False, criterion=absolute_error, max_depth=70, max_features=auto, min_samples_leaf=2, min_samples_split=5, n_estimators=400;, score=(train=-4.358, test=-12.455) total time=11.9min\n",
            "[CV 1/3] END bootstrap=False, criterion=absolute_error, max_depth=80, max_features=sqrt, min_samples_leaf=1, min_samples_split=5, n_estimators=500;, score=(train=-2.737, test=-10.693) total time= 7.1min\n",
            "[CV 2/3] END bootstrap=False, criterion=absolute_error, max_depth=80, max_features=sqrt, min_samples_leaf=1, min_samples_split=5, n_estimators=500;, score=(train=-2.730, test=-10.453) total time= 7.0min\n",
            "[CV 3/3] END bootstrap=False, criterion=absolute_error, max_depth=80, max_features=sqrt, min_samples_leaf=1, min_samples_split=5, n_estimators=500;, score=(train=-2.758, test=-10.506) total time= 6.6min\n"
          ]
        },
        {
          "output_type": "stream",
          "name": "stderr",
          "text": [
            "/usr/local/lib/python3.10/dist-packages/sklearn/ensemble/_forest.py:413: FutureWarning: `max_features='auto'` has been deprecated in 1.1 and will be removed in 1.3. To keep the past behaviour, explicitly set `max_features=1.0` or remove this parameter as it is also the default value for RandomForestRegressors and ExtraTreesRegressors.\n",
            "  warn(\n"
          ]
        },
        {
          "output_type": "stream",
          "name": "stdout",
          "text": [
            "[CV 1/3] END bootstrap=False, criterion=absolute_error, max_depth=80, max_features=auto, min_samples_leaf=4, min_samples_split=15, n_estimators=500;, score=(train=-6.854, test=-11.972) total time=14.6min\n"
          ]
        },
        {
          "output_type": "stream",
          "name": "stderr",
          "text": [
            "/usr/local/lib/python3.10/dist-packages/sklearn/ensemble/_forest.py:413: FutureWarning: `max_features='auto'` has been deprecated in 1.1 and will be removed in 1.3. To keep the past behaviour, explicitly set `max_features=1.0` or remove this parameter as it is also the default value for RandomForestRegressors and ExtraTreesRegressors.\n",
            "  warn(\n"
          ]
        },
        {
          "output_type": "stream",
          "name": "stdout",
          "text": [
            "[CV 2/3] END bootstrap=False, criterion=absolute_error, max_depth=80, max_features=auto, min_samples_leaf=4, min_samples_split=15, n_estimators=500;, score=(train=-6.743, test=-11.777) total time=15.0min\n"
          ]
        },
        {
          "output_type": "stream",
          "name": "stderr",
          "text": [
            "/usr/local/lib/python3.10/dist-packages/sklearn/ensemble/_forest.py:413: FutureWarning: `max_features='auto'` has been deprecated in 1.1 and will be removed in 1.3. To keep the past behaviour, explicitly set `max_features=1.0` or remove this parameter as it is also the default value for RandomForestRegressors and ExtraTreesRegressors.\n",
            "  warn(\n"
          ]
        },
        {
          "output_type": "stream",
          "name": "stdout",
          "text": [
            "[CV 3/3] END bootstrap=False, criterion=absolute_error, max_depth=80, max_features=auto, min_samples_leaf=4, min_samples_split=15, n_estimators=500;, score=(train=-6.863, test=-12.061) total time=14.4min\n",
            "[CV 1/3] END bootstrap=True, criterion=absolute_error, max_depth=10, max_features=log2, min_samples_leaf=4, min_samples_split=10, n_estimators=500;, score=(train=-9.020, test=-10.114) total time= 2.4min\n",
            "[CV 2/3] END bootstrap=True, criterion=absolute_error, max_depth=10, max_features=log2, min_samples_leaf=4, min_samples_split=10, n_estimators=500;, score=(train=-9.103, test=-9.916) total time= 2.4min\n",
            "[CV 3/3] END bootstrap=True, criterion=absolute_error, max_depth=10, max_features=log2, min_samples_leaf=4, min_samples_split=10, n_estimators=500;, score=(train=-9.058, test=-9.860) total time= 2.2min\n",
            "[CV 1/3] END bootstrap=False, criterion=absolute_error, max_depth=80, max_features=sqrt, min_samples_leaf=2, min_samples_split=10, n_estimators=200;, score=(train=-5.481, test=-10.379) total time= 2.7min\n",
            "[CV 2/3] END bootstrap=False, criterion=absolute_error, max_depth=80, max_features=sqrt, min_samples_leaf=2, min_samples_split=10, n_estimators=200;, score=(train=-5.446, test=-10.128) total time= 2.6min\n",
            "[CV 3/3] END bootstrap=False, criterion=absolute_error, max_depth=80, max_features=sqrt, min_samples_leaf=2, min_samples_split=10, n_estimators=200;, score=(train=-5.556, test=-10.132) total time= 2.6min\n",
            "[CV 1/3] END bootstrap=False, criterion=absolute_error, max_depth=1, max_features=log2, min_samples_leaf=4, min_samples_split=15, n_estimators=500;, score=(train=-9.868, test=-10.096) total time= 1.2min\n",
            "[CV 2/3] END bootstrap=False, criterion=absolute_error, max_depth=1, max_features=log2, min_samples_leaf=4, min_samples_split=15, n_estimators=500;, score=(train=-9.951, test=-9.944) total time= 1.3min\n",
            "[CV 3/3] END bootstrap=False, criterion=absolute_error, max_depth=1, max_features=log2, min_samples_leaf=4, min_samples_split=15, n_estimators=500;, score=(train=-9.990, test=-9.859) total time= 1.2min\n",
            "[CV 1/3] END bootstrap=False, criterion=absolute_error, max_depth=30, max_features=log2, min_samples_leaf=1, min_samples_split=10, n_estimators=100;, score=(train=-5.266, test=-10.327) total time= 1.3min\n",
            "[CV 2/3] END bootstrap=False, criterion=absolute_error, max_depth=30, max_features=log2, min_samples_leaf=1, min_samples_split=10, n_estimators=100;, score=(train=-5.306, test=-10.060) total time= 1.3min\n",
            "[CV 3/3] END bootstrap=False, criterion=absolute_error, max_depth=30, max_features=log2, min_samples_leaf=1, min_samples_split=10, n_estimators=100;, score=(train=-5.349, test=-10.088) total time= 1.3min\n"
          ]
        },
        {
          "output_type": "stream",
          "name": "stderr",
          "text": [
            "/usr/local/lib/python3.10/dist-packages/sklearn/ensemble/_forest.py:413: FutureWarning: `max_features='auto'` has been deprecated in 1.1 and will be removed in 1.3. To keep the past behaviour, explicitly set `max_features=1.0` or remove this parameter as it is also the default value for RandomForestRegressors and ExtraTreesRegressors.\n",
            "  warn(\n"
          ]
        },
        {
          "output_type": "stream",
          "name": "stdout",
          "text": [
            "[CV 1/3] END bootstrap=False, criterion=absolute_error, max_depth=60, max_features=auto, min_samples_leaf=2, min_samples_split=15, n_estimators=100;, score=(train=-6.284, test=-12.171) total time= 3.0min\n"
          ]
        },
        {
          "output_type": "stream",
          "name": "stderr",
          "text": [
            "/usr/local/lib/python3.10/dist-packages/sklearn/ensemble/_forest.py:413: FutureWarning: `max_features='auto'` has been deprecated in 1.1 and will be removed in 1.3. To keep the past behaviour, explicitly set `max_features=1.0` or remove this parameter as it is also the default value for RandomForestRegressors and ExtraTreesRegressors.\n",
            "  warn(\n"
          ]
        },
        {
          "output_type": "stream",
          "name": "stdout",
          "text": [
            "[CV 2/3] END bootstrap=False, criterion=absolute_error, max_depth=60, max_features=auto, min_samples_leaf=2, min_samples_split=15, n_estimators=100;, score=(train=-6.279, test=-12.067) total time= 3.0min\n"
          ]
        },
        {
          "output_type": "stream",
          "name": "stderr",
          "text": [
            "/usr/local/lib/python3.10/dist-packages/sklearn/ensemble/_forest.py:413: FutureWarning: `max_features='auto'` has been deprecated in 1.1 and will be removed in 1.3. To keep the past behaviour, explicitly set `max_features=1.0` or remove this parameter as it is also the default value for RandomForestRegressors and ExtraTreesRegressors.\n",
            "  warn(\n"
          ]
        },
        {
          "output_type": "stream",
          "name": "stdout",
          "text": [
            "[CV 3/3] END bootstrap=False, criterion=absolute_error, max_depth=60, max_features=auto, min_samples_leaf=2, min_samples_split=15, n_estimators=100;, score=(train=-6.413, test=-12.047) total time= 3.0min\n",
            "[CV 1/3] END bootstrap=False, criterion=absolute_error, max_depth=20, max_features=log2, min_samples_leaf=4, min_samples_split=5, n_estimators=200;, score=(train=-6.752, test=-10.233) total time= 2.5min\n",
            "[CV 2/3] END bootstrap=False, criterion=absolute_error, max_depth=20, max_features=log2, min_samples_leaf=4, min_samples_split=5, n_estimators=200;, score=(train=-6.782, test=-9.986) total time= 2.4min\n",
            "[CV 3/3] END bootstrap=False, criterion=absolute_error, max_depth=20, max_features=log2, min_samples_leaf=4, min_samples_split=5, n_estimators=200;, score=(train=-6.793, test=-9.983) total time= 2.4min\n",
            "[CV 1/3] END bootstrap=True, criterion=absolute_error, max_depth=60, max_features=sqrt, min_samples_leaf=4, min_samples_split=5, n_estimators=500;, score=(train=-7.730, test=-10.169) total time= 2.9min\n",
            "[CV 2/3] END bootstrap=True, criterion=absolute_error, max_depth=60, max_features=sqrt, min_samples_leaf=4, min_samples_split=5, n_estimators=500;, score=(train=-7.789, test=-9.999) total time= 2.8min\n",
            "[CV 3/3] END bootstrap=True, criterion=absolute_error, max_depth=60, max_features=sqrt, min_samples_leaf=4, min_samples_split=5, n_estimators=500;, score=(train=-7.826, test=-9.919) total time= 2.6min\n",
            "[CV 1/3] END bootstrap=True, criterion=absolute_error, max_depth=100, max_features=sqrt, min_samples_leaf=1, min_samples_split=10, n_estimators=500;, score=(train=-6.556, test=-10.290) total time= 3.0min\n",
            "[CV 2/3] END bootstrap=True, criterion=absolute_error, max_depth=100, max_features=sqrt, min_samples_leaf=1, min_samples_split=10, n_estimators=500;, score=(train=-6.623, test=-10.100) total time= 3.1min\n",
            "[CV 3/3] END bootstrap=True, criterion=absolute_error, max_depth=100, max_features=sqrt, min_samples_leaf=1, min_samples_split=10, n_estimators=500;, score=(train=-6.631, test=-10.074) total time= 2.7min\n",
            "[CV 1/3] END bootstrap=False, criterion=absolute_error, max_depth=20, max_features=sqrt, min_samples_leaf=1, min_samples_split=2, n_estimators=100;, score=(train=-5.055, test=-10.275) total time= 1.3min\n",
            "[CV 2/3] END bootstrap=False, criterion=absolute_error, max_depth=20, max_features=sqrt, min_samples_leaf=1, min_samples_split=2, n_estimators=100;, score=(train=-5.098, test=-10.000) total time= 1.2min\n",
            "[CV 3/3] END bootstrap=False, criterion=absolute_error, max_depth=20, max_features=sqrt, min_samples_leaf=1, min_samples_split=2, n_estimators=100;, score=(train=-5.077, test=-10.018) total time= 1.2min\n",
            "[CV 1/3] END bootstrap=True, criterion=absolute_error, max_depth=60, max_features=log2, min_samples_leaf=2, min_samples_split=10, n_estimators=200;, score=(train=-7.324, test=-10.193) total time= 1.2min\n",
            "[CV 2/3] END bootstrap=True, criterion=absolute_error, max_depth=60, max_features=log2, min_samples_leaf=2, min_samples_split=10, n_estimators=200;, score=(train=-7.367, test=-10.024) total time= 1.2min\n",
            "[CV 3/3] END bootstrap=True, criterion=absolute_error, max_depth=60, max_features=log2, min_samples_leaf=2, min_samples_split=10, n_estimators=200;, score=(train=-7.401, test=-9.963) total time= 1.1min\n",
            "[CV 1/3] END bootstrap=False, criterion=absolute_error, max_depth=80, max_features=log2, min_samples_leaf=1, min_samples_split=15, n_estimators=300;, score=(train=-5.180, test=-10.489) total time= 4.1min\n",
            "[CV 2/3] END bootstrap=False, criterion=absolute_error, max_depth=80, max_features=log2, min_samples_leaf=1, min_samples_split=15, n_estimators=300;, score=(train=-5.216, test=-10.217) total time= 4.2min\n",
            "[CV 3/3] END bootstrap=False, criterion=absolute_error, max_depth=80, max_features=log2, min_samples_leaf=1, min_samples_split=15, n_estimators=300;, score=(train=-5.231, test=-10.262) total time= 4.0min\n",
            "[CV 1/3] END bootstrap=False, criterion=absolute_error, max_depth=100, max_features=sqrt, min_samples_leaf=2, min_samples_split=10, n_estimators=100;, score=(train=-5.488, test=-10.364) total time= 1.4min\n",
            "[CV 2/3] END bootstrap=False, criterion=absolute_error, max_depth=100, max_features=sqrt, min_samples_leaf=2, min_samples_split=10, n_estimators=100;, score=(train=-5.463, test=-10.169) total time= 1.3min\n",
            "[CV 3/3] END bootstrap=False, criterion=absolute_error, max_depth=100, max_features=sqrt, min_samples_leaf=2, min_samples_split=10, n_estimators=100;, score=(train=-5.574, test=-10.119) total time= 1.3min\n",
            "[CV 1/3] END bootstrap=True, criterion=absolute_error, max_depth=10, max_features=sqrt, min_samples_leaf=2, min_samples_split=10, n_estimators=100;, score=(train=-9.004, test=-10.119) total time=  29.3s\n",
            "[CV 2/3] END bootstrap=True, criterion=absolute_error, max_depth=10, max_features=sqrt, min_samples_leaf=2, min_samples_split=10, n_estimators=100;, score=(train=-9.077, test=-9.921) total time=  28.0s\n",
            "[CV 3/3] END bootstrap=True, criterion=absolute_error, max_depth=10, max_features=sqrt, min_samples_leaf=2, min_samples_split=10, n_estimators=100;, score=(train=-9.068, test=-9.837) total time=  27.2s\n"
          ]
        },
        {
          "output_type": "stream",
          "name": "stderr",
          "text": [
            "/usr/local/lib/python3.10/dist-packages/sklearn/ensemble/_forest.py:413: FutureWarning: `max_features='auto'` has been deprecated in 1.1 and will be removed in 1.3. To keep the past behaviour, explicitly set `max_features=1.0` or remove this parameter as it is also the default value for RandomForestRegressors and ExtraTreesRegressors.\n",
            "  warn(\n"
          ]
        },
        {
          "output_type": "stream",
          "name": "stdout",
          "text": [
            "[CV 1/3] END bootstrap=False, criterion=absolute_error, max_depth=10, max_features=auto, min_samples_leaf=1, min_samples_split=15, n_estimators=400;, score=(train=-8.691, test=-10.797) total time=10.2min\n"
          ]
        },
        {
          "output_type": "stream",
          "name": "stderr",
          "text": [
            "/usr/local/lib/python3.10/dist-packages/sklearn/ensemble/_forest.py:413: FutureWarning: `max_features='auto'` has been deprecated in 1.1 and will be removed in 1.3. To keep the past behaviour, explicitly set `max_features=1.0` or remove this parameter as it is also the default value for RandomForestRegressors and ExtraTreesRegressors.\n",
            "  warn(\n"
          ]
        },
        {
          "output_type": "stream",
          "name": "stdout",
          "text": [
            "[CV 2/3] END bootstrap=False, criterion=absolute_error, max_depth=10, max_features=auto, min_samples_leaf=1, min_samples_split=15, n_estimators=400;, score=(train=-8.653, test=-10.598) total time=10.3min\n"
          ]
        },
        {
          "output_type": "stream",
          "name": "stderr",
          "text": [
            "/usr/local/lib/python3.10/dist-packages/sklearn/ensemble/_forest.py:413: FutureWarning: `max_features='auto'` has been deprecated in 1.1 and will be removed in 1.3. To keep the past behaviour, explicitly set `max_features=1.0` or remove this parameter as it is also the default value for RandomForestRegressors and ExtraTreesRegressors.\n",
            "  warn(\n"
          ]
        },
        {
          "output_type": "stream",
          "name": "stdout",
          "text": [
            "[CV 3/3] END bootstrap=False, criterion=absolute_error, max_depth=10, max_features=auto, min_samples_leaf=1, min_samples_split=15, n_estimators=400;, score=(train=-8.495, test=-10.900) total time=10.2min\n",
            "[CV 1/3] END bootstrap=True, criterion=absolute_error, max_depth=80, max_features=log2, min_samples_leaf=4, min_samples_split=10, n_estimators=100;, score=(train=-7.823, test=-10.184) total time=  33.2s\n",
            "[CV 2/3] END bootstrap=True, criterion=absolute_error, max_depth=80, max_features=log2, min_samples_leaf=4, min_samples_split=10, n_estimators=100;, score=(train=-7.870, test=-10.017) total time=  33.7s\n",
            "[CV 3/3] END bootstrap=True, criterion=absolute_error, max_depth=80, max_features=log2, min_samples_leaf=4, min_samples_split=10, n_estimators=100;, score=(train=-7.913, test=-9.949) total time=  30.7s\n",
            "[CV 1/3] END bootstrap=True, criterion=absolute_error, max_depth=90, max_features=log2, min_samples_leaf=1, min_samples_split=5, n_estimators=100;, score=(train=-5.624, test=-10.389) total time=  37.4s\n",
            "[CV 2/3] END bootstrap=True, criterion=absolute_error, max_depth=90, max_features=log2, min_samples_leaf=1, min_samples_split=5, n_estimators=100;, score=(train=-5.659, test=-10.182) total time=  38.4s\n",
            "[CV 3/3] END bootstrap=True, criterion=absolute_error, max_depth=90, max_features=log2, min_samples_leaf=1, min_samples_split=5, n_estimators=100;, score=(train=-5.686, test=-10.183) total time=  33.4s\n",
            "[CV 1/3] END bootstrap=True, criterion=absolute_error, max_depth=90, max_features=log2, min_samples_leaf=4, min_samples_split=15, n_estimators=100;, score=(train=-8.000, test=-10.152) total time=  34.4s\n",
            "[CV 2/3] END bootstrap=True, criterion=absolute_error, max_depth=90, max_features=log2, min_samples_leaf=4, min_samples_split=15, n_estimators=100;, score=(train=-8.061, test=-10.010) total time=  32.8s\n",
            "[CV 3/3] END bootstrap=True, criterion=absolute_error, max_depth=90, max_features=log2, min_samples_leaf=4, min_samples_split=15, n_estimators=100;, score=(train=-8.105, test=-9.918) total time=  30.0s\n"
          ]
        },
        {
          "output_type": "stream",
          "name": "stderr",
          "text": [
            "/usr/local/lib/python3.10/dist-packages/sklearn/ensemble/_forest.py:413: FutureWarning: `max_features='auto'` has been deprecated in 1.1 and will be removed in 1.3. To keep the past behaviour, explicitly set `max_features=1.0` or remove this parameter as it is also the default value for RandomForestRegressors and ExtraTreesRegressors.\n",
            "  warn(\n"
          ]
        },
        {
          "output_type": "stream",
          "name": "stdout",
          "text": [
            "[CV 1/3] END bootstrap=True, criterion=absolute_error, max_depth=10, max_features=auto, min_samples_leaf=2, min_samples_split=10, n_estimators=200;, score=(train=-8.789, test=-10.139) total time= 2.7min\n"
          ]
        },
        {
          "output_type": "stream",
          "name": "stderr",
          "text": [
            "/usr/local/lib/python3.10/dist-packages/sklearn/ensemble/_forest.py:413: FutureWarning: `max_features='auto'` has been deprecated in 1.1 and will be removed in 1.3. To keep the past behaviour, explicitly set `max_features=1.0` or remove this parameter as it is also the default value for RandomForestRegressors and ExtraTreesRegressors.\n",
            "  warn(\n"
          ]
        },
        {
          "output_type": "stream",
          "name": "stdout",
          "text": [
            "[CV 2/3] END bootstrap=True, criterion=absolute_error, max_depth=10, max_features=auto, min_samples_leaf=2, min_samples_split=10, n_estimators=200;, score=(train=-8.927, test=-9.902) total time= 2.9min\n"
          ]
        },
        {
          "output_type": "stream",
          "name": "stderr",
          "text": [
            "/usr/local/lib/python3.10/dist-packages/sklearn/ensemble/_forest.py:413: FutureWarning: `max_features='auto'` has been deprecated in 1.1 and will be removed in 1.3. To keep the past behaviour, explicitly set `max_features=1.0` or remove this parameter as it is also the default value for RandomForestRegressors and ExtraTreesRegressors.\n",
            "  warn(\n"
          ]
        },
        {
          "output_type": "stream",
          "name": "stdout",
          "text": [
            "[CV 3/3] END bootstrap=True, criterion=absolute_error, max_depth=10, max_features=auto, min_samples_leaf=2, min_samples_split=10, n_estimators=200;, score=(train=-8.877, test=-9.880) total time= 2.6min\n",
            "[CV 1/3] END bootstrap=False, criterion=absolute_error, max_depth=70, max_features=log2, min_samples_leaf=1, min_samples_split=15, n_estimators=300;, score=(train=-5.200, test=-10.458) total time= 4.1min\n",
            "[CV 2/3] END bootstrap=False, criterion=absolute_error, max_depth=70, max_features=log2, min_samples_leaf=1, min_samples_split=15, n_estimators=300;, score=(train=-5.262, test=-10.197) total time= 4.0min\n",
            "[CV 3/3] END bootstrap=False, criterion=absolute_error, max_depth=70, max_features=log2, min_samples_leaf=1, min_samples_split=15, n_estimators=300;, score=(train=-5.276, test=-10.234) total time= 3.9min\n"
          ]
        },
        {
          "output_type": "stream",
          "name": "stderr",
          "text": [
            "/usr/local/lib/python3.10/dist-packages/sklearn/ensemble/_forest.py:413: FutureWarning: `max_features='auto'` has been deprecated in 1.1 and will be removed in 1.3. To keep the past behaviour, explicitly set `max_features=1.0` or remove this parameter as it is also the default value for RandomForestRegressors and ExtraTreesRegressors.\n",
            "  warn(\n"
          ]
        },
        {
          "output_type": "stream",
          "name": "stdout",
          "text": [
            "[CV 1/3] END bootstrap=True, criterion=absolute_error, max_depth=90, max_features=auto, min_samples_leaf=2, min_samples_split=2, n_estimators=200;, score=(train=-6.241, test=-10.344) total time= 3.3min\n"
          ]
        },
        {
          "output_type": "stream",
          "name": "stderr",
          "text": [
            "/usr/local/lib/python3.10/dist-packages/sklearn/ensemble/_forest.py:413: FutureWarning: `max_features='auto'` has been deprecated in 1.1 and will be removed in 1.3. To keep the past behaviour, explicitly set `max_features=1.0` or remove this parameter as it is also the default value for RandomForestRegressors and ExtraTreesRegressors.\n",
            "  warn(\n"
          ]
        },
        {
          "output_type": "stream",
          "name": "stdout",
          "text": [
            "[CV 2/3] END bootstrap=True, criterion=absolute_error, max_depth=90, max_features=auto, min_samples_leaf=2, min_samples_split=2, n_estimators=200;, score=(train=-6.301, test=-10.136) total time= 3.5min\n"
          ]
        },
        {
          "output_type": "stream",
          "name": "stderr",
          "text": [
            "/usr/local/lib/python3.10/dist-packages/sklearn/ensemble/_forest.py:413: FutureWarning: `max_features='auto'` has been deprecated in 1.1 and will be removed in 1.3. To keep the past behaviour, explicitly set `max_features=1.0` or remove this parameter as it is also the default value for RandomForestRegressors and ExtraTreesRegressors.\n",
            "  warn(\n"
          ]
        },
        {
          "output_type": "stream",
          "name": "stdout",
          "text": [
            "[CV 3/3] END bootstrap=True, criterion=absolute_error, max_depth=90, max_features=auto, min_samples_leaf=2, min_samples_split=2, n_estimators=200;, score=(train=-6.366, test=-10.119) total time= 3.0min\n",
            "[CV 1/3] END bootstrap=False, criterion=absolute_error, max_depth=60, max_features=sqrt, min_samples_leaf=1, min_samples_split=5, n_estimators=500;, score=(train=-2.910, test=-10.592) total time= 6.9min\n",
            "[CV 2/3] END bootstrap=False, criterion=absolute_error, max_depth=60, max_features=sqrt, min_samples_leaf=1, min_samples_split=5, n_estimators=500;, score=(train=-2.972, test=-10.294) total time= 6.9min\n",
            "[CV 3/3] END bootstrap=False, criterion=absolute_error, max_depth=60, max_features=sqrt, min_samples_leaf=1, min_samples_split=5, n_estimators=500;, score=(train=-3.049, test=-10.345) total time= 6.5min\n"
          ]
        },
        {
          "output_type": "stream",
          "name": "stderr",
          "text": [
            "/usr/local/lib/python3.10/dist-packages/sklearn/ensemble/_forest.py:413: FutureWarning: `max_features='auto'` has been deprecated in 1.1 and will be removed in 1.3. To keep the past behaviour, explicitly set `max_features=1.0` or remove this parameter as it is also the default value for RandomForestRegressors and ExtraTreesRegressors.\n",
            "  warn(\n"
          ]
        },
        {
          "output_type": "stream",
          "name": "stdout",
          "text": [
            "[CV 1/3] END bootstrap=True, criterion=absolute_error, max_depth=1, max_features=auto, min_samples_leaf=1, min_samples_split=10, n_estimators=500;, score=(train=-9.857, test=-10.093) total time= 1.7min\n"
          ]
        },
        {
          "output_type": "stream",
          "name": "stderr",
          "text": [
            "/usr/local/lib/python3.10/dist-packages/sklearn/ensemble/_forest.py:413: FutureWarning: `max_features='auto'` has been deprecated in 1.1 and will be removed in 1.3. To keep the past behaviour, explicitly set `max_features=1.0` or remove this parameter as it is also the default value for RandomForestRegressors and ExtraTreesRegressors.\n",
            "  warn(\n"
          ]
        },
        {
          "output_type": "stream",
          "name": "stdout",
          "text": [
            "[CV 2/3] END bootstrap=True, criterion=absolute_error, max_depth=1, max_features=auto, min_samples_leaf=1, min_samples_split=10, n_estimators=500;, score=(train=-9.943, test=-9.938) total time= 1.7min\n"
          ]
        },
        {
          "output_type": "stream",
          "name": "stderr",
          "text": [
            "/usr/local/lib/python3.10/dist-packages/sklearn/ensemble/_forest.py:413: FutureWarning: `max_features='auto'` has been deprecated in 1.1 and will be removed in 1.3. To keep the past behaviour, explicitly set `max_features=1.0` or remove this parameter as it is also the default value for RandomForestRegressors and ExtraTreesRegressors.\n",
            "  warn(\n"
          ]
        },
        {
          "output_type": "stream",
          "name": "stdout",
          "text": [
            "[CV 3/3] END bootstrap=True, criterion=absolute_error, max_depth=1, max_features=auto, min_samples_leaf=1, min_samples_split=10, n_estimators=500;, score=(train=-9.971, test=-9.856) total time= 1.7min\n",
            "[CV 1/3] END bootstrap=False, criterion=absolute_error, max_depth=40, max_features=log2, min_samples_leaf=1, min_samples_split=2, n_estimators=100;, score=(train=-2.529, test=-10.511) total time= 1.4min\n",
            "[CV 2/3] END bootstrap=False, criterion=absolute_error, max_depth=40, max_features=log2, min_samples_leaf=1, min_samples_split=2, n_estimators=100;, score=(train=-2.528, test=-10.219) total time= 1.4min\n",
            "[CV 3/3] END bootstrap=False, criterion=absolute_error, max_depth=40, max_features=log2, min_samples_leaf=1, min_samples_split=2, n_estimators=100;, score=(train=-2.593, test=-10.272) total time= 1.3min\n",
            "[CV 1/3] END bootstrap=True, criterion=absolute_error, max_depth=100, max_features=sqrt, min_samples_leaf=4, min_samples_split=10, n_estimators=300;, score=(train=-7.807, test=-10.172) total time= 1.6min\n",
            "[CV 2/3] END bootstrap=True, criterion=absolute_error, max_depth=100, max_features=sqrt, min_samples_leaf=4, min_samples_split=10, n_estimators=300;, score=(train=-7.867, test=-9.998) total time= 1.8min\n",
            "[CV 3/3] END bootstrap=True, criterion=absolute_error, max_depth=100, max_features=sqrt, min_samples_leaf=4, min_samples_split=10, n_estimators=300;, score=(train=-7.899, test=-9.920) total time= 1.6min\n",
            "[CV 1/3] END bootstrap=False, criterion=absolute_error, max_depth=20, max_features=log2, min_samples_leaf=4, min_samples_split=2, n_estimators=100;, score=(train=-6.762, test=-10.251) total time= 1.2min\n",
            "[CV 2/3] END bootstrap=False, criterion=absolute_error, max_depth=20, max_features=log2, min_samples_leaf=4, min_samples_split=2, n_estimators=100;, score=(train=-6.836, test=-9.967) total time= 1.2min\n",
            "[CV 3/3] END bootstrap=False, criterion=absolute_error, max_depth=20, max_features=log2, min_samples_leaf=4, min_samples_split=2, n_estimators=100;, score=(train=-6.811, test=-9.987) total time= 1.2min\n",
            "[CV 1/3] END bootstrap=False, criterion=absolute_error, max_depth=10, max_features=sqrt, min_samples_leaf=4, min_samples_split=5, n_estimators=400;, score=(train=-8.723, test=-10.145) total time= 4.4min\n",
            "[CV 2/3] END bootstrap=False, criterion=absolute_error, max_depth=10, max_features=sqrt, min_samples_leaf=4, min_samples_split=5, n_estimators=400;, score=(train=-8.752, test=-9.915) total time= 4.1min\n",
            "[CV 3/3] END bootstrap=False, criterion=absolute_error, max_depth=10, max_features=sqrt, min_samples_leaf=4, min_samples_split=5, n_estimators=400;, score=(train=-8.715, test=-9.902) total time= 4.1min\n",
            "[CV 1/3] END bootstrap=False, criterion=absolute_error, max_depth=70, max_features=log2, min_samples_leaf=1, min_samples_split=2, n_estimators=200;, score=(train=-1.334, test=-10.901) total time= 2.8min\n",
            "[CV 2/3] END bootstrap=False, criterion=absolute_error, max_depth=70, max_features=log2, min_samples_leaf=1, min_samples_split=2, n_estimators=200;, score=(train=-1.420, test=-10.547) total time= 2.8min\n",
            "[CV 3/3] END bootstrap=False, criterion=absolute_error, max_depth=70, max_features=log2, min_samples_leaf=1, min_samples_split=2, n_estimators=200;, score=(train=-1.409, test=-10.685) total time= 2.7min\n"
          ]
        },
        {
          "output_type": "stream",
          "name": "stderr",
          "text": [
            "/usr/local/lib/python3.10/dist-packages/sklearn/ensemble/_forest.py:413: FutureWarning: `max_features='auto'` has been deprecated in 1.1 and will be removed in 1.3. To keep the past behaviour, explicitly set `max_features=1.0` or remove this parameter as it is also the default value for RandomForestRegressors and ExtraTreesRegressors.\n",
            "  warn(\n"
          ]
        },
        {
          "output_type": "stream",
          "name": "stdout",
          "text": [
            "[CV 1/3] END bootstrap=False, criterion=absolute_error, max_depth=1, max_features=auto, min_samples_leaf=2, min_samples_split=2, n_estimators=400;, score=(train=-9.868, test=-10.095) total time= 2.9min\n"
          ]
        },
        {
          "output_type": "stream",
          "name": "stderr",
          "text": [
            "/usr/local/lib/python3.10/dist-packages/sklearn/ensemble/_forest.py:413: FutureWarning: `max_features='auto'` has been deprecated in 1.1 and will be removed in 1.3. To keep the past behaviour, explicitly set `max_features=1.0` or remove this parameter as it is also the default value for RandomForestRegressors and ExtraTreesRegressors.\n",
            "  warn(\n"
          ]
        },
        {
          "output_type": "stream",
          "name": "stdout",
          "text": [
            "[CV 2/3] END bootstrap=False, criterion=absolute_error, max_depth=1, max_features=auto, min_samples_leaf=2, min_samples_split=2, n_estimators=400;, score=(train=-9.953, test=-9.942) total time= 3.0min\n"
          ]
        },
        {
          "output_type": "stream",
          "name": "stderr",
          "text": [
            "/usr/local/lib/python3.10/dist-packages/sklearn/ensemble/_forest.py:413: FutureWarning: `max_features='auto'` has been deprecated in 1.1 and will be removed in 1.3. To keep the past behaviour, explicitly set `max_features=1.0` or remove this parameter as it is also the default value for RandomForestRegressors and ExtraTreesRegressors.\n",
            "  warn(\n"
          ]
        },
        {
          "output_type": "stream",
          "name": "stdout",
          "text": [
            "[CV 3/3] END bootstrap=False, criterion=absolute_error, max_depth=1, max_features=auto, min_samples_leaf=2, min_samples_split=2, n_estimators=400;, score=(train=-9.985, test=-9.858) total time= 2.9min\n"
          ]
        },
        {
          "output_type": "stream",
          "name": "stderr",
          "text": [
            "/usr/local/lib/python3.10/dist-packages/sklearn/ensemble/_forest.py:413: FutureWarning: `max_features='auto'` has been deprecated in 1.1 and will be removed in 1.3. To keep the past behaviour, explicitly set `max_features=1.0` or remove this parameter as it is also the default value for RandomForestRegressors and ExtraTreesRegressors.\n",
            "  warn(\n"
          ]
        },
        {
          "output_type": "stream",
          "name": "stdout",
          "text": [
            "[CV 1/3] END bootstrap=False, criterion=absolute_error, max_depth=100, max_features=auto, min_samples_leaf=1, min_samples_split=10, n_estimators=100;, score=(train=-4.831, test=-12.615) total time= 3.1min\n"
          ]
        },
        {
          "output_type": "stream",
          "name": "stderr",
          "text": [
            "/usr/local/lib/python3.10/dist-packages/sklearn/ensemble/_forest.py:413: FutureWarning: `max_features='auto'` has been deprecated in 1.1 and will be removed in 1.3. To keep the past behaviour, explicitly set `max_features=1.0` or remove this parameter as it is also the default value for RandomForestRegressors and ExtraTreesRegressors.\n",
            "  warn(\n"
          ]
        },
        {
          "output_type": "stream",
          "name": "stdout",
          "text": [
            "[CV 2/3] END bootstrap=False, criterion=absolute_error, max_depth=100, max_features=auto, min_samples_leaf=1, min_samples_split=10, n_estimators=100;, score=(train=-4.798, test=-12.439) total time= 3.1min\n"
          ]
        },
        {
          "output_type": "stream",
          "name": "stderr",
          "text": [
            "/usr/local/lib/python3.10/dist-packages/sklearn/ensemble/_forest.py:413: FutureWarning: `max_features='auto'` has been deprecated in 1.1 and will be removed in 1.3. To keep the past behaviour, explicitly set `max_features=1.0` or remove this parameter as it is also the default value for RandomForestRegressors and ExtraTreesRegressors.\n",
            "  warn(\n"
          ]
        },
        {
          "output_type": "stream",
          "name": "stdout",
          "text": [
            "[CV 3/3] END bootstrap=False, criterion=absolute_error, max_depth=100, max_features=auto, min_samples_leaf=1, min_samples_split=10, n_estimators=100;, score=(train=-4.858, test=-12.355) total time= 3.0min\n"
          ]
        },
        {
          "output_type": "stream",
          "name": "stderr",
          "text": [
            "/usr/local/lib/python3.10/dist-packages/sklearn/ensemble/_forest.py:413: FutureWarning: `max_features='auto'` has been deprecated in 1.1 and will be removed in 1.3. To keep the past behaviour, explicitly set `max_features=1.0` or remove this parameter as it is also the default value for RandomForestRegressors and ExtraTreesRegressors.\n",
            "  warn(\n"
          ]
        },
        {
          "output_type": "stream",
          "name": "stdout",
          "text": [
            "[CV 1/3] END bootstrap=True, criterion=absolute_error, max_depth=50, max_features=auto, min_samples_leaf=1, min_samples_split=10, n_estimators=300;, score=(train=-6.332, test=-10.274) total time= 5.0min\n"
          ]
        },
        {
          "output_type": "stream",
          "name": "stderr",
          "text": [
            "/usr/local/lib/python3.10/dist-packages/sklearn/ensemble/_forest.py:413: FutureWarning: `max_features='auto'` has been deprecated in 1.1 and will be removed in 1.3. To keep the past behaviour, explicitly set `max_features=1.0` or remove this parameter as it is also the default value for RandomForestRegressors and ExtraTreesRegressors.\n",
            "  warn(\n"
          ]
        },
        {
          "output_type": "stream",
          "name": "stdout",
          "text": [
            "[CV 2/3] END bootstrap=True, criterion=absolute_error, max_depth=50, max_features=auto, min_samples_leaf=1, min_samples_split=10, n_estimators=300;, score=(train=-6.383, test=-10.081) total time= 5.5min\n"
          ]
        },
        {
          "output_type": "stream",
          "name": "stderr",
          "text": [
            "/usr/local/lib/python3.10/dist-packages/sklearn/ensemble/_forest.py:413: FutureWarning: `max_features='auto'` has been deprecated in 1.1 and will be removed in 1.3. To keep the past behaviour, explicitly set `max_features=1.0` or remove this parameter as it is also the default value for RandomForestRegressors and ExtraTreesRegressors.\n",
            "  warn(\n"
          ]
        },
        {
          "output_type": "stream",
          "name": "stdout",
          "text": [
            "[CV 3/3] END bootstrap=True, criterion=absolute_error, max_depth=50, max_features=auto, min_samples_leaf=1, min_samples_split=10, n_estimators=300;, score=(train=-6.402, test=-10.078) total time= 4.5min\n",
            "[CV 1/3] END bootstrap=True, criterion=absolute_error, max_depth=10, max_features=sqrt, min_samples_leaf=1, min_samples_split=2, n_estimators=100;, score=(train=-8.811, test=-10.106) total time=  29.0s\n",
            "[CV 2/3] END bootstrap=True, criterion=absolute_error, max_depth=10, max_features=sqrt, min_samples_leaf=1, min_samples_split=2, n_estimators=100;, score=(train=-8.916, test=-9.922) total time=  29.2s\n",
            "[CV 3/3] END bootstrap=True, criterion=absolute_error, max_depth=10, max_features=sqrt, min_samples_leaf=1, min_samples_split=2, n_estimators=100;, score=(train=-8.830, test=-9.881) total time=  26.5s\n",
            "[CV 1/3] END bootstrap=True, criterion=absolute_error, max_depth=40, max_features=sqrt, min_samples_leaf=2, min_samples_split=15, n_estimators=400;, score=(train=-7.661, test=-10.156) total time= 2.4min\n",
            "[CV 2/3] END bootstrap=True, criterion=absolute_error, max_depth=40, max_features=sqrt, min_samples_leaf=2, min_samples_split=15, n_estimators=400;, score=(train=-7.719, test=-10.002) total time= 2.3min\n",
            "[CV 3/3] END bootstrap=True, criterion=absolute_error, max_depth=40, max_features=sqrt, min_samples_leaf=2, min_samples_split=15, n_estimators=400;, score=(train=-7.743, test=-9.943) total time= 2.1min\n",
            "[CV 1/3] END bootstrap=True, criterion=absolute_error, max_depth=40, max_features=log2, min_samples_leaf=4, min_samples_split=15, n_estimators=300;, score=(train=-7.990, test=-10.176) total time= 1.7min\n",
            "[CV 2/3] END bootstrap=True, criterion=absolute_error, max_depth=40, max_features=log2, min_samples_leaf=4, min_samples_split=15, n_estimators=300;, score=(train=-8.062, test=-9.997) total time= 1.7min\n",
            "[CV 3/3] END bootstrap=True, criterion=absolute_error, max_depth=40, max_features=log2, min_samples_leaf=4, min_samples_split=15, n_estimators=300;, score=(train=-8.105, test=-9.917) total time= 1.5min\n"
          ]
        },
        {
          "output_type": "stream",
          "name": "stderr",
          "text": [
            "/usr/local/lib/python3.10/dist-packages/sklearn/ensemble/_forest.py:413: FutureWarning: `max_features='auto'` has been deprecated in 1.1 and will be removed in 1.3. To keep the past behaviour, explicitly set `max_features=1.0` or remove this parameter as it is also the default value for RandomForestRegressors and ExtraTreesRegressors.\n",
            "  warn(\n"
          ]
        },
        {
          "output_type": "stream",
          "name": "stdout",
          "text": [
            "[CV 1/3] END bootstrap=True, criterion=absolute_error, max_depth=40, max_features=auto, min_samples_leaf=2, min_samples_split=2, n_estimators=500;, score=(train=-6.366, test=-10.283) total time= 8.2min\n"
          ]
        },
        {
          "output_type": "stream",
          "name": "stderr",
          "text": [
            "/usr/local/lib/python3.10/dist-packages/sklearn/ensemble/_forest.py:413: FutureWarning: `max_features='auto'` has been deprecated in 1.1 and will be removed in 1.3. To keep the past behaviour, explicitly set `max_features=1.0` or remove this parameter as it is also the default value for RandomForestRegressors and ExtraTreesRegressors.\n",
            "  warn(\n"
          ]
        },
        {
          "output_type": "stream",
          "name": "stdout",
          "text": [
            "[CV 2/3] END bootstrap=True, criterion=absolute_error, max_depth=40, max_features=auto, min_samples_leaf=2, min_samples_split=2, n_estimators=500;, score=(train=-6.472, test=-10.068) total time= 9.2min\n"
          ]
        },
        {
          "output_type": "stream",
          "name": "stderr",
          "text": [
            "/usr/local/lib/python3.10/dist-packages/sklearn/ensemble/_forest.py:413: FutureWarning: `max_features='auto'` has been deprecated in 1.1 and will be removed in 1.3. To keep the past behaviour, explicitly set `max_features=1.0` or remove this parameter as it is also the default value for RandomForestRegressors and ExtraTreesRegressors.\n",
            "  warn(\n"
          ]
        },
        {
          "output_type": "stream",
          "name": "stdout",
          "text": [
            "[CV 3/3] END bootstrap=True, criterion=absolute_error, max_depth=40, max_features=auto, min_samples_leaf=2, min_samples_split=2, n_estimators=500;, score=(train=-6.479, test=-10.072) total time= 7.4min\n",
            "[CV 1/3] END bootstrap=True, criterion=absolute_error, max_depth=1, max_features=sqrt, min_samples_leaf=1, min_samples_split=10, n_estimators=100;, score=(train=-9.868, test=-10.097) total time=   7.2s\n",
            "[CV 2/3] END bootstrap=True, criterion=absolute_error, max_depth=1, max_features=sqrt, min_samples_leaf=1, min_samples_split=10, n_estimators=100;, score=(train=-9.952, test=-9.943) total time=   6.1s\n",
            "[CV 3/3] END bootstrap=True, criterion=absolute_error, max_depth=1, max_features=sqrt, min_samples_leaf=1, min_samples_split=10, n_estimators=100;, score=(train=-9.989, test=-9.856) total time=   7.1s\n",
            "[CV 1/3] END bootstrap=True, criterion=absolute_error, max_depth=40, max_features=sqrt, min_samples_leaf=4, min_samples_split=5, n_estimators=500;, score=(train=-7.743, test=-10.160) total time= 2.9min\n",
            "[CV 2/3] END bootstrap=True, criterion=absolute_error, max_depth=40, max_features=sqrt, min_samples_leaf=4, min_samples_split=5, n_estimators=500;, score=(train=-7.806, test=-10.001) total time= 2.9min\n",
            "[CV 3/3] END bootstrap=True, criterion=absolute_error, max_depth=40, max_features=sqrt, min_samples_leaf=4, min_samples_split=5, n_estimators=500;, score=(train=-7.836, test=-9.916) total time= 2.5min\n"
          ]
        },
        {
          "output_type": "stream",
          "name": "stderr",
          "text": [
            "/usr/local/lib/python3.10/dist-packages/sklearn/ensemble/_forest.py:413: FutureWarning: `max_features='auto'` has been deprecated in 1.1 and will be removed in 1.3. To keep the past behaviour, explicitly set `max_features=1.0` or remove this parameter as it is also the default value for RandomForestRegressors and ExtraTreesRegressors.\n",
            "  warn(\n"
          ]
        },
        {
          "output_type": "stream",
          "name": "stdout",
          "text": [
            "[CV 1/3] END bootstrap=False, criterion=absolute_error, max_depth=70, max_features=auto, min_samples_leaf=4, min_samples_split=5, n_estimators=400;, score=(train=-5.986, test=-12.122) total time=11.7min\n"
          ]
        },
        {
          "output_type": "stream",
          "name": "stderr",
          "text": [
            "/usr/local/lib/python3.10/dist-packages/sklearn/ensemble/_forest.py:413: FutureWarning: `max_features='auto'` has been deprecated in 1.1 and will be removed in 1.3. To keep the past behaviour, explicitly set `max_features=1.0` or remove this parameter as it is also the default value for RandomForestRegressors and ExtraTreesRegressors.\n",
            "  warn(\n"
          ]
        },
        {
          "output_type": "stream",
          "name": "stdout",
          "text": [
            "[CV 2/3] END bootstrap=False, criterion=absolute_error, max_depth=70, max_features=auto, min_samples_leaf=4, min_samples_split=5, n_estimators=400;, score=(train=-5.993, test=-11.896) total time=12.1min\n"
          ]
        },
        {
          "output_type": "stream",
          "name": "stderr",
          "text": [
            "/usr/local/lib/python3.10/dist-packages/sklearn/ensemble/_forest.py:413: FutureWarning: `max_features='auto'` has been deprecated in 1.1 and will be removed in 1.3. To keep the past behaviour, explicitly set `max_features=1.0` or remove this parameter as it is also the default value for RandomForestRegressors and ExtraTreesRegressors.\n",
            "  warn(\n"
          ]
        },
        {
          "output_type": "stream",
          "name": "stdout",
          "text": [
            "[CV 3/3] END bootstrap=False, criterion=absolute_error, max_depth=70, max_features=auto, min_samples_leaf=4, min_samples_split=5, n_estimators=400;, score=(train=-6.097, test=-12.200) total time=11.5min\n",
            "CPU times: user 8h 30min 55s, sys: 14 s, total: 8h 31min 9s\n",
            "Wall time: 8h 33min 21s\n"
          ]
        },
        {
          "output_type": "execute_result",
          "data": {
            "text/plain": [
              "RandomizedSearchCV(cv=3, estimator=RandomForestRegressor(), n_iter=50,\n",
              "                   param_distributions={'bootstrap': [True, False],\n",
              "                                        'criterion': ['absolute_error'],\n",
              "                                        'max_depth': [1, 10, 20, 30, 40, 50, 60,\n",
              "                                                      70, 80, 90, 100],\n",
              "                                        'max_features': ['auto', 'sqrt',\n",
              "                                                         'log2'],\n",
              "                                        'min_samples_leaf': [1, 2, 4],\n",
              "                                        'min_samples_split': [2, 5, 10, 15],\n",
              "                                        'n_estimators': [100, 200, 300, 400,\n",
              "                                                         500]},\n",
              "                   random_state=42, return_train_score=True,\n",
              "                   scoring='neg_mean_absolute_error', verbose=3)"
            ],
            "text/html": [
              "<style>#sk-container-id-1 {color: black;background-color: white;}#sk-container-id-1 pre{padding: 0;}#sk-container-id-1 div.sk-toggleable {background-color: white;}#sk-container-id-1 label.sk-toggleable__label {cursor: pointer;display: block;width: 100%;margin-bottom: 0;padding: 0.3em;box-sizing: border-box;text-align: center;}#sk-container-id-1 label.sk-toggleable__label-arrow:before {content: \"▸\";float: left;margin-right: 0.25em;color: #696969;}#sk-container-id-1 label.sk-toggleable__label-arrow:hover:before {color: black;}#sk-container-id-1 div.sk-estimator:hover label.sk-toggleable__label-arrow:before {color: black;}#sk-container-id-1 div.sk-toggleable__content {max-height: 0;max-width: 0;overflow: hidden;text-align: left;background-color: #f0f8ff;}#sk-container-id-1 div.sk-toggleable__content pre {margin: 0.2em;color: black;border-radius: 0.25em;background-color: #f0f8ff;}#sk-container-id-1 input.sk-toggleable__control:checked~div.sk-toggleable__content {max-height: 200px;max-width: 100%;overflow: auto;}#sk-container-id-1 input.sk-toggleable__control:checked~label.sk-toggleable__label-arrow:before {content: \"▾\";}#sk-container-id-1 div.sk-estimator input.sk-toggleable__control:checked~label.sk-toggleable__label {background-color: #d4ebff;}#sk-container-id-1 div.sk-label input.sk-toggleable__control:checked~label.sk-toggleable__label {background-color: #d4ebff;}#sk-container-id-1 input.sk-hidden--visually {border: 0;clip: rect(1px 1px 1px 1px);clip: rect(1px, 1px, 1px, 1px);height: 1px;margin: -1px;overflow: hidden;padding: 0;position: absolute;width: 1px;}#sk-container-id-1 div.sk-estimator {font-family: monospace;background-color: #f0f8ff;border: 1px dotted black;border-radius: 0.25em;box-sizing: border-box;margin-bottom: 0.5em;}#sk-container-id-1 div.sk-estimator:hover {background-color: #d4ebff;}#sk-container-id-1 div.sk-parallel-item::after {content: \"\";width: 100%;border-bottom: 1px solid gray;flex-grow: 1;}#sk-container-id-1 div.sk-label:hover label.sk-toggleable__label {background-color: #d4ebff;}#sk-container-id-1 div.sk-serial::before {content: \"\";position: absolute;border-left: 1px solid gray;box-sizing: border-box;top: 0;bottom: 0;left: 50%;z-index: 0;}#sk-container-id-1 div.sk-serial {display: flex;flex-direction: column;align-items: center;background-color: white;padding-right: 0.2em;padding-left: 0.2em;position: relative;}#sk-container-id-1 div.sk-item {position: relative;z-index: 1;}#sk-container-id-1 div.sk-parallel {display: flex;align-items: stretch;justify-content: center;background-color: white;position: relative;}#sk-container-id-1 div.sk-item::before, #sk-container-id-1 div.sk-parallel-item::before {content: \"\";position: absolute;border-left: 1px solid gray;box-sizing: border-box;top: 0;bottom: 0;left: 50%;z-index: -1;}#sk-container-id-1 div.sk-parallel-item {display: flex;flex-direction: column;z-index: 1;position: relative;background-color: white;}#sk-container-id-1 div.sk-parallel-item:first-child::after {align-self: flex-end;width: 50%;}#sk-container-id-1 div.sk-parallel-item:last-child::after {align-self: flex-start;width: 50%;}#sk-container-id-1 div.sk-parallel-item:only-child::after {width: 0;}#sk-container-id-1 div.sk-dashed-wrapped {border: 1px dashed gray;margin: 0 0.4em 0.5em 0.4em;box-sizing: border-box;padding-bottom: 0.4em;background-color: white;}#sk-container-id-1 div.sk-label label {font-family: monospace;font-weight: bold;display: inline-block;line-height: 1.2em;}#sk-container-id-1 div.sk-label-container {text-align: center;}#sk-container-id-1 div.sk-container {/* jupyter's `normalize.less` sets `[hidden] { display: none; }` but bootstrap.min.css set `[hidden] { display: none !important; }` so we also need the `!important` here to be able to override the default hidden behavior on the sphinx rendered scikit-learn.org. See: https://github.com/scikit-learn/scikit-learn/issues/21755 */display: inline-block !important;position: relative;}#sk-container-id-1 div.sk-text-repr-fallback {display: none;}</style><div id=\"sk-container-id-1\" class=\"sk-top-container\"><div class=\"sk-text-repr-fallback\"><pre>RandomizedSearchCV(cv=3, estimator=RandomForestRegressor(), n_iter=50,\n",
              "                   param_distributions={&#x27;bootstrap&#x27;: [True, False],\n",
              "                                        &#x27;criterion&#x27;: [&#x27;absolute_error&#x27;],\n",
              "                                        &#x27;max_depth&#x27;: [1, 10, 20, 30, 40, 50, 60,\n",
              "                                                      70, 80, 90, 100],\n",
              "                                        &#x27;max_features&#x27;: [&#x27;auto&#x27;, &#x27;sqrt&#x27;,\n",
              "                                                         &#x27;log2&#x27;],\n",
              "                                        &#x27;min_samples_leaf&#x27;: [1, 2, 4],\n",
              "                                        &#x27;min_samples_split&#x27;: [2, 5, 10, 15],\n",
              "                                        &#x27;n_estimators&#x27;: [100, 200, 300, 400,\n",
              "                                                         500]},\n",
              "                   random_state=42, return_train_score=True,\n",
              "                   scoring=&#x27;neg_mean_absolute_error&#x27;, verbose=3)</pre><b>In a Jupyter environment, please rerun this cell to show the HTML representation or trust the notebook. <br />On GitHub, the HTML representation is unable to render, please try loading this page with nbviewer.org.</b></div><div class=\"sk-container\" hidden><div class=\"sk-item sk-dashed-wrapped\"><div class=\"sk-label-container\"><div class=\"sk-label sk-toggleable\"><input class=\"sk-toggleable__control sk-hidden--visually\" id=\"sk-estimator-id-1\" type=\"checkbox\" ><label for=\"sk-estimator-id-1\" class=\"sk-toggleable__label sk-toggleable__label-arrow\">RandomizedSearchCV</label><div class=\"sk-toggleable__content\"><pre>RandomizedSearchCV(cv=3, estimator=RandomForestRegressor(), n_iter=50,\n",
              "                   param_distributions={&#x27;bootstrap&#x27;: [True, False],\n",
              "                                        &#x27;criterion&#x27;: [&#x27;absolute_error&#x27;],\n",
              "                                        &#x27;max_depth&#x27;: [1, 10, 20, 30, 40, 50, 60,\n",
              "                                                      70, 80, 90, 100],\n",
              "                                        &#x27;max_features&#x27;: [&#x27;auto&#x27;, &#x27;sqrt&#x27;,\n",
              "                                                         &#x27;log2&#x27;],\n",
              "                                        &#x27;min_samples_leaf&#x27;: [1, 2, 4],\n",
              "                                        &#x27;min_samples_split&#x27;: [2, 5, 10, 15],\n",
              "                                        &#x27;n_estimators&#x27;: [100, 200, 300, 400,\n",
              "                                                         500]},\n",
              "                   random_state=42, return_train_score=True,\n",
              "                   scoring=&#x27;neg_mean_absolute_error&#x27;, verbose=3)</pre></div></div></div><div class=\"sk-parallel\"><div class=\"sk-parallel-item\"><div class=\"sk-item\"><div class=\"sk-label-container\"><div class=\"sk-label sk-toggleable\"><input class=\"sk-toggleable__control sk-hidden--visually\" id=\"sk-estimator-id-2\" type=\"checkbox\" ><label for=\"sk-estimator-id-2\" class=\"sk-toggleable__label sk-toggleable__label-arrow\">estimator: RandomForestRegressor</label><div class=\"sk-toggleable__content\"><pre>RandomForestRegressor()</pre></div></div></div><div class=\"sk-serial\"><div class=\"sk-item\"><div class=\"sk-estimator sk-toggleable\"><input class=\"sk-toggleable__control sk-hidden--visually\" id=\"sk-estimator-id-3\" type=\"checkbox\" ><label for=\"sk-estimator-id-3\" class=\"sk-toggleable__label sk-toggleable__label-arrow\">RandomForestRegressor</label><div class=\"sk-toggleable__content\"><pre>RandomForestRegressor()</pre></div></div></div></div></div></div></div></div></div></div>"
            ]
          },
          "metadata": {},
          "execution_count": 8
        }
      ]
    },
    {
      "cell_type": "code",
      "source": [
        "rf_random.best_params_"
      ],
      "metadata": {
        "colab": {
          "base_uri": "https://localhost:8080/"
        },
        "id": "SoVcPS95TnnZ",
        "outputId": "e092edb9-8bb3-42a6-e0c0-4a09c255526b"
      },
      "execution_count": 9,
      "outputs": [
        {
          "output_type": "execute_result",
          "data": {
            "text/plain": [
              "{'n_estimators': 100,\n",
              " 'min_samples_split': 10,\n",
              " 'min_samples_leaf': 2,\n",
              " 'max_features': 'sqrt',\n",
              " 'max_depth': 10,\n",
              " 'criterion': 'absolute_error',\n",
              " 'bootstrap': True}"
            ]
          },
          "metadata": {},
          "execution_count": 9
        }
      ]
    },
    {
      "cell_type": "markdown",
      "source": [
        "{'n_estimators': 100,\n",
        " 'min_samples_split': 10,\n",
        " 'min_samples_leaf': 2,\n",
        " 'max_features': 'sqrt',\n",
        " 'max_depth': 10,\n",
        " 'criterion': 'absolute_error',\n",
        " 'bootstrap': True}"
      ],
      "metadata": {
        "id": "heO2tFDukEqp"
      }
    },
    {
      "cell_type": "code",
      "source": [
        "%run /content/forest_height/src/evaluate_model.py"
      ],
      "metadata": {
        "id": "iXTERAppkW2z"
      },
      "execution_count": 12,
      "outputs": []
    },
    {
      "cell_type": "code",
      "source": [
        "# predict test set\n",
        "y_pred = rf_random.predict(X_test)\n",
        "mae_color_channels_ndvi, mse_color_channels_ndvi, rmse_color_channels_ndvi, mape_color_channels_ndvi = evaluate_model(y_test, y_pred)"
      ],
      "metadata": {
        "colab": {
          "base_uri": "https://localhost:8080/"
        },
        "id": "yj4ilz6PkhzS",
        "outputId": "12b7c390-1901-43e0-8d25-8e7d1b80ac0c"
      },
      "execution_count": 13,
      "outputs": [
        {
          "output_type": "stream",
          "name": "stdout",
          "text": [
            "MAE: 10.078855096408962; MSE: 138.01920139363855; RMSE: 11.74815736163074; MAPE: 1.28021989725682\n"
          ]
        }
      ]
    },
    {
      "cell_type": "code",
      "source": [
        "cv_results = rf_random.cv_results_\n",
        "for mean_score, params in zip(cv_results[\"mean_test_score\"], cvres[\"params\"]):\n",
        "    print(np.sqrt(-mean_score), params)"
      ],
      "metadata": {
        "colab": {
          "base_uri": "https://localhost:8080/",
          "height": 202
        },
        "id": "tIwVksyxaD1b",
        "outputId": "41ed37cc-0a59-4fb4-beec-c639d6f0cbfc"
      },
      "execution_count": 36,
      "outputs": [
        {
          "output_type": "error",
          "ename": "AttributeError",
          "evalue": "ignored",
          "traceback": [
            "\u001b[0;31m---------------------------------------------------------------------------\u001b[0m",
            "\u001b[0;31mAttributeError\u001b[0m                            Traceback (most recent call last)",
            "\u001b[0;32m<ipython-input-36-4901bc073d51>\u001b[0m in \u001b[0;36m<cell line: 1>\u001b[0;34m()\u001b[0m\n\u001b[0;32m----> 1\u001b[0;31m \u001b[0mcv_results\u001b[0m \u001b[0;34m=\u001b[0m \u001b[0mrf_random\u001b[0m\u001b[0;34m.\u001b[0m\u001b[0mcv_results_\u001b[0m\u001b[0;34m\u001b[0m\u001b[0;34m\u001b[0m\u001b[0m\n\u001b[0m\u001b[1;32m      2\u001b[0m \u001b[0;32mfor\u001b[0m \u001b[0mmean_score\u001b[0m\u001b[0;34m,\u001b[0m \u001b[0mparams\u001b[0m \u001b[0;32min\u001b[0m \u001b[0mzip\u001b[0m\u001b[0;34m(\u001b[0m\u001b[0mcv_results\u001b[0m\u001b[0;34m[\u001b[0m\u001b[0;34m\"mean_test_score\"\u001b[0m\u001b[0;34m]\u001b[0m\u001b[0;34m,\u001b[0m \u001b[0mcvres\u001b[0m\u001b[0;34m[\u001b[0m\u001b[0;34m\"params\"\u001b[0m\u001b[0;34m]\u001b[0m\u001b[0;34m)\u001b[0m\u001b[0;34m:\u001b[0m\u001b[0;34m\u001b[0m\u001b[0;34m\u001b[0m\u001b[0m\n\u001b[1;32m      3\u001b[0m     \u001b[0mprint\u001b[0m\u001b[0;34m(\u001b[0m\u001b[0mnp\u001b[0m\u001b[0;34m.\u001b[0m\u001b[0msqrt\u001b[0m\u001b[0;34m(\u001b[0m\u001b[0;34m-\u001b[0m\u001b[0mmean_score\u001b[0m\u001b[0;34m)\u001b[0m\u001b[0;34m,\u001b[0m \u001b[0mparams\u001b[0m\u001b[0;34m)\u001b[0m\u001b[0;34m\u001b[0m\u001b[0;34m\u001b[0m\u001b[0m\n",
            "\u001b[0;31mAttributeError\u001b[0m: 'RandomizedSearchCV' object has no attribute 'cv_results_'"
          ]
        }
      ]
    },
    {
      "cell_type": "code",
      "source": [
        "df = pd.DataFrame(cv_results)"
      ],
      "metadata": {
        "id": "8xfHWBjmbQOy"
      },
      "execution_count": null,
      "outputs": []
    },
    {
      "cell_type": "code",
      "source": [
        "import joblib\n",
        "%cd forest_height/models\n",
        "# save model\n",
        "joblib.dump(rf, 'random_forest_random_search.joblib')\n",
        "# load model with:\n",
        "# rf = joblib.load(\"random_forest.joblib\")\n",
        "%cd ../../"
      ],
      "metadata": {
        "colab": {
          "base_uri": "https://localhost:8080/"
        },
        "id": "xoqfdhFfTo3l",
        "outputId": "dd29ae3f-7017-4751-c7a0-b37b3b079aa1"
      },
      "execution_count": 11,
      "outputs": [
        {
          "output_type": "stream",
          "name": "stdout",
          "text": [
            "/content/forest_height/models\n",
            "/content\n"
          ]
        }
      ]
    },
    {
      "cell_type": "markdown",
      "source": [
        "# todo: feature importance:"
      ],
      "metadata": {
        "id": "iPtdACGvzGZq"
      }
    },
    {
      "cell_type": "code",
      "source": [
        "import matplotlib.pyplot as plt\n",
        "# get importance\n",
        "importance = rf_random.coef_\n",
        "# summarize feature importance\n",
        "for i,v in enumerate(importance):\n",
        " print('Feature: %0d, Score: %.5f' % (i,v))\n",
        "# plot feature importance\n",
        "pyplot.bar([x for x in range(len(importance))], importance)\n",
        "pyplot.show()"
      ],
      "metadata": {
        "id": "XDq6mWIizPBo"
      },
      "execution_count": null,
      "outputs": []
    },
    {
      "cell_type": "code",
      "source": [
        "# rerun this cell\n",
        "sort = rf.feature_importances_.argsort()\n",
        "plt.barh(X_train.feature_names[sort], rf.feature_importances_[sort])\n",
        "plt.xlabel(\"Feature Importance\")"
      ],
      "metadata": {
        "id": "TnT_vcXQza9a"
      },
      "execution_count": null,
      "outputs": []
    },
    {
      "cell_type": "markdown",
      "source": [
        "Grid Search"
      ],
      "metadata": {
        "id": "SfnU8dZcjpH_"
      }
    },
    {
      "cell_type": "code",
      "source": [
        "from sklearn.model_selection import GridSearchCV# Create the parameter grid based on the results of random search\n",
        "# param_grid = {\n",
        "#     'bootstrap': [True],\n",
        "#     'max_depth': [80, 90, 100, 110],\n",
        "#     'max_features': [2, 3],\n",
        "#     'min_samples_leaf': [3, 4, 5],\n",
        "#     'min_samples_split': [8, 10, 12],\n",
        "#     'n_estimators': [100, 200, 300, 1000]\n",
        "# }\n",
        "# Create a based model\n",
        "rf = RandomForestRegressor()# Instantiate the grid search model\n",
        "grid_search = GridSearchCV(\n",
        "    estimator = rf,\n",
        "    param_grid = random_grid,\n",
        "    cv = 3,\n",
        "    n_jobs = -1,\n",
        "    verbose = 3)"
      ],
      "metadata": {
        "id": "ZgSV4oZ3jqyB"
      },
      "execution_count": null,
      "outputs": []
    },
    {
      "cell_type": "code",
      "source": [
        "%%time\n",
        "# Fit the grid search to the data\n",
        "grid_search.fit(X_train, y_train)"
      ],
      "metadata": {
        "id": "-eVOttoRjqri"
      },
      "execution_count": null,
      "outputs": []
    },
    {
      "cell_type": "code",
      "source": [
        "grid_search.best_params_"
      ],
      "metadata": {
        "id": "inxpYYRfjol7"
      },
      "execution_count": null,
      "outputs": []
    },
    {
      "cell_type": "code",
      "source": [
        "best_grid = grid_search.best_estimator_\n",
        "y_pred = best_grid.predict(X_test)\n",
        "grid_accuracy = evaluate(best_grid, test_features, test_labels)"
      ],
      "metadata": {
        "id": "GZPyxHr6kPSQ"
      },
      "execution_count": null,
      "outputs": []
    },
    {
      "cell_type": "code",
      "source": [
        "%%time\n",
        "from sklearn.ensemble import RandomForestRegressor\n",
        "# initialize model\n",
        "rf = RandomForestRegressor(rf_random.best_params_, random_state=42)\n",
        "\n",
        "# train model\n",
        "rf.fit(X_train, y_train)"
      ],
      "metadata": {
        "id": "QEjiP47wbxqs"
      },
      "execution_count": null,
      "outputs": []
    },
    {
      "cell_type": "markdown",
      "source": [
        "Save model"
      ],
      "metadata": {
        "id": "2eAY29MJsfYN"
      }
    },
    {
      "cell_type": "code",
      "source": [
        "X_test = X_test.reshape(-1, 1)"
      ],
      "metadata": {
        "id": "RPVOSBoLT1a8"
      },
      "execution_count": null,
      "outputs": []
    },
    {
      "cell_type": "code",
      "source": [
        "base_accuracy = evaluate(rf_random, X_test, y_test)"
      ],
      "metadata": {
        "id": "zqmu309ZT2j5"
      },
      "execution_count": null,
      "outputs": []
    },
    {
      "cell_type": "code",
      "source": [
        "y_pred = rf_random.predict(X_test)"
      ],
      "metadata": {
        "id": "RQjcT0kbT4NE"
      },
      "execution_count": null,
      "outputs": []
    },
    {
      "cell_type": "markdown",
      "source": [
        "Visualize prediction"
      ],
      "metadata": {
        "id": "HJB2PgV2sc1P"
      }
    },
    {
      "cell_type": "code",
      "source": [
        "%run forest_height/src/visualize_data.py"
      ],
      "metadata": {
        "id": "Jn5VR_sksPXJ"
      },
      "execution_count": null,
      "outputs": []
    },
    {
      "cell_type": "code",
      "source": [
        "plot(y_pred[0])\n",
        "plot(X_test[0])"
      ],
      "metadata": {
        "id": "mPsZRsC_sNwv"
      },
      "execution_count": null,
      "outputs": []
    },
    {
      "cell_type": "code",
      "source": [
        "ypred_rf = rf.predict(Xtest)\n",
        "\n",
        "mse_rf = mse(ytest, ypred_rf)\n",
        "rmse_rf = mse_rf ** (1/2)\n",
        "mae_rf = mae(ytest, ypred_rf)\n",
        "mape_rf = mape(ytest, ypred_rf)\n",
        "\n",
        "print(mape_rf)\n",
        "print(mae_rf)\n",
        "print(rmse_rf)"
      ],
      "metadata": {
        "id": "DNwBMKnQYEVF"
      },
      "execution_count": null,
      "outputs": []
    },
    {
      "cell_type": "code",
      "source": [
        "from sklearn.metrics import (mean_absolute_error,\n",
        "                             mean_absolute_percentage_error,\n",
        "                             mean_squared_error)\n",
        "\n",
        "\n",
        "def evaluate_model(y_test, y_pred):\n",
        "    mae = mean_absolute_error(y_test, y_pred)\n",
        "    mse = mean_squared_error(y_test, y_pred)\n",
        "    rmse = mean_squared_error(y_test, y_pred) ** (1/2)\n",
        "    mape = mean_absolute_percentage_error(y_test, y_pred)\n",
        "    print(f'MAE: {mae}; MSE: {mse}; RMSE: {rmse}; MAPE: {mape}')\n",
        "    return (mae, mse, rmse, mape)"
      ],
      "metadata": {
        "id": "pdtCfJ-nYaeH"
      },
      "execution_count": 10,
      "outputs": []
    },
    {
      "cell_type": "code",
      "source": [
        "mae, mse, rmse, mape = evaluate_model(y_test, y_pred)"
      ],
      "metadata": {
        "id": "1OsAW66ZZdBR"
      },
      "execution_count": null,
      "outputs": []
    },
    {
      "cell_type": "code",
      "source": [],
      "metadata": {
        "id": "vqv-HRsfT6n9"
      },
      "execution_count": null,
      "outputs": []
    },
    {
      "cell_type": "code",
      "source": [
        "from matplotlib import pyplot as plt\n",
        "plt.scatter(X_test, y_test, color = 'green')\n",
        "plt.scatter(X_test, y_pred, color = 'red')\n",
        "plt.title('Random Forest Regression')\n",
        "plt.xlabel('Pixel')\n",
        "plt.ylabel('Forest Height')\n",
        "plt.show()"
      ],
      "metadata": {
        "id": "qxQMcPzbT5FT"
      },
      "execution_count": null,
      "outputs": []
    },
    {
      "cell_type": "code",
      "source": [
        "del X_train, y_train"
      ],
      "metadata": {
        "id": "fuGvZc1-X_lt"
      },
      "execution_count": null,
      "outputs": []
    }
  ]
}