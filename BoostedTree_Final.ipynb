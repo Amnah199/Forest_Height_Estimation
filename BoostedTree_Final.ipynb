{
  "cells": [
    {
      "cell_type": "markdown",
      "metadata": {
        "id": "view-in-github",
        "colab_type": "text"
      },
      "source": [
        "<a href=\"https://colab.research.google.com/github/lgiesen/forest_height/blob/main/BoostedTree_Final.ipynb\" target=\"_parent\"><img src=\"https://colab.research.google.com/assets/colab-badge.svg\" alt=\"Open In Colab\"/></a>"
      ]
    },
    {
      "cell_type": "code",
      "execution_count": 1,
      "id": "6876a8ba",
      "metadata": {
        "id": "6876a8ba",
        "colab": {
          "base_uri": "https://localhost:8080/"
        },
        "outputId": "6a3586d9-94ac-4a4b-a7db-d55b46fc3903"
      },
      "outputs": [
        {
          "output_type": "stream",
          "name": "stdout",
          "text": [
            "Mounted at /content/drive\n"
          ]
        }
      ],
      "source": [
        "from google.colab import drive\n",
        "drive.mount ('/content/drive', force_remount=True)\n"
      ]
    },
    {
      "cell_type": "code",
      "source": [
        "!unzip  \"drive/My Drive/DataDa2/masksfull.zip\""
      ],
      "metadata": {
        "id": "NtsR6BMPSDgE",
        "colab": {
          "base_uri": "https://localhost:8080/"
        },
        "outputId": "06cd0f53-82eb-4b68-b098-8b8faa81249e"
      },
      "id": "NtsR6BMPSDgE",
      "execution_count": 2,
      "outputs": [
        {
          "output_type": "stream",
          "name": "stdout",
          "text": [
            "Archive:  drive/My Drive/DataDa2/masksfull.zip\n",
            "  inflating: MasksFull/mask_009.npy  \n",
            "  inflating: MasksFull/mask_029.npy  \n",
            "  inflating: MasksFull/mask_030.npy  \n",
            "  inflating: MasksFull/mask_010.npy  \n",
            "  inflating: MasksFull/mask_013.npy  \n",
            "  inflating: MasksFull/mask_036.npy  \n",
            "  inflating: MasksFull/mask_008.npy  \n",
            "  inflating: MasksFull/mask_027.npy  \n",
            "  inflating: MasksFull/mask_026.npy  \n",
            "  inflating: MasksFull/mask_012.npy  \n",
            "  inflating: MasksFull/mask_038.npy  \n",
            "  inflating: MasksFull/mask_014.npy  \n",
            "  inflating: MasksFull/mask_021.npy  \n",
            "  inflating: MasksFull/mask_017.npy  \n",
            "  inflating: MasksFull/mask_037.npy  \n",
            "  inflating: MasksFull/mask_019.npy  \n",
            "  inflating: MasksFull/mask_028.npy  \n",
            "  inflating: MasksFull/mask_025.npy  \n",
            "  inflating: MasksFull/mask_018.npy  \n",
            "  inflating: MasksFull/mask_039.npy  \n",
            "  inflating: MasksFull/mask_035.npy  \n",
            "  inflating: MasksFull/mask_011.npy  \n",
            "  inflating: MasksFull/mask_033.npy  \n",
            "  inflating: MasksFull/mask_023.npy  \n",
            "  inflating: MasksFull/mask_022.npy  \n",
            "  inflating: MasksFull/mask_034.npy  \n",
            "  inflating: MasksFull/mask_031.npy  \n",
            "  inflating: MasksFull/mask_032.npy  \n",
            "  inflating: MasksFull/mask_020.npy  \n",
            "  inflating: MasksFull/mask_015.npy  \n",
            "  inflating: MasksFull/mask_024.npy  \n",
            "  inflating: MasksFull/mask_016.npy  \n",
            "  inflating: MasksFull/mask_007.npy  \n",
            "  inflating: MasksFull/mask_006.npy  \n",
            "  inflating: MasksFull/mask_001.npy  \n",
            "  inflating: MasksFull/mask_000.npy  \n",
            "  inflating: MasksFull/mask_004.npy  \n",
            "  inflating: MasksFull/mask_005.npy  \n",
            "  inflating: MasksFull/mask_002.npy  \n",
            "  inflating: MasksFull/mask_003.npy  \n"
          ]
        }
      ]
    },
    {
      "cell_type": "code",
      "source": [
        "!unzip  \"drive/My Drive/DataDa2/images_train.zip\"\n",
        "!unzip  \"drive/My Drive/DataDa2/images2.zip\""
      ],
      "metadata": {
        "colab": {
          "base_uri": "https://localhost:8080/"
        },
        "id": "7Om_CporRrJK",
        "outputId": "85cd5993-65a1-4196-c20d-7847a772e5b3"
      },
      "id": "7Om_CporRrJK",
      "execution_count": 3,
      "outputs": [
        {
          "output_type": "stream",
          "name": "stdout",
          "text": [
            "Archive:  drive/My Drive/DataDa2/images_train.zip\n",
            "  inflating: images/image_000.npy    \n",
            "  inflating: images/image_001.npy    \n",
            "  inflating: images/image_002.npy    \n",
            "  inflating: images/image_003.npy    \n",
            "  inflating: images/image_004.npy    \n",
            "  inflating: images/image_005.npy    \n",
            "  inflating: images/image_006.npy    \n",
            "  inflating: images/image_007.npy    \n",
            "  inflating: images/image_008.npy    \n",
            "  inflating: images/image_009.npy    \n",
            "  inflating: images/image_010.npy    \n",
            "  inflating: images/image_011.npy    \n",
            "  inflating: images/image_012.npy    \n",
            "  inflating: images/image_013.npy    \n",
            "  inflating: images/image_014.npy    \n",
            "  inflating: images/image_015.npy    \n",
            "  inflating: images/image_016.npy    \n",
            "  inflating: images/image_017.npy    \n",
            "  inflating: images/image_018.npy    \n",
            "  inflating: images/image_019.npy    \n",
            "Archive:  drive/My Drive/DataDa2/images2.zip\n",
            "   creating: images 2/\n",
            "  inflating: images 2/image_020.npy  \n",
            "  inflating: images 2/image_021.npy  \n",
            "  inflating: images 2/image_022.npy  \n",
            "  inflating: images 2/image_023.npy  \n",
            "  inflating: images 2/image_024.npy  \n",
            "  inflating: images 2/image_025.npy  \n",
            "  inflating: images 2/image_026.npy  \n",
            "  inflating: images 2/image_027.npy  \n",
            "  inflating: images 2/image_028.npy  \n",
            "  inflating: images 2/image_029.npy  \n",
            "  inflating: images 2/image_030.npy  \n",
            "  inflating: images 2/image_031.npy  \n",
            "  inflating: images 2/image_032.npy  \n",
            "  inflating: images 2/image_033.npy  \n",
            "  inflating: images 2/image_034.npy  \n",
            "  inflating: images 2/image_035.npy  \n",
            "  inflating: images 2/image_036.npy  \n",
            "  inflating: images 2/image_037.npy  \n",
            "  inflating: images 2/image_038.npy  \n",
            "  inflating: images 2/image_039.npy  \n"
          ]
        }
      ]
    },
    {
      "cell_type": "code",
      "source": [
        "from os.path import isfile, join\n",
        "from os import listdir\n",
        "import numpy as np\n",
        "import pandas as pd"
      ],
      "metadata": {
        "id": "o7pqPW79CCKr"
      },
      "id": "o7pqPW79CCKr",
      "execution_count": 4,
      "outputs": []
    },
    {
      "cell_type": "code",
      "source": [
        "def load_images():\n",
        "  #data = np.empty((0, 10))\n",
        "  data_list = []\n",
        "\n",
        "# Process the first range\n",
        "  for i in range(10):\n",
        "      X = np.load(f\"/content/images/image_00{i}.npy\")\n",
        "      X = X.reshape(10, -1).transpose()\n",
        "      data_list.append(X)\n",
        "\n",
        "  # Process the second range\n",
        "  for i in range(10, 20):\n",
        "      X = np.load(f\"/content/images/image_0{i}.npy\")\n",
        "      X = X.reshape(10, -1).transpose()\n",
        "      data_list.append(X)\n",
        "\n",
        "  for i in range(20, 40):\n",
        "        X = np.load(f\"/content/images 2/image_0{i}.npy\")\n",
        "        X = X.reshape(10, -1).transpose()\n",
        "        data_list.append(X)\n",
        "  # Concatenate all arrays in the list along the first axis (number of features)\n",
        "  data = np.concatenate(data_list, axis=0)\n",
        "  print(data.shape)\n",
        "  return data"
      ],
      "metadata": {
        "id": "O6aM7k0TCGwB"
      },
      "id": "O6aM7k0TCGwB",
      "execution_count": 5,
      "outputs": []
    },
    {
      "cell_type": "code",
      "source": [
        "def load_masks():\n",
        "  #data = np.empty((0, 10))\n",
        "  mask_list = []\n",
        "\n",
        "# Process the first range\n",
        "  for i in range(10):\n",
        "      temp = np.load(f\"/content/MasksFull/mask_00{i}.npy\")\n",
        "      temp = temp.reshape(1, -1).transpose()\n",
        "      mask_list.append(temp)\n",
        "\n",
        "  # Process the second range\n",
        "  for i in range(10, 40):\n",
        "      temp = np.load(f\"/content/MasksFull/mask_0{i}.npy\")\n",
        "      temp = temp.reshape(1, -1).transpose()\n",
        "      mask_list.append(temp)\n",
        "\n",
        "  # Concatenate all arrays in the list along the first axis (number of features)\n",
        "  y = np.concatenate(mask_list, axis=0)\n",
        "\n",
        "  return y"
      ],
      "metadata": {
        "id": "vFTn_305QJ75"
      },
      "id": "vFTn_305QJ75",
      "execution_count": 6,
      "outputs": []
    },
    {
      "cell_type": "code",
      "source": [
        "X = load_images()"
      ],
      "metadata": {
        "colab": {
          "base_uri": "https://localhost:8080/"
        },
        "id": "CsUxfwkoFWiY",
        "outputId": "63d4b3b2-109f-4d9d-9737-7e603e1da2fc"
      },
      "id": "CsUxfwkoFWiY",
      "execution_count": 7,
      "outputs": [
        {
          "output_type": "stream",
          "name": "stdout",
          "text": [
            "(41943040, 10)\n"
          ]
        }
      ]
    },
    {
      "cell_type": "code",
      "source": [
        "y = load_masks()"
      ],
      "metadata": {
        "id": "SW_KEqi8XseF"
      },
      "id": "SW_KEqi8XseF",
      "execution_count": 8,
      "outputs": []
    },
    {
      "cell_type": "code",
      "execution_count": 9,
      "id": "c42b48d3",
      "metadata": {
        "id": "c42b48d3",
        "colab": {
          "base_uri": "https://localhost:8080/"
        },
        "outputId": "be86b30b-b7c7-4a00-934a-739298254d58"
      },
      "outputs": [
        {
          "output_type": "stream",
          "name": "stdout",
          "text": [
            "-5.939021 147.62091\n",
            "-5.601946 139.2023\n"
          ]
        }
      ],
      "source": [
        "from sklearn.model_selection import train_test_split\n",
        "\n",
        "# Split the dataset into training and validation sets\n",
        "#X_train, y_train, X_test, y_test = train_test_split(X1,y1, test_size=0.2, random_state=1)\n",
        "\n",
        "# Step 3: Create training and testing sets\n",
        "X_train, X_test, y_train, y_test = train_test_split(\n",
        "    X,  # Features\n",
        "    y,   # Labels\n",
        "    test_size=0.2,          # Adjust the test size as needed\n",
        "    random_state=11         # Set a random seed for reproducibility\n",
        ")\n",
        "\n",
        "print(np.min(y_test), np.max(y_test))\n",
        "print(np.min(y_train), np.max(y_train))"
      ]
    },
    {
      "cell_type": "code",
      "source": [
        "import xgboost\n",
        "from sklearn.model_selection import GridSearchCV\n",
        "\n",
        "'''\n",
        "xgb = xgboost.XGBRegressor(random_state=0)\n",
        "param_grid = {\"max_depth\": range(1,6)}\n",
        "# FIXME: MSE is used? check!\n",
        "grid_model = GridSearchCV(xgb, param_grid, cv=5, refit=True,scoring=\"neg_mean_squared_error\")\n",
        "grid_model.fit(X_train, y_train)\n",
        "print(\"Best hyperparameters::\\n{}\".format(grid_model.best_params_))\n",
        "'''"
      ],
      "metadata": {
        "id": "Kk0Eil4iyu_U",
        "colab": {
          "base_uri": "https://localhost:8080/",
          "height": 131
        },
        "outputId": "952e82a1-5788-4568-ba03-bd2ad2880364"
      },
      "id": "Kk0Eil4iyu_U",
      "execution_count": 10,
      "outputs": [
        {
          "output_type": "error",
          "ename": "SyntaxError",
          "evalue": "ignored",
          "traceback": [
            "\u001b[0;36m  File \u001b[0;32m\"<ipython-input-10-fa3ccbcd3a01>\"\u001b[0;36m, line \u001b[0;32m4\u001b[0m\n\u001b[0;31m    '''\u001b[0m\n\u001b[0m    ^\u001b[0m\n\u001b[0;31mSyntaxError\u001b[0m\u001b[0;31m:\u001b[0m incomplete input\n"
          ]
        }
      ]
    },
    {
      "cell_type": "code",
      "source": [
        "import xgboost\n",
        "# instantiate the model\n",
        "model = xgboost.XGBRegressor(objective ='reg:squarederror',\n",
        "                             colsample_bytree = 0.6,\n",
        "                             learning_rate = 0.01,\n",
        "                             max_depth = 5,\n",
        "                             reg_lambda = 1,\n",
        "                             n_estimators = 300)\n",
        "\n",
        "model.fit(X_train, y_train)\n",
        "\n"
      ],
      "metadata": {
        "id": "6ZgVYDcw21iV"
      },
      "id": "6ZgVYDcw21iV",
      "execution_count": null,
      "outputs": []
    },
    {
      "cell_type": "code",
      "source": [
        "preds = model.predict(X_test)"
      ],
      "metadata": {
        "id": "fdEY0T-EWbh7"
      },
      "id": "fdEY0T-EWbh7",
      "execution_count": 13,
      "outputs": []
    },
    {
      "cell_type": "code",
      "execution_count": 20,
      "id": "9a1f7ab4",
      "metadata": {
        "id": "9a1f7ab4",
        "colab": {
          "base_uri": "https://localhost:8080/",
          "height": 750
        },
        "outputId": "c86deede-fc65-4b9d-ad01-0bdde5bc60cf"
      },
      "outputs": [
        {
          "output_type": "stream",
          "name": "stdout",
          "text": [
            "RMSE: 6.870632171630859\n"
          ]
        },
        {
          "output_type": "display_data",
          "data": {
            "text/plain": [
              "<Figure size 800x800 with 1 Axes>"
            ],
            "image/png": "[encoded data removed]"
          },
          "metadata": {}
        }
      ],
      "source": [
        "%matplotlib inline\n",
        "import matplotlib.pyplot as plt\n",
        "from matplotlib.ticker import StrMethodFormatter\n",
        "\n",
        "from sklearn.metrics import mean_squared_error\n",
        "\n",
        "# compute RMSE\n",
        "print(\"RMSE: {}\".format(np.sqrt(mean_squared_error(y_test, preds))))\n",
        "\n",
        "# visualize predictions vs. true labels\n",
        "fig = plt.figure(figsize=(8,8))\n",
        "plt.scatter(preds, y_test, color=\"blue\", alpha=0.5)\n",
        "plt.xticks(rotation=45)\n",
        "plt.gca().xaxis.set_major_formatter(StrMethodFormatter('{x:,.0f}'))\n",
        "plt.plot([-6, 150], [-6, 150], 'k--')\n",
        "plt.xlabel(\"Predictions\")\n",
        "plt.ylabel(\"True Labels\")\n",
        "plt.xlim([-6, 150])\n",
        "plt.ylim([-6, 150])\n",
        "plt.title(\"Evaluation of XGBoost Regression Model \")\n",
        "plt.show()"
      ]
    },
    {
      "cell_type": "code",
      "execution_count": 19,
      "id": "cec63412",
      "metadata": {
        "id": "cec63412",
        "colab": {
          "base_uri": "https://localhost:8080/"
        },
        "outputId": "efe0029c-6486-418a-b76f-4d4c089cddb0"
      },
      "outputs": [
        {
          "output_type": "stream",
          "name": "stdout",
          "text": [
            "Mean Absolute Error: 5.160675\n"
          ]
        }
      ],
      "source": [
        "from sklearn.metrics import mean_absolute_error\n",
        "\n",
        "mae = mean_absolute_error(y_test, preds)\n",
        "print(\"Mean Absolute Error:\", mae)"
      ]
    }
  ],
  "metadata": {
    "kernelspec": {
      "display_name": "Python 3",
      "name": "python3"
    },
    "language_info": {
      "codemirror_mode": {
        "name": "ipython",
        "version": 3
      },
      "file_extension": ".py",
      "mimetype": "text/x-python",
      "name": "python",
      "nbconvert_exporter": "python",
      "pygments_lexer": "ipython3",
      "version": "3.9.6"
    },
    "colab": {
      "provenance": [],
      "gpuType": "T4",
      "machine_shape": "hm",
      "include_colab_link": true
    },
    "accelerator": "GPU"
  },
  "nbformat": 4,
  "nbformat_minor": 5
}