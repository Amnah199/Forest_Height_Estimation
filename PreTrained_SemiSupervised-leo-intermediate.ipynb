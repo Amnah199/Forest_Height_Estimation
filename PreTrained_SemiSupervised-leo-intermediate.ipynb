{
  "cells": [
    {
      "cell_type": "markdown",
      "metadata": {
        "id": "view-in-github",
        "colab_type": "text"
      },
      "source": [
        "<a href=\"https://colab.research.google.com/github/lgiesen/forest-height/blob/main/PreTrained_SemiSupervised-leo-intermediate.ipynb\" target=\"_parent\"><img src=\"https://colab.research.google.com/assets/colab-badge.svg\" alt=\"Open In Colab\"/></a>"
      ]
    },
    {
      "cell_type": "code",
      "execution_count": 1,
      "metadata": {
        "colab": {
          "base_uri": "https://localhost:8080/"
        },
        "id": "B5tUz0tURybw",
        "outputId": "8549ccee-7e04-4ef6-b976-e45bf0c3c232"
      },
      "outputs": [
        {
          "output_type": "stream",
          "name": "stdout",
          "text": [
            "Mounted at /content/drive\n"
          ]
        }
      ],
      "source": [
        "leo_runs_notebook = True\n",
        "if leo_runs_notebook:\n",
        "  from google.colab import drive\n",
        "  drive.mount('/content/drive', force_remount=True)\n",
        "  root_path = 'drive/MyDrive/Colab Notebooks/data/'\n",
        "\n",
        "  #%run \"/content/drive/MyDrive/Colab Notebooks/0_load_data.ipynb\"\n",
        "\n",
        "else:\n",
        "  from google.colab import drive\n",
        "  drive.mount('/content/gdrive')\n",
        "  !unzip gdrive/My\\ Drive/DataDa2/images_train.zip\n",
        "  !unzip gdrive/My\\ Drive/DataDa2/masks_train.zip"
      ],
      "id": "B5tUz0tURybw"
    },
    {
      "cell_type": "code",
      "execution_count": 2,
      "metadata": {
        "id": "R022jMhEPaFK",
        "colab": {
          "base_uri": "https://localhost:8080/"
        },
        "outputId": "e7cfdae7-65a4-4889-9610-80b49e845836"
      },
      "outputs": [
        {
          "output_type": "stream",
          "name": "stdout",
          "text": [
            "(1048576, 9)\n",
            "(2097152, 9)\n",
            "(3145728, 9)\n",
            "(4194304, 9)\n",
            "(5242880, 9)\n",
            "(6291456, 9)\n",
            "(7340032, 9)\n",
            "(8388608, 9)\n"
          ]
        },
        {
          "output_type": "stream",
          "name": "stderr",
          "text": [
            "<ipython-input-2-52a093e67b06>:24: RuntimeWarning: invalid value encountered in true_divide\n",
            "  ndvi = np.where(denominator != 0, (b8 - b4) / denominator, 0)\n"
          ]
        },
        {
          "output_type": "stream",
          "name": "stdout",
          "text": [
            "(9437184, 9)\n",
            "(10485760, 9)\n"
          ]
        }
      ],
      "source": [
        "import numpy as np\n",
        "import pandas as pd\n",
        "\n",
        "data = np.empty((0, 9))\n",
        "\n",
        "for i in range(10):\n",
        "    if leo_runs_notebook:\n",
        "      X = np.load(root_path + 'images/image_00' + str(i) + '.npy', allow_pickle=True)\n",
        "      y = np.load(root_path + 'masks/mask_00' + str(i) + '.npy', allow_pickle=True)\n",
        "    else:\n",
        "      X = np.load('/content/images/image_00' + str(i) + '.npy')\n",
        "      y = np.load('/content/masks/mask_00' + str(i) + '.npy')\n",
        "\n",
        "    X1 = X[[0, 1, 2, 6, 7, 8, 9]]\n",
        "    X1 = X1.reshape(7, -1).transpose()\n",
        "\n",
        "    y = y.reshape(1, -1).transpose()\n",
        "\n",
        "    # Calculate NDVI\n",
        "    b8 = X[[6]].reshape(1, -1).transpose()\n",
        "    b4 = X[[2]].reshape(1, -1).transpose()\n",
        "\n",
        "    denominator = b8 + b4\n",
        "    ndvi = np.where(denominator != 0, (b8 - b4) / denominator, 0)\n",
        "\n",
        "\n",
        "    # Concatenate the slices with the new column\n",
        "    Xy = np.concatenate((X1, y), axis=1)\n",
        "    index = Xy.shape[1] - 1\n",
        "\n",
        "    left_slice = Xy[:, :index]\n",
        "    right_slice = Xy[:, index:]\n",
        "    Xy = np.concatenate((left_slice, ndvi, right_slice), axis=1)\n",
        "\n",
        "    # Concatenate the arrays along the first axis (number of features)\n",
        "    data = np.concatenate((data, Xy), axis=0)\n",
        "    print(data.shape)"
      ],
      "id": "R022jMhEPaFK"
    },
    {
      "cell_type": "code",
      "execution_count": 3,
      "metadata": {
        "id": "jPIvyrIKqJTf",
        "colab": {
          "base_uri": "https://localhost:8080/"
        },
        "outputId": "b88d2c03-5e95-444d-e7f3-9870a1f2360b"
      },
      "outputs": [
        {
          "output_type": "stream",
          "name": "stdout",
          "text": [
            "(11534336, 9)\n",
            "(12582912, 9)\n",
            "(13631488, 9)\n",
            "(14680064, 9)\n",
            "(15728640, 9)\n",
            "(16777216, 9)\n",
            "(17825792, 9)\n",
            "(18874368, 9)\n",
            "(19922944, 9)\n",
            "(20971520, 9)\n"
          ]
        }
      ],
      "source": [
        "for i in range(10,20):\n",
        "    if leo_runs_notebook:\n",
        "      X = np.load(root_path + 'images/image_0' + str(i) + '.npy', allow_pickle=True)\n",
        "      y = np.load(root_path + 'masks/mask_0' + str(i) + '.npy', allow_pickle=True)\n",
        "    else:\n",
        "      X = np.load('/content/images/image_0' + str(i) + '.npy')\n",
        "      y = np.load('/content/masks/mask_0' + str(i) + '.npy')\n",
        "\n",
        "    X1 = X[[0, 1, 2, 6, 7, 8, 9]]\n",
        "    X1 = X1.reshape(7, -1).transpose()\n",
        "    y = y.reshape(1, -1).transpose()\n",
        "\n",
        "    # Calculate NDVI\n",
        "    b8 = X[[6]].reshape(1, -1).transpose()\n",
        "    b4 = X[[2]].reshape(1, -1).transpose()\n",
        "    denominator = b8 + b4\n",
        "    ndvi = np.where(denominator != 0, (b8 - b4) / denominator, 0)\n",
        "\n",
        "    # Concatenate the slices with the new column\n",
        "\n",
        "    Xy = np.concatenate((X1, y), axis=1)\n",
        "    index = Xy.shape[1] - 1\n",
        "\n",
        "    left_slice = Xy[:, :index]\n",
        "    right_slice = Xy[:, index:]\n",
        "    Xy = np.concatenate((left_slice, ndvi, right_slice), axis=1)\n",
        "    #Xy_ndvi = np.hstack((Xy, ndvi))\n",
        "\n",
        "    # Concatenate the arrays along the first axis (number of features)\n",
        "    data = np.concatenate((data, Xy), axis=0)\n",
        "    print(data.shape)"
      ],
      "id": "jPIvyrIKqJTf"
    },
    {
      "cell_type": "code",
      "source": [
        "del ndvi, left_slice, right_slice, denominator, b4 , b8, X1, y"
      ],
      "metadata": {
        "id": "ewZajiZRgTHv"
      },
      "id": "ewZajiZRgTHv",
      "execution_count": 4,
      "outputs": []
    },
    {
      "cell_type": "code",
      "execution_count": 5,
      "metadata": {
        "id": "o6sFwQJAlCeX",
        "colab": {
          "base_uri": "https://localhost:8080/"
        },
        "outputId": "44d02fee-86f0-408b-902a-fdb0baa7729d"
      },
      "outputs": [
        {
          "output_type": "stream",
          "name": "stdout",
          "text": [
            "(32239, 9)\n",
            "(20939281, 9)\n",
            "           0       1       2       3       4       5       6         7  \\\n",
            "0      217.0   407.0   233.0  2150.0  2036.0  1013.0   515.0  0.804448   \n",
            "1      233.0   317.0   238.0  1581.0  1684.0   732.0   387.0  0.738318   \n",
            "2      157.0   287.0   215.0  1381.0  1720.0   839.0   457.0  0.730576   \n",
            "3      220.0   351.0   268.0  1844.0  2028.0   935.0   502.0  0.746212   \n",
            "4      254.0   408.0   314.0  2202.0  2689.0  1263.0   654.0  0.750397   \n",
            "...      ...     ...     ...     ...     ...     ...     ...       ...   \n",
            "32234  220.0   313.0   236.0  1711.0  1757.0   774.0   362.0  0.757576   \n",
            "32235  361.0   490.0   365.0  2423.0  2334.0  1096.0   585.0  0.738164   \n",
            "32236  395.0   538.0   336.0  2790.0  2988.0  1409.0   703.0  0.785029   \n",
            "32237  346.0   491.0   348.0  2986.0  3333.0  1764.0   928.0  0.791242   \n",
            "32238  831.0  1060.0  1232.0  2920.0  3208.0  2482.0  1521.0  0.406551   \n",
            "\n",
            "               8  \n",
            "0      27.389999  \n",
            "1      27.200001  \n",
            "2      25.450001  \n",
            "3      30.190001  \n",
            "4      44.480000  \n",
            "...          ...  \n",
            "32234  37.380001  \n",
            "32235  23.750000  \n",
            "32236  31.990000  \n",
            "32237  28.730000  \n",
            "32238  35.770000  \n",
            "\n",
            "[32239 rows x 9 columns]\n",
            "              0      1      2       3       4       5       6         7    8\n",
            "0         325.0  591.0  360.0  4208.0  4325.0  2275.0  1038.0  0.842382  0.0\n",
            "1         294.0  564.0  344.0  4230.0  4325.0  2275.0  1038.0  0.849585  0.0\n",
            "2         316.0  583.0  332.0  4459.0  4705.0  2336.0  1057.0  0.861407  0.0\n",
            "3         317.0  628.0  337.0  4677.0  4705.0  2336.0  1057.0  0.865576  0.0\n",
            "4         302.0  608.0  340.0  4509.0  4586.0  2351.0  1111.0  0.859765  0.0\n",
            "...         ...    ...    ...     ...     ...     ...     ...       ...  ...\n",
            "20939276  254.0  362.0  249.0  2348.0  2545.0  1123.0   545.0  0.808240  0.0\n",
            "20939277  258.0  358.0  267.0  2082.0  2295.0  1071.0   532.0  0.772669  0.0\n",
            "20939278  242.0  358.0  251.0  1957.0  2111.0  1031.0   494.0  0.772645  0.0\n",
            "20939279  238.0  329.0  233.0  1840.0  2040.0   964.0   462.0  0.775205  0.0\n",
            "20939280  243.0  353.0  251.0  1774.0  1993.0   931.0   462.0  0.752099  0.0\n",
            "\n",
            "[20939281 rows x 9 columns]\n"
          ]
        }
      ],
      "source": [
        "#num = np.count_nonzero(data[:,-1])\n",
        "nonzero = np.nonzero(data[:,-1])\n",
        "zero = np.where(data[:,-1] == 0)[0]\n",
        "\n",
        "\n",
        "labeled_data = data[nonzero]\n",
        "unlabeled_data = data[zero]\n",
        "print(labeled_data.shape)\n",
        "print(unlabeled_data.shape)\n",
        "df = pd.DataFrame(labeled_data)\n",
        "df1 = pd.DataFrame(unlabeled_data)\n",
        "print(df)\n",
        "print(df1)"
      ],
      "id": "o6sFwQJAlCeX"
    },
    {
      "cell_type": "code",
      "execution_count": 6,
      "metadata": {
        "id": "c42b48d3"
      },
      "outputs": [],
      "source": [
        "from sklearn.model_selection import train_test_split\n",
        "\n",
        "# Split the dataset into training and validation sets\n",
        "#X_train, y_train, X_test, y_test = train_test_split(X1,y1, test_size=0.2, random_state=1)\n",
        "\n",
        "# Step 3: Create training and testing sets\n",
        "X_train_labeled, X_test_labeled, y_train_labeled, y_test_labeled = train_test_split(\n",
        "    labeled_data[:, :-1],  # Features\n",
        "    labeled_data[:, -1],   # Labels\n",
        "    test_size=0.2,          # Adjust the test size as needed\n",
        "    random_state=11         # Set a random seed for reproducibility\n",
        ")"
      ],
      "id": "c42b48d3"
    },
    {
      "cell_type": "code",
      "execution_count": 7,
      "metadata": {
        "id": "--ac0MT_zG2e"
      },
      "outputs": [],
      "source": [
        "# Split the dataset into training and validation sets\n",
        "#X_train, y_train, X_test, y_test = train_test_split(X1,y1, test_size=0.2, random_state=1)\n",
        "\n",
        "# Step 3: Create training and testing sets\n",
        "\n",
        "X_train_unlabeled = unlabeled_data[:, :-1]"
      ],
      "id": "--ac0MT_zG2e"
    },
    {
      "cell_type": "code",
      "source": [
        "del labeled_data, unlabeled_data"
      ],
      "metadata": {
        "id": "1f7drNHygPjG"
      },
      "id": "1f7drNHygPjG",
      "execution_count": 8,
      "outputs": []
    },
    {
      "cell_type": "code",
      "execution_count": 9,
      "metadata": {
        "id": "Kk0Eil4iyu_U",
        "colab": {
          "base_uri": "https://localhost:8080/",
          "height": 109
        },
        "outputId": "b0ef57d5-e6b4-47d2-9c9e-58f60af92ab1"
      },
      "outputs": [
        {
          "output_type": "stream",
          "name": "stdout",
          "text": [
            "CPU times: user 29 s, sys: 63.8 ms, total: 29 s\n",
            "Wall time: 29.3 s\n"
          ]
        },
        {
          "output_type": "execute_result",
          "data": {
            "text/plain": [
              "RandomForestRegressor()"
            ],
            "text/html": [
              "<style>#sk-container-id-1 {color: black;background-color: white;}#sk-container-id-1 pre{padding: 0;}#sk-container-id-1 div.sk-toggleable {background-color: white;}#sk-container-id-1 label.sk-toggleable__label {cursor: pointer;display: block;width: 100%;margin-bottom: 0;padding: 0.3em;box-sizing: border-box;text-align: center;}#sk-container-id-1 label.sk-toggleable__label-arrow:before {content: \"▸\";float: left;margin-right: 0.25em;color: #696969;}#sk-container-id-1 label.sk-toggleable__label-arrow:hover:before {color: black;}#sk-container-id-1 div.sk-estimator:hover label.sk-toggleable__label-arrow:before {color: black;}#sk-container-id-1 div.sk-toggleable__content {max-height: 0;max-width: 0;overflow: hidden;text-align: left;background-color: #f0f8ff;}#sk-container-id-1 div.sk-toggleable__content pre {margin: 0.2em;color: black;border-radius: 0.25em;background-color: #f0f8ff;}#sk-container-id-1 input.sk-toggleable__control:checked~div.sk-toggleable__content {max-height: 200px;max-width: 100%;overflow: auto;}#sk-container-id-1 input.sk-toggleable__control:checked~label.sk-toggleable__label-arrow:before {content: \"▾\";}#sk-container-id-1 div.sk-estimator input.sk-toggleable__control:checked~label.sk-toggleable__label {background-color: #d4ebff;}#sk-container-id-1 div.sk-label input.sk-toggleable__control:checked~label.sk-toggleable__label {background-color: #d4ebff;}#sk-container-id-1 input.sk-hidden--visually {border: 0;clip: rect(1px 1px 1px 1px);clip: rect(1px, 1px, 1px, 1px);height: 1px;margin: -1px;overflow: hidden;padding: 0;position: absolute;width: 1px;}#sk-container-id-1 div.sk-estimator {font-family: monospace;background-color: #f0f8ff;border: 1px dotted black;border-radius: 0.25em;box-sizing: border-box;margin-bottom: 0.5em;}#sk-container-id-1 div.sk-estimator:hover {background-color: #d4ebff;}#sk-container-id-1 div.sk-parallel-item::after {content: \"\";width: 100%;border-bottom: 1px solid gray;flex-grow: 1;}#sk-container-id-1 div.sk-label:hover label.sk-toggleable__label {background-color: #d4ebff;}#sk-container-id-1 div.sk-serial::before {content: \"\";position: absolute;border-left: 1px solid gray;box-sizing: border-box;top: 0;bottom: 0;left: 50%;z-index: 0;}#sk-container-id-1 div.sk-serial {display: flex;flex-direction: column;align-items: center;background-color: white;padding-right: 0.2em;padding-left: 0.2em;position: relative;}#sk-container-id-1 div.sk-item {position: relative;z-index: 1;}#sk-container-id-1 div.sk-parallel {display: flex;align-items: stretch;justify-content: center;background-color: white;position: relative;}#sk-container-id-1 div.sk-item::before, #sk-container-id-1 div.sk-parallel-item::before {content: \"\";position: absolute;border-left: 1px solid gray;box-sizing: border-box;top: 0;bottom: 0;left: 50%;z-index: -1;}#sk-container-id-1 div.sk-parallel-item {display: flex;flex-direction: column;z-index: 1;position: relative;background-color: white;}#sk-container-id-1 div.sk-parallel-item:first-child::after {align-self: flex-end;width: 50%;}#sk-container-id-1 div.sk-parallel-item:last-child::after {align-self: flex-start;width: 50%;}#sk-container-id-1 div.sk-parallel-item:only-child::after {width: 0;}#sk-container-id-1 div.sk-dashed-wrapped {border: 1px dashed gray;margin: 0 0.4em 0.5em 0.4em;box-sizing: border-box;padding-bottom: 0.4em;background-color: white;}#sk-container-id-1 div.sk-label label {font-family: monospace;font-weight: bold;display: inline-block;line-height: 1.2em;}#sk-container-id-1 div.sk-label-container {text-align: center;}#sk-container-id-1 div.sk-container {/* jupyter's `normalize.less` sets `[hidden] { display: none; }` but bootstrap.min.css set `[hidden] { display: none !important; }` so we also need the `!important` here to be able to override the default hidden behavior on the sphinx rendered scikit-learn.org. See: https://github.com/scikit-learn/scikit-learn/issues/21755 */display: inline-block !important;position: relative;}#sk-container-id-1 div.sk-text-repr-fallback {display: none;}</style><div id=\"sk-container-id-1\" class=\"sk-top-container\"><div class=\"sk-text-repr-fallback\"><pre>RandomForestRegressor()</pre><b>In a Jupyter environment, please rerun this cell to show the HTML representation or trust the notebook. <br />On GitHub, the HTML representation is unable to render, please try loading this page with nbviewer.org.</b></div><div class=\"sk-container\" hidden><div class=\"sk-item\"><div class=\"sk-estimator sk-toggleable\"><input class=\"sk-toggleable__control sk-hidden--visually\" id=\"sk-estimator-id-1\" type=\"checkbox\" checked><label for=\"sk-estimator-id-1\" class=\"sk-toggleable__label sk-toggleable__label-arrow\">RandomForestRegressor</label><div class=\"sk-toggleable__content\"><pre>RandomForestRegressor()</pre></div></div></div></div></div>"
            ]
          },
          "metadata": {},
          "execution_count": 9
        }
      ],
      "source": [
        "%%time\n",
        "import numpy as np\n",
        "from sklearn.ensemble import RandomForestRegressor\n",
        "from sklearn.semi_supervised import LabelPropagation\n",
        "\n",
        "# Pre-training step\n",
        "pretrain_model = RandomForestRegressor()\n",
        "pretrain_model.fit(X_train_labeled, y_train_labeled)"
      ],
      "id": "Kk0Eil4iyu_U"
    },
    {
      "cell_type": "code",
      "source": [
        "%%time\n",
        "# Generate representations for labeled and unlabeled data using the pre-trained model\n",
        "labeled_representations = pretrain_model.predict(X_train_labeled)\n",
        "unlabeled_representations = pretrain_model.predict(X_train_unlabeled)\n",
        "\n",
        "# Combine labeled and unlabeled data\n",
        "combined_data = np.vstack((X_train_labeled, X_train_unlabeled))\n",
        "combined_representations = np.concatenate((labeled_representations, unlabeled_representations))"
      ],
      "metadata": {
        "colab": {
          "base_uri": "https://localhost:8080/"
        },
        "id": "yFDFTz5oOkT6",
        "outputId": "ec902f4f-c5d8-46ea-efe5-cc6043760c39"
      },
      "id": "yFDFTz5oOkT6",
      "execution_count": 10,
      "outputs": [
        {
          "output_type": "stream",
          "name": "stdout",
          "text": [
            "CPU times: user 6min 54s, sys: 13.8 s, total: 7min 7s\n",
            "Wall time: 7min 9s\n"
          ]
        }
      ]
    },
    {
      "cell_type": "code",
      "source": [
        "del X_train_labeled\n",
        "del X_train_unlabeled"
      ],
      "metadata": {
        "id": "gZsiYql0h9Yo"
      },
      "id": "gZsiYql0h9Yo",
      "execution_count": 11,
      "outputs": []
    },
    {
      "cell_type": "code",
      "source": [
        "# print how much space each variable requires\n",
        "from __future__ import print_function  # for Python2\n",
        "import sys\n",
        "\n",
        "local_vars = list(locals().items())\n",
        "for var, obj in local_vars:\n",
        "    print(var, sys.getsizeof(obj))"
      ],
      "metadata": {
        "colab": {
          "base_uri": "https://localhost:8080/"
        },
        "id": "i32smxrXhv7f",
        "outputId": "451168df-513d-4640-a8df-68c7fd8e8508"
      },
      "id": "i32smxrXhv7f",
      "execution_count": 13,
      "outputs": [
        {
          "output_type": "stream",
          "name": "stdout",
          "text": [
            "__name__ 57\n",
            "__doc__ 113\n",
            "__package__ 16\n",
            "__loader__ 16\n",
            "__spec__ 16\n",
            "__builtin__ 72\n",
            "__builtins__ 72\n",
            "_ih 184\n",
            "_oh 232\n",
            "_dh 64\n",
            "In 184\n",
            "Out 232\n",
            "get_ipython 64\n",
            "exit 48\n",
            "quit 48\n",
            "_ 48\n",
            "__ 49\n",
            "___ 49\n",
            "_i 258\n",
            "_ii 90\n",
            "_iii 475\n",
            "_i1 474\n",
            "leo_runs_notebook 28\n",
            "drive 72\n",
            "root_path 84\n",
            "_i2 1167\n",
            "np 72\n",
            "pd 72\n",
            "data 1509949568\n",
            "i 28\n",
            "X 20971664\n",
            "Xy 75497600\n",
            "index 28\n",
            "_i3 1140\n",
            "_i4 111\n",
            "_i5 354\n",
            "nonzero 48\n",
            "zero 112\n",
            "df 2321352\n",
            "df1 1507628376\n",
            "_i6 581\n",
            "train_test_split 144\n",
            "X_test_labeled 412800\n",
            "y_train_labeled 206440\n",
            "y_test_labeled 51696\n",
            "_i7 281\n",
            "_i8 81\n",
            "_i9 293\n",
            "RandomForestRegressor 2016\n",
            "LabelPropagation 1072\n",
            "pretrain_model 48\n",
            "_9 48\n",
            "_i10 475\n",
            "labeled_representations 206440\n",
            "unlabeled_representations 167514360\n",
            "combined_data 1341764736\n",
            "combined_representations 167720688\n",
            "_i11 90\n",
            "_i12 258\n",
            "print_function 48\n",
            "sys 72\n",
            "local_vars 552\n",
            "var 52\n",
            "obj 72\n",
            "_i13 258\n"
          ]
        }
      ]
    },
    {
      "cell_type": "code",
      "source": [
        "# del y_train_labeled, data, df1, df, Xy, y_train_labeled, X_train_unlabeled, X\n",
        "# unlabeled_representations, labeled_representations, X_train_labeled, df1, df, Xy, X"
      ],
      "metadata": {
        "id": "LcBmvtnzmfDl"
      },
      "id": "LcBmvtnzmfDl",
      "execution_count": null,
      "outputs": []
    },
    {
      "cell_type": "code",
      "execution_count": null,
      "metadata": {
        "id": "4hkOU1pN3AO7"
      },
      "outputs": [],
      "source": [
        "%%time\n",
        "# Create a regression model (e.g., RandomForestRegressor)\n",
        "regression_model = RandomForestRegressor()\n",
        "regression_model.fit(combined_data, combined_representations)"
      ],
      "id": "4hkOU1pN3AO7"
    },
    {
      "cell_type": "code",
      "source": [
        "del combined_data, combined_representations"
      ],
      "metadata": {
        "id": "5y8Yrt1v2vuO"
      },
      "id": "5y8Yrt1v2vuO",
      "execution_count": null,
      "outputs": []
    },
    {
      "cell_type": "code",
      "source": [
        "# Predict forest height for the test data\n",
        "y_pred_test = regression_model.predict(X_test_labeled)"
      ],
      "metadata": {
        "id": "MnvbsPJO2t5E"
      },
      "id": "MnvbsPJO2t5E",
      "execution_count": null,
      "outputs": []
    },
    {
      "cell_type": "code",
      "source": [
        "del X_test_labeled"
      ],
      "metadata": {
        "id": "YvqJsR9WiHqa"
      },
      "id": "YvqJsR9WiHqa",
      "execution_count": null,
      "outputs": []
    },
    {
      "cell_type": "code",
      "execution_count": null,
      "metadata": {
        "id": "9a1f7ab4"
      },
      "outputs": [],
      "source": [
        "%matplotlib inline\n",
        "import matplotlib.pyplot as plt\n",
        "from matplotlib.ticker import StrMethodFormatter\n",
        "\n",
        "from sklearn.metrics import mean_squared_error\n",
        "\n",
        "# compute RMSE\n",
        "print(\"RMSE: {}\".format(np.sqrt(mean_squared_error(y_test_labeled, y_pred_test))))\n",
        "\n",
        "# visualize predictions vs. true labels\n",
        "fig = plt.figure(figsize=(8,8))\n",
        "plt.scatter(y_pred_test, y_test_labeled, color=\"blue\", alpha=0.5)\n",
        "plt.xticks(rotation=45)\n",
        "plt.gca().xaxis.set_major_formatter(StrMethodFormatter('{x:,.0f}'))\n",
        "plt.plot([-1, 83], [-1, 83], 'k--')\n",
        "plt.xlabel(\"Predictions\")\n",
        "plt.ylabel(\"True Labels\")\n",
        "plt.xlim([-1, 83])\n",
        "plt.ylim([-1, 83])\n",
        "plt.title(\"Evaluation of Random Forest Regression Model \")\n",
        "plt.show()"
      ],
      "id": "9a1f7ab4"
    },
    {
      "cell_type": "code",
      "execution_count": null,
      "metadata": {
        "id": "cec63412"
      },
      "outputs": [],
      "source": [
        "from sklearn.metrics import mean_absolute_error\n",
        "\n",
        "mse = mean_absolute_error(y_test_labeled, y_pred_test)\n",
        "\n",
        "print(\"Mean Absolute Error:\", mse)"
      ],
      "id": "cec63412"
    },
    {
      "cell_type": "code",
      "source": [],
      "metadata": {
        "id": "MRFORia2iKR7"
      },
      "id": "MRFORia2iKR7",
      "execution_count": null,
      "outputs": []
    }
  ],
  "metadata": {
    "colab": {
      "provenance": [],
      "include_colab_link": true
    },
    "kernelspec": {
      "display_name": "Python 3",
      "name": "python3"
    },
    "language_info": {
      "codemirror_mode": {
        "name": "ipython",
        "version": 3
      },
      "file_extension": ".py",
      "mimetype": "text/x-python",
      "name": "python",
      "nbconvert_exporter": "python",
      "pygments_lexer": "ipython3",
      "version": "3.9.6"
    }
  },
  "nbformat": 4,
  "nbformat_minor": 5
}