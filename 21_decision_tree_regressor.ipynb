{
  "cells": [
    {
      "cell_type": "markdown",
      "metadata": {
        "id": "view-in-github",
        "colab_type": "text"
      },
      "source": [
        "<a href=\"https://colab.research.google.com/github/lgiesen/forest-height/blob/main/21_decision_tree_regressor.ipynb\" target=\"_parent\"><img src=\"https://colab.research.google.com/assets/colab-badge.svg\" alt=\"Open In Colab\"/></a>"
      ]
    },
    {
      "cell_type": "code",
      "source": [
        "from google.colab import drive\n",
        "drive.mount ('/content/drive', force_remount=True)\n",
        "root_path = 'drive/MyDrive/Colab Notebooks/data/'"
      ],
      "metadata": {
        "id": "VQDXPeUDKMnG",
        "outputId": "1f2d8a5d-97b8-48c1-9dd3-2715e1f342a3",
        "colab": {
          "base_uri": "https://localhost:8080/"
        }
      },
      "execution_count": 24,
      "outputs": [
        {
          "output_type": "stream",
          "name": "stdout",
          "text": [
            "Mounted at /content/drive\n"
          ]
        }
      ]
    },
    {
      "cell_type": "code",
      "execution_count": 25,
      "metadata": {
        "colab": {
          "base_uri": "https://localhost:8080/"
        },
        "id": "57beiuW6Nx-B",
        "outputId": "974d76de-eec3-42e8-db18-349989aa896e"
      },
      "outputs": [
        {
          "output_type": "stream",
          "name": "stdout",
          "text": [
            "Mounted at /content/drive\n",
            "0_load_data.ipynb completed.\n"
          ]
        }
      ],
      "source": [
        "%run \"/content/drive/MyDrive/Colab Notebooks/0_load_data.ipynb\""
      ]
    },
    {
      "cell_type": "code",
      "execution_count": 26,
      "metadata": {
        "id": "aZ_VFutfOgFP"
      },
      "outputs": [],
      "source": [
        "# load dataset\n",
        "path_train_sat = f\"{root_path}train_satellite.npy\"\n",
        "path_train_masks = f\"{root_path}train_masks.npy\"\n",
        "\n",
        "X = np.load(path_train_sat, allow_pickle=True)\n",
        "y = np.load(path_train_masks, allow_pickle=True)"
      ]
    },
    {
      "cell_type": "code",
      "execution_count": 27,
      "metadata": {
        "id": "TlVA_IW0N58W"
      },
      "outputs": [],
      "source": [
        "# remove drive connection as it is no longer needed\n",
        "drive.flush_and_unmount()"
      ]
    },
    {
      "cell_type": "code",
      "source": [
        "# ceil the values at 2000 because clouds have a different reflection value\n",
        "ceiling = 2000\n",
        "X[X > ceiling] = ceiling"
      ],
      "metadata": {
        "id": "73j0pYQKMMJU"
      },
      "execution_count": 28,
      "outputs": []
    },
    {
      "cell_type": "code",
      "source": [
        "# scale values between 0 and 1\n",
        "X = X/ceiling"
      ],
      "metadata": {
        "id": "XAHc0EaQMNaz"
      },
      "execution_count": 29,
      "outputs": []
    },
    {
      "cell_type": "code",
      "source": [
        "X.shape"
      ],
      "metadata": {
        "id": "ozgvH0sxNZNl",
        "outputId": "f0e1c2de-e819-4990-fa74-875af1d6556b",
        "colab": {
          "base_uri": "https://localhost:8080/"
        }
      },
      "execution_count": 30,
      "outputs": [
        {
          "output_type": "execute_result",
          "data": {
            "text/plain": [
              "(20, 10, 1024, 1024)"
            ]
          },
          "metadata": {},
          "execution_count": 30
        }
      ]
    },
    {
      "cell_type": "markdown",
      "source": [
        "# Creating Cutouts"
      ],
      "metadata": {
        "id": "vhaFtYdxLrYY"
      }
    },
    {
      "cell_type": "code",
      "source": [
        "patch_shape = (1, 256, 256, 10) # needs to have the same number of dimensions as the whole image\n",
        "step_size = 256"
      ],
      "metadata": {
        "id": "6J__jYQsNWT4"
      },
      "execution_count": 50,
      "outputs": []
    },
    {
      "cell_type": "code",
      "source": [
        "!pip install patchify"
      ],
      "metadata": {
        "id": "ka7f2319OMhG"
      },
      "execution_count": null,
      "outputs": []
    },
    {
      "cell_type": "code",
      "source": [
        "from patchify import patchify, unpatchify\n",
        "image = np.reshape(X, (20, 1024, 1024, 10))\n",
        "patches = patchify(image, patch_shape, step=step_size)\n",
        "print(patches.shape)"
      ],
      "metadata": {
        "id": "C-33IwGxLtDU",
        "outputId": "531c5f3f-3e2a-43cd-d50b-a9c308a4cb18",
        "colab": {
          "base_uri": "https://localhost:8080/"
        }
      },
      "execution_count": 65,
      "outputs": [
        {
          "output_type": "stream",
          "name": "stdout",
          "text": [
            "(1, 4, 4, 1, 1, 256, 256, 10)\n"
          ]
        }
      ]
    },
    {
      "cell_type": "code",
      "source": [
        "X.shape, image.shape"
      ],
      "metadata": {
        "id": "s4kiWwVaQOzf",
        "outputId": "34a27811-b2ac-4005-ac6a-eefd5587d943",
        "colab": {
          "base_uri": "https://localhost:8080/"
        }
      },
      "execution_count": 66,
      "outputs": [
        {
          "output_type": "execute_result",
          "data": {
            "text/plain": [
              "((20, 10, 1024, 1024), (20, 1024, 1024, 10))"
            ]
          },
          "metadata": {},
          "execution_count": 66
        }
      ]
    },
    {
      "cell_type": "code",
      "source": [
        "assert patches.shape == (1, 4, 4, 1, 1, 256, 256, 10)\n",
        "reconstructed_image = unpatchify(patches, image.shape)\n",
        "print(reconstructed_image.shape)\n",
        "\n",
        "assert (reconstructed_image == image).all()"
      ],
      "metadata": {
        "id": "lV1EdaCoNt8G",
        "outputId": "9eb58978-093b-4f87-87b5-1a302749efd3",
        "colab": {
          "base_uri": "https://localhost:8080/",
          "height": 358
        }
      },
      "execution_count": 72,
      "outputs": [
        {
          "output_type": "error",
          "ename": "NotImplementedError",
          "evalue": "ignored",
          "traceback": [
            "\u001b[0;31m---------------------------------------------------------------------------\u001b[0m",
            "\u001b[0;31mNotImplementedError\u001b[0m                       Traceback (most recent call last)",
            "\u001b[0;32m<ipython-input-72-0ea302e4f6a8>\u001b[0m in \u001b[0;36m<cell line: 2>\u001b[0;34m()\u001b[0m\n\u001b[1;32m      1\u001b[0m \u001b[0;32massert\u001b[0m \u001b[0mpatches\u001b[0m\u001b[0;34m.\u001b[0m\u001b[0mshape\u001b[0m \u001b[0;34m==\u001b[0m \u001b[0;34m(\u001b[0m\u001b[0;36m1\u001b[0m\u001b[0;34m,\u001b[0m \u001b[0;36m4\u001b[0m\u001b[0;34m,\u001b[0m \u001b[0;36m4\u001b[0m\u001b[0;34m,\u001b[0m \u001b[0;36m1\u001b[0m\u001b[0;34m,\u001b[0m \u001b[0;36m1\u001b[0m\u001b[0;34m,\u001b[0m \u001b[0;36m256\u001b[0m\u001b[0;34m,\u001b[0m \u001b[0;36m256\u001b[0m\u001b[0;34m,\u001b[0m \u001b[0;36m10\u001b[0m\u001b[0;34m)\u001b[0m\u001b[0;34m\u001b[0m\u001b[0;34m\u001b[0m\u001b[0m\n\u001b[0;32m----> 2\u001b[0;31m \u001b[0mreconstructed_image\u001b[0m \u001b[0;34m=\u001b[0m \u001b[0munpatchify\u001b[0m\u001b[0;34m(\u001b[0m\u001b[0mpatches\u001b[0m\u001b[0;34m,\u001b[0m \u001b[0mimage\u001b[0m\u001b[0;34m.\u001b[0m\u001b[0mshape\u001b[0m\u001b[0;34m)\u001b[0m\u001b[0;34m\u001b[0m\u001b[0;34m\u001b[0m\u001b[0m\n\u001b[0m\u001b[1;32m      3\u001b[0m \u001b[0mprint\u001b[0m\u001b[0;34m(\u001b[0m\u001b[0mreconstructed_image\u001b[0m\u001b[0;34m.\u001b[0m\u001b[0mshape\u001b[0m\u001b[0;34m)\u001b[0m\u001b[0;34m\u001b[0m\u001b[0;34m\u001b[0m\u001b[0m\n\u001b[1;32m      4\u001b[0m \u001b[0;34m\u001b[0m\u001b[0m\n\u001b[1;32m      5\u001b[0m \u001b[0;32massert\u001b[0m \u001b[0;34m(\u001b[0m\u001b[0mreconstructed_image\u001b[0m \u001b[0;34m==\u001b[0m \u001b[0mimage\u001b[0m\u001b[0;34m)\u001b[0m\u001b[0;34m.\u001b[0m\u001b[0mall\u001b[0m\u001b[0;34m(\u001b[0m\u001b[0;34m)\u001b[0m\u001b[0;34m\u001b[0m\u001b[0;34m\u001b[0m\u001b[0m\n",
            "\u001b[0;32m/usr/local/lib/python3.10/dist-packages/patchify/__init__.py\u001b[0m in \u001b[0;36munpatchify\u001b[0;34m(patches, imsize)\u001b[0m\n\u001b[1;32m     61\u001b[0m         \u001b[0;32mreturn\u001b[0m \u001b[0m_unpatchify3d\u001b[0m\u001b[0;34m(\u001b[0m\u001b[0mpatches\u001b[0m\u001b[0;34m,\u001b[0m \u001b[0mcast\u001b[0m\u001b[0;34m(\u001b[0m\u001b[0mTuple\u001b[0m\u001b[0;34m[\u001b[0m\u001b[0mint\u001b[0m\u001b[0;34m,\u001b[0m \u001b[0mint\u001b[0m\u001b[0;34m,\u001b[0m \u001b[0mint\u001b[0m\u001b[0;34m]\u001b[0m\u001b[0;34m,\u001b[0m \u001b[0mimsize\u001b[0m\u001b[0;34m)\u001b[0m\u001b[0;34m)\u001b[0m\u001b[0;34m\u001b[0m\u001b[0;34m\u001b[0m\u001b[0m\n\u001b[1;32m     62\u001b[0m     \u001b[0;32melse\u001b[0m\u001b[0;34m:\u001b[0m\u001b[0;34m\u001b[0m\u001b[0;34m\u001b[0m\u001b[0m\n\u001b[0;32m---> 63\u001b[0;31m         raise NotImplementedError(\n\u001b[0m\u001b[1;32m     64\u001b[0m             \u001b[0;34m\"Unpatchify only supports a matrix of 2D patches (k, l, m, n)\"\u001b[0m\u001b[0;34m\u001b[0m\u001b[0;34m\u001b[0m\u001b[0m\n\u001b[1;32m     65\u001b[0m             \u001b[0;34mf\"or 3D volumes (i, j, k, l, m, n), but got: {patches.shape}\"\u001b[0m\u001b[0;34m\u001b[0m\u001b[0;34m\u001b[0m\u001b[0m\n",
            "\u001b[0;31mNotImplementedError\u001b[0m: Unpatchify only supports a matrix of 2D patches (k, l, m, n)or 3D volumes (i, j, k, l, m, n), but got: (1, 4, 4, 1, 1, 256, 256, 10)"
          ]
        }
      ]
    },
    {
      "cell_type": "markdown",
      "source": [
        "Undo patchify (merge cutouts to one larger image) with: `unpatchify(patches_to_merge, merged_image_size` => `reconstructed_image = unpatchify(patches, image.shape)`"
      ],
      "metadata": {
        "id": "Mg0U78vaL0BD"
      }
    },
    {
      "cell_type": "markdown",
      "source": [
        "Split the dataset into training and test set"
      ],
      "metadata": {
        "id": "wbnhB8s6M6N0"
      }
    },
    {
      "cell_type": "code",
      "source": [
        "from sklearn.model_selection import train_test_split\n",
        "# split dataset for training and testing\n",
        "X_train, X_test, y_train, y_test = train_test_split(X, y, test_size=0.2, random_state=0, shuffle=True)"
      ],
      "metadata": {
        "id": "bbTj4WS5M6mV"
      },
      "execution_count": null,
      "outputs": []
    },
    {
      "cell_type": "code",
      "source": [
        "del X\n",
        "del y"
      ],
      "metadata": {
        "id": "gEayqpGzNAzT"
      },
      "execution_count": null,
      "outputs": []
    },
    {
      "cell_type": "code",
      "source": [
        "X_train.shape, type(X_train), y_train.shape, type(y_train)"
      ],
      "metadata": {
        "id": "Ben8O2_3NCGA"
      },
      "execution_count": null,
      "outputs": []
    },
    {
      "cell_type": "markdown",
      "source": [
        "# Data Augmentation"
      ],
      "metadata": {
        "id": "W1NNfsE7LOC2"
      }
    },
    {
      "cell_type": "code",
      "source": [
        "import tensorflow as tf\n",
        "from tensorflow import keras\n",
        "#Data augmentation\n",
        "data_augmentation = tf.keras.Sequential([\n",
        "    keras.layers.experimental.preprocessing.RandomFlip(\"horizontal_and_vertical\"),\n",
        "    #keras.layers.experimental.preprocessing.RandomRotation(0.4),\n",
        "    #keras.layers.RandomCrop(224, 224)\n",
        "])\n",
        "\n",
        "image = scaled_img.reshape((3, 1024, 1024))\n",
        "image = np.asarray(scaled_img)"
      ],
      "metadata": {
        "id": "zxfJM2krLQoS"
      },
      "execution_count": null,
      "outputs": []
    },
    {
      "cell_type": "code",
      "source": [
        "#image = tf.cast(tf.expand_dims(image, 0), tf.float32)\n",
        "plt.figure(figsize=(10, 10))\n",
        "\n",
        "for i in range(9):\n",
        "  augmented_image = data_augmentation(image, training=True)\n",
        "  ax = plt.subplot(3, 3, i + 1)\n",
        "  plt.subplots_adjust(hspace=0.07, wspace=0.01)\n",
        "  plt.imshow(augmented_image)\n",
        "  plt.axis(\"off\")\n",
        "  #print(augmented_image.shape)\n",
        "  #print(i)\n",
        "  #plot_img(augmented_image)"
      ],
      "metadata": {
        "id": "jBbRfIdjLScS"
      },
      "execution_count": null,
      "outputs": []
    },
    {
      "cell_type": "markdown",
      "metadata": {
        "id": "IraOUErnzb--"
      },
      "source": [
        "## Decision Tree Regressor"
      ]
    },
    {
      "cell_type": "code",
      "execution_count": null,
      "metadata": {
        "id": "7FnVwWvYzb-_"
      },
      "outputs": [],
      "source": [
        "from sklearn.tree import DecisionTreeRegressor\n",
        "\n",
        "# instantiate the model\n",
        "# TODO: Try out different values for min_samples_split\n",
        "# corresponds to \"m\" in the slides\n",
        "min_samples_split = 2\n",
        "\n",
        "# instantiate model and fit it!\n",
        "model = DecisionTreeRegressor(max_depth=5, min_samples_split=min_samples_split)"
      ]
    },
    {
      "cell_type": "code",
      "source": [
        "def reshape_2D(var):\n",
        "  if len(var.shape) == 4:\n",
        "    nsamples, color_channel, nx, ny = var.shape\n",
        "  else:\n",
        "    nsamples, nx, ny = var.shape\n",
        "    color_channel = 1\n",
        "  return var.reshape((nsamples, color_channel*nx*ny))"
      ],
      "metadata": {
        "id": "MY0a4ZjD5upH"
      },
      "execution_count": null,
      "outputs": []
    },
    {
      "cell_type": "code",
      "source": [
        "# reshape data so that DecisionTreeRegressor can work with the data\n",
        "X_train_2D = reshape_2D(X_train).tolist()\n",
        "y_train_2D = reshape_2D(y_train).tolist()"
      ],
      "metadata": {
        "id": "6FrMQZiZ5qs7"
      },
      "execution_count": null,
      "outputs": []
    },
    {
      "cell_type": "markdown",
      "source": [
        "> Try out df as a data format. Previously tried out: ndarray, list\n",
        "\n",
        "> Use k-fold cross-validation for hyperparameter tuning of `max_depth`"
      ],
      "metadata": {
        "id": "J4g3_O8s3hFe"
      }
    },
    {
      "cell_type": "code",
      "source": [
        "del X, y"
      ],
      "metadata": {
        "id": "t_HCdFOehVr6"
      },
      "execution_count": null,
      "outputs": []
    },
    {
      "cell_type": "code",
      "source": [
        "%%time\n",
        "# train the model\n",
        "model.fit(X_train_2D, y_train_2D)\n",
        "#model_2.fit(X_train_2D, y_train_2D)"
      ],
      "metadata": {
        "id": "uXu9Q-2UFuqy"
      },
      "execution_count": null,
      "outputs": []
    },
    {
      "cell_type": "code",
      "source": [
        "from sklearn.model_selection import GridSearchCV\n",
        "# k-fold cross-validation for hyperparameter tuning of max_depth\n",
        "gs = GridSearchCV(model,\n",
        "                  param_grid = {'max_depth': range(1, 11),\n",
        "                                'min_samples_split': range(10, 60, 10)},\n",
        "                  cv=5,r\n",
        "                  n_jobs=1,\n",
        "                  scoring='neg_mean_squared_error')\n",
        "\n",
        "gs.fit(X_train, y_train) # X_train_2D, y_train_2D\n",
        "\n",
        "print(gs.best_params_)\n",
        "print(-gs.best_score_)"
      ],
      "metadata": {
        "id": "d8zwUbnp4q_0"
      },
      "execution_count": null,
      "outputs": []
    },
    {
      "cell_type": "code",
      "execution_count": null,
      "metadata": {
        "id": "UiVkmNYkzb-_"
      },
      "outputs": [],
      "source": [
        "# Predict\n",
        "# X_test = np.arange(0.0, 5.0, 0.01)[:, np.newaxis]\n",
        "X_test_2D = reshape_2D(X_test).tolist()\n",
        "y_test_2D = reshape_2D(y_test).tolist()\n",
        "preds = model.predict(X_test_2D)\n",
        "#preds_model_2 = model_2.predict(y_test_2D)"
      ]
    },
    {
      "cell_type": "code",
      "source": [
        "model.summary()"
      ],
      "metadata": {
        "id": "bkq6lX0nBMFR"
      },
      "execution_count": null,
      "outputs": []
    },
    {
      "cell_type": "code",
      "source": [
        "# save the model to disk\n",
        "import pickle\n",
        "path_reg_model = root_path + 'DecisionTreeRegressor.sav'\n",
        "pickle.dump(model, open(path_reg_model, 'wb'))\n",
        "# loaded_model = pickle.load(open(path_reg_model, 'rb'))"
      ],
      "metadata": {
        "id": "7TQX5TacAab8"
      },
      "execution_count": null,
      "outputs": []
    },
    {
      "cell_type": "code",
      "source": [
        "# save the model to disk\n",
        "import pickle\n",
        "from sklearn.externals import joblib\n",
        "path_reg_model = root_path +  \"DecisionTreeRegressor.joblib\"\n",
        "joblib.dump(model, path_reg_model)\n",
        "# loaded_model = joblib.load(path_reg_model)"
      ],
      "metadata": {
        "id": "znFuFO3EAtxc"
      },
      "execution_count": null,
      "outputs": []
    },
    {
      "cell_type": "code",
      "execution_count": null,
      "metadata": {
        "id": "n1SX0zqKzb-_"
      },
      "outputs": [],
      "source": [
        "# Plot the results\n",
        "plt.figure()\n",
        "plt.scatter(X, y, s=20, edgecolor=\"black\", c=\"darkorange\", label=\"data\")\n",
        "plt.plot(X_test_2D, y_test_2D, color=\"cornflowerblue\", label=\"max_depth=2\", linewidth=2)\n",
        "plt.plot(X_test_2D, y_test_2D, color=\"yellowgreen\", label=\"max_depth=5\", linewidth=2)\n",
        "plt.xlabel(\"data\")\n",
        "plt.ylabel(\"target\")\n",
        "plt.title(\"Decision Tree Regression\")\n",
        "plt.legend()\n",
        "plt.show()\n",
        "\n",
        "# from the Lecture:\n",
        "X_plot = np.arange(0.0, 5.0, 0.01).reshape((-1,1))\n",
        "plt.figure(figsize=(10,6))\n",
        "plt.scatter(X, y, c=\"darkorange\", label=\"Data\", s=25)\n",
        "plt.plot(X_plot, preds, color=\"cornflowerblue\", label=\"Model\", linewidth=3)\n",
        "plt.xlabel(\"X\", fontsize=18)\n",
        "plt.ylabel(\"Y\", fontsize=18)\n",
        "plt.title(f\"Regression Tree (m={min_samples_split})\", fontsize=16)\n",
        "plt.legend()\n",
        "\n",
        "#\n",
        "sns.scatterplot(x=df['Longitude'],\n",
        "                y=df['MedHouseVal'],\n",
        "                label='data')\n",
        "\n",
        "plt.plot(df['Longitude'].sort_values(),\n",
        "         dtr1.predict(df['Longitude'].sort_values().to_frame()),\n",
        "         color='red', label='model',\n",
        "         linewidth=2)\n",
        "\n",
        "plt.legend()\n",
        "\n",
        "plt.savefig('model.png')"
      ]
    },
    {
      "cell_type": "code",
      "source": [
        "# visualize tree\n",
        "from sklearn.tree import export_graphviz\n",
        "import graphviz\n",
        "\n",
        "dot_data = export_graphviz(dtr1, feature_names=['Longitude'],\n",
        "                           filled=True, rounded=True)\n",
        "\n",
        "graph = graphviz.Source(dot_data)\n",
        "graph.render(\"tree\")"
      ],
      "metadata": {
        "id": "NpXSTJ3K3aK2"
      },
      "execution_count": null,
      "outputs": []
    },
    {
      "cell_type": "markdown",
      "source": [
        "Visualize Decision Tree: https://towardsdatascience.com/visualizing-decision-trees-with-python-scikit-learn-graphviz-matplotlib-1c50b4aa68dc"
      ],
      "metadata": {
        "id": "r2LM7R-r_hJu"
      }
    },
    {
      "cell_type": "code",
      "source": [
        "# Evaluate Decision Tree Regressor\n",
        "loss, acc = model.evaluate(X_test_2D, y_test_2D, verbose=2)\n",
        "print(\"Untrained model, accuracy: {:5.2f}%\".format(100 * acc))"
      ],
      "metadata": {
        "id": "W6a8P3X8BXvO"
      },
      "execution_count": null,
      "outputs": []
    }
  ],
  "metadata": {
    "colab": {
      "provenance": [],
      "include_colab_link": true
    },
    "kernelspec": {
      "display_name": "Python 3",
      "name": "python3"
    },
    "language_info": {
      "name": "python",
      "version": "3.10.8"
    }
  },
  "nbformat": 4,
  "nbformat_minor": 0
}