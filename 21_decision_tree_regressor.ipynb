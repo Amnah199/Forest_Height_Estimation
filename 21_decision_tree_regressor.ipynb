{
  "cells": [
    {
      "cell_type": "markdown",
      "metadata": {
        "id": "view-in-github",
        "colab_type": "text"
      },
      "source": [
        "<a href=\"https://colab.research.google.com/github/lgiesen/forest-height/blob/main/21_decision_tree_regressor.ipynb\" target=\"_parent\"><img src=\"https://colab.research.google.com/assets/colab-badge.svg\" alt=\"Open In Colab\"/></a>"
      ]
    },
    {
      "cell_type": "code",
      "execution_count": null,
      "metadata": {
        "colab": {
          "base_uri": "https://localhost:8080/"
        },
        "id": "57beiuW6Nx-B",
        "outputId": "b94739ee-9b5f-4cc1-aff2-0f905abd421b"
      },
      "outputs": [
        {
          "output_type": "stream",
          "name": "stdout",
          "text": [
            "Mounted at /content/drive\n"
          ]
        }
      ],
      "source": [
        "%run \"/content/drive/MyDrive/Colab Notebooks/0_load_data.ipynb\""
      ]
    },
    {
      "cell_type": "code",
      "execution_count": null,
      "metadata": {
        "id": "aZ_VFutfOgFP"
      },
      "outputs": [],
      "source": [
        "# load dataset\n",
        "path_train_sat = f\"{root_path}train_satellite.npy\"\n",
        "path_train_masks = f\"{root_path}train_masks.npy\"\n",
        "\n",
        "X = np.load(path_train_sat, allow_pickle=True)\n",
        "y = np.load(path_train_masks, allow_pickle=True)"
      ]
    },
    {
      "cell_type": "code",
      "execution_count": null,
      "metadata": {
        "id": "TlVA_IW0N58W"
      },
      "outputs": [],
      "source": [
        "# remove drive connection as it is no longer needed\n",
        "drive.flush_and_unmount()"
      ]
    },
    {
      "cell_type": "code",
      "execution_count": null,
      "metadata": {
        "id": "K7Z86jZgBgtW"
      },
      "outputs": [],
      "source": [
        "from sklearn.model_selection import train_test_split\n",
        "# split dataset for training and testing\n",
        "X_train, X_test, y_train, y_test = train_test_split(X, y, test_size=0.2, random_state=0, shuffle=True)"
      ]
    },
    {
      "cell_type": "markdown",
      "metadata": {
        "id": "IraOUErnzb--"
      },
      "source": [
        "## Decision Tree Regressor"
      ]
    },
    {
      "cell_type": "code",
      "execution_count": null,
      "metadata": {
        "id": "7FnVwWvYzb-_"
      },
      "outputs": [],
      "source": [
        "from sklearn.tree import DecisionTreeRegressor\n",
        "\n",
        "# instantiate the model\n",
        "# TODO: Try out different values for min_samples_split\n",
        "# corresponds to \"m\" in the slides\n",
        "min_samples_split = 2\n",
        "\n",
        "# instantiate model and fit it!\n",
        "model = DecisionTreeRegressor(max_depth=5, min_samples_split=min_samples_split)"
      ]
    },
    {
      "cell_type": "code",
      "source": [
        "def reshape_2D(var):\n",
        "  if len(var.shape) == 4:\n",
        "    nsamples, color_channel, nx, ny = var.shape\n",
        "  else:\n",
        "    nsamples, nx, ny = var.shape\n",
        "    color_channel = 1\n",
        "  return var.reshape((nsamples, color_channel*nx*ny))"
      ],
      "metadata": {
        "id": "MY0a4ZjD5upH"
      },
      "execution_count": null,
      "outputs": []
    },
    {
      "cell_type": "code",
      "source": [
        "# reshape data so that DecisionTreeRegressor can work with the data\n",
        "X_train_2D = reshape_2D(X_train).tolist()\n",
        "y_train_2D = reshape_2D(y_train).tolist()"
      ],
      "metadata": {
        "id": "6FrMQZiZ5qs7"
      },
      "execution_count": null,
      "outputs": []
    },
    {
      "cell_type": "markdown",
      "source": [
        "> Try out df as a data format. Previously tried out: ndarray, list\n",
        "\n",
        "> Use k-fold cross-validation for hyperparameter tuning of `max_depth`"
      ],
      "metadata": {
        "id": "J4g3_O8s3hFe"
      }
    },
    {
      "cell_type": "code",
      "source": [
        "del X, y"
      ],
      "metadata": {
        "id": "t_HCdFOehVr6"
      },
      "execution_count": null,
      "outputs": []
    },
    {
      "cell_type": "code",
      "source": [
        "%%time\n",
        "# train the model\n",
        "model.fit(X_train_2D, y_train_2D)\n",
        "#model_2.fit(X_train_2D, y_train_2D)"
      ],
      "metadata": {
        "id": "uXu9Q-2UFuqy"
      },
      "execution_count": null,
      "outputs": []
    },
    {
      "cell_type": "code",
      "source": [
        "from sklearn.model_selection import GridSearchCV\n",
        "# k-fold cross-validation for hyperparameter tuning of max_depth\n",
        "gs = GridSearchCV(model,\n",
        "                  param_grid = {'max_depth': range(1, 11),\n",
        "                                'min_samples_split': range(10, 60, 10)},\n",
        "                  cv=5,r\n",
        "                  n_jobs=1,\n",
        "                  scoring='neg_mean_squared_error')\n",
        "\n",
        "gs.fit(X_train, y_train) # X_train_2D, y_train_2D\n",
        "\n",
        "print(gs.best_params_)\n",
        "print(-gs.best_score_)"
      ],
      "metadata": {
        "id": "d8zwUbnp4q_0"
      },
      "execution_count": null,
      "outputs": []
    },
    {
      "cell_type": "code",
      "execution_count": null,
      "metadata": {
        "id": "UiVkmNYkzb-_"
      },
      "outputs": [],
      "source": [
        "# Predict\n",
        "# X_test = np.arange(0.0, 5.0, 0.01)[:, np.newaxis]\n",
        "X_test_2D = reshape_2D(X_test).tolist()\n",
        "y_test_2D = reshape_2D(y_test).tolist()\n",
        "preds = model.predict(X_test_2D)\n",
        "#preds_model_2 = model_2.predict(y_test_2D)"
      ]
    },
    {
      "cell_type": "code",
      "source": [
        "model.summary()"
      ],
      "metadata": {
        "id": "bkq6lX0nBMFR"
      },
      "execution_count": null,
      "outputs": []
    },
    {
      "cell_type": "code",
      "source": [
        "# save the model to disk\n",
        "import pickle\n",
        "path_reg_model = root_path + 'DecisionTreeRegressor.sav'\n",
        "pickle.dump(model, open(path_reg_model, 'wb'))\n",
        "# loaded_model = pickle.load(open(path_reg_model, 'rb'))"
      ],
      "metadata": {
        "id": "7TQX5TacAab8"
      },
      "execution_count": null,
      "outputs": []
    },
    {
      "cell_type": "code",
      "source": [
        "# save the model to disk\n",
        "import pickle\n",
        "from sklearn.externals import joblib\n",
        "path_reg_model = root_path +  \"DecisionTreeRegressor.joblib\"\n",
        "joblib.dump(model, path_reg_model)\n",
        "# loaded_model = joblib.load(path_reg_model)"
      ],
      "metadata": {
        "id": "znFuFO3EAtxc"
      },
      "execution_count": null,
      "outputs": []
    },
    {
      "cell_type": "code",
      "execution_count": null,
      "metadata": {
        "id": "n1SX0zqKzb-_"
      },
      "outputs": [],
      "source": [
        "# Plot the results\n",
        "plt.figure()\n",
        "plt.scatter(X, y, s=20, edgecolor=\"black\", c=\"darkorange\", label=\"data\")\n",
        "plt.plot(X_test_2D, y_test_2D, color=\"cornflowerblue\", label=\"max_depth=2\", linewidth=2)\n",
        "plt.plot(X_test_2D, y_test_2D, color=\"yellowgreen\", label=\"max_depth=5\", linewidth=2)\n",
        "plt.xlabel(\"data\")\n",
        "plt.ylabel(\"target\")\n",
        "plt.title(\"Decision Tree Regression\")\n",
        "plt.legend()\n",
        "plt.show()\n",
        "\n",
        "# from the Lecture:\n",
        "X_plot = np.arange(0.0, 5.0, 0.01).reshape((-1,1))\n",
        "plt.figure(figsize=(10,6))\n",
        "plt.scatter(X, y, c=\"darkorange\", label=\"Data\", s=25)\n",
        "plt.plot(X_plot, preds, color=\"cornflowerblue\", label=\"Model\", linewidth=3)\n",
        "plt.xlabel(\"X\", fontsize=18)\n",
        "plt.ylabel(\"Y\", fontsize=18)\n",
        "plt.title(f\"Regression Tree (m={min_samples_split})\", fontsize=16)\n",
        "plt.legend()\n",
        "\n",
        "#\n",
        "sns.scatterplot(x=df['Longitude'],\n",
        "                y=df['MedHouseVal'],\n",
        "                label='data')\n",
        "\n",
        "plt.plot(df['Longitude'].sort_values(),\n",
        "         dtr1.predict(df['Longitude'].sort_values().to_frame()),\n",
        "         color='red', label='model',\n",
        "         linewidth=2)\n",
        "\n",
        "plt.legend()\n",
        "\n",
        "plt.savefig('model.png')"
      ]
    },
    {
      "cell_type": "code",
      "source": [
        "# visualize tree\n",
        "from sklearn.tree import export_graphviz\n",
        "import graphviz\n",
        "\n",
        "dot_data = export_graphviz(dtr1, feature_names=['Longitude'],\n",
        "                           filled=True, rounded=True)\n",
        "\n",
        "graph = graphviz.Source(dot_data)\n",
        "graph.render(\"tree\")"
      ],
      "metadata": {
        "id": "NpXSTJ3K3aK2"
      },
      "execution_count": null,
      "outputs": []
    },
    {
      "cell_type": "markdown",
      "source": [
        "Visualize Decision Tree: https://towardsdatascience.com/visualizing-decision-trees-with-python-scikit-learn-graphviz-matplotlib-1c50b4aa68dc"
      ],
      "metadata": {
        "id": "r2LM7R-r_hJu"
      }
    },
    {
      "cell_type": "code",
      "source": [
        "# Evaluate Decision Tree Regressor\n",
        "loss, acc = model.evaluate(X_test_2D, y_test_2D, verbose=2)\n",
        "print(\"Untrained model, accuracy: {:5.2f}%\".format(100 * acc))"
      ],
      "metadata": {
        "id": "W6a8P3X8BXvO"
      },
      "execution_count": null,
      "outputs": []
    }
  ],
  "metadata": {
    "colab": {
      "provenance": [],
      "include_colab_link": true
    },
    "kernelspec": {
      "display_name": "Python 3",
      "name": "python3"
    },
    "language_info": {
      "name": "python",
      "version": "3.10.8"
    }
  },
  "nbformat": 4,
  "nbformat_minor": 0
}