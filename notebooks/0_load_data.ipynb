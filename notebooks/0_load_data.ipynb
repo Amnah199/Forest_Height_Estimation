{
  "nbformat": 4,
  "nbformat_minor": 0,
  "metadata": {
    "colab": {
      "provenance": [],
      "authorship_tag": "ABX9TyNv+eDZNLuEA9H+4D/Lv4bv",
      "include_colab_link": true
    },
    "kernelspec": {
      "name": "python3",
      "display_name": "Python 3"
    },
    "language_info": {
      "name": "python"
    }
  },
  "cells": [
    {
      "cell_type": "markdown",
      "metadata": {
        "id": "view-in-github",
        "colab_type": "text"
      },
      "source": [
        "<a href=\"https://colab.research.google.com/github/lgiesen/forest-height/blob/main/0_load_data.ipynb\" target=\"_parent\"><img src=\"https://colab.research.google.com/assets/colab-badge.svg\" alt=\"Open In Colab\"/></a>"
      ]
    },
    {
      "cell_type": "markdown",
      "source": [
        "# Data Loading"
      ],
      "metadata": {
        "id": "vP5gkMmZ9TS4"
      }
    },
    {
      "cell_type": "markdown",
      "source": [
        "Run this code in another notebook with the command:\n",
        "```%run \"/content/drive/MyDrive/Colab Notebooks/0_load_data.ipynb\"```"
      ],
      "metadata": {
        "id": "Jp_lBnBE9Wsk"
      }
    },
    {
      "cell_type": "code",
      "execution_count": null,
      "metadata": {
        "id": "01cTXeQ171ae"
      },
      "outputs": [],
      "source": [
        "from google.colab import drive\n",
        "drive.mount ('/content/drive', force_remount=True)\n",
        "root_path = 'drive/MyDrive/Colab Notebooks/data/'"
      ]
    },
    {
      "cell_type": "code",
      "source": [
        "path_images = root_path + 'images/'\n",
        "path_masks = root_path + 'masks/'"
      ],
      "metadata": {
        "id": "tItwxm5j73T5"
      },
      "execution_count": null,
      "outputs": []
    },
    {
      "cell_type": "code",
      "source": [
        "from os.path import isfile, join\n",
        "def get_files(dir):\n",
        "  from os import listdir\n",
        "  onlyfiles = [f for f in listdir(dir) if isfile(join(dir, f))]\n",
        "  #print(onlyfiles)\n",
        "get_files(dir = root_path + 'images/')"
      ],
      "metadata": {
        "id": "BNo7DN5P74g_"
      },
      "execution_count": null,
      "outputs": []
    },
    {
      "cell_type": "code",
      "source": [
        "def path_exists(path):\n",
        "  import os\n",
        "  return os.path.exists(root_path + path)"
      ],
      "metadata": {
        "id": "wivDUoJX8J2x"
      },
      "execution_count": null,
      "outputs": []
    },
    {
      "cell_type": "code",
      "source": [
        "import numpy as np\n",
        "# load exemplary data\n",
        "sat_path = 'images/image_004.npy'\n",
        "if path_exists(sat_path):\n",
        "  satellite = np.load(root_path + sat_path)\n",
        "  #print('satellite:',satellite.shape)\n",
        "mask_path = 'masks/mask_004.npy'\n",
        "if path_exists(mask_path):\n",
        "  mask = np.load(root_path + mask_path)\n",
        "  mask.shape\n",
        "  #print('mask:',satellite.shape)"
      ],
      "metadata": {
        "id": "S09L1BXi8Ikg"
      },
      "execution_count": null,
      "outputs": []
    },
    {
      "cell_type": "code",
      "source": [
        "print(\"0_load_data.ipynb completed.\")"
      ],
      "metadata": {
        "id": "8xwQ38dP8PFn"
      },
      "execution_count": null,
      "outputs": []
    }
  ]
}