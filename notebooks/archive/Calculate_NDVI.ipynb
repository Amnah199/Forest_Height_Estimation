{
  "cells": [
    {
      "attachments": {},
      "cell_type": "markdown",
      "metadata": {
        "colab_type": "text",
        "id": "view-in-github"
      },
      "source": [
        "<a href=\"https://colab.research.google.com/github/lgiesen/forest_height/blob/main/Calculate_NDVI.ipynb\" target=\"_parent\"><img src=\"https://colab.research.google.com/assets/colab-badge.svg\" alt=\"Open In Colab\"/></a>"
      ]
    },
    {
      "attachments": {},
      "cell_type": "markdown",
      "metadata": {
        "id": "jfAPV-h0zIXm"
      },
      "source": [
        "NDVI for X with shape (20, 10, 1024, 1024)"
      ]
    },
    {
      "cell_type": "code",
      "execution_count": null,
      "metadata": {
        "id": "7hksGYj1zIu_"
      },
      "outputs": [],
      "source": [
        "def calculate_ndvi(X):\n",
        "    # Extract the relevant bands for NDVI calculation\n",
        "    b4 = X[2, :, :]  # Assuming the red band is at index 3\n",
        "    b8 = X[6, :, :]  # Assuming the near-infrared band is at index 8\n",
        "\n",
        "    # Calculate NDVI\n",
        "    ndvi = (b8 - b4) / (b8 + b4)\n",
        "\n",
        "    # Add NDVI as a new feature to X\n",
        "    X_with_ndvi = np.concatenate((X, np.expand_dims(ndvi, axis=0)), axis=0)\n",
        "\n",
        "    return X_with_ndvi\n"
      ]
    },
    {
      "attachments": {},
      "cell_type": "markdown",
      "metadata": {
        "id": "4Wv7EHp10J9_"
      },
      "source": [
        "NDVI for X with linear shape"
      ]
    },
    {
      "cell_type": "code",
      "execution_count": null,
      "metadata": {
        "id": "tJWhLMN60R6q"
      },
      "outputs": [],
      "source": [
        "  X = np.load('/content/images/image_00' + str(i) + '.npy')\n",
        "  y = np.load('/content/masks/mask_00' + str(i) + '.npy')\n",
        "\n",
        "\n",
        "  X1 = X.reshape(10, -1).transpose()\n",
        "  y = y.reshape(1, -1).transpose()\n",
        "\n",
        "  # Calculate NDVI\n",
        "  b8 = X[[6]].reshape(1, -1).transpose()\n",
        "  b4 = X[[2]].reshape(1, -1).transpose()\n",
        "\n",
        "  denominator = b8 + b4\n",
        "  ndvi = np.where(denominator != 0, (b8 - b4) / denominator, 0)\n",
        "\n",
        "  # Concatenate the slices with the new column\n",
        "\n",
        "  X = np.concatenate((X1, ndvi), axis=1)\n",
        "\n"
      ]
    }
  ],
  "metadata": {
    "colab": {
      "authorship_tag": "ABX9TyP2TBwnn33dwyYYIbIF1/ku",
      "include_colab_link": true,
      "provenance": []
    },
    "kernelspec": {
      "display_name": "Python 3",
      "name": "python3"
    },
    "language_info": {
      "name": "python"
    }
  },
  "nbformat": 4,
  "nbformat_minor": 0
}
