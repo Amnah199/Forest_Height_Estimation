{
  "cells": [
    {
      "cell_type": "markdown",
      "metadata": {
        "id": "view-in-github",
        "colab_type": "text"
      },
      "source": [
        "<a href=\"https://colab.research.google.com/github/lgiesen/forest_height/blob/main/BoostedTree_Final.ipynb\" target=\"_parent\"><img src=\"https://colab.research.google.com/assets/colab-badge.svg\" alt=\"Open In Colab\"/></a>"
      ]
    },
    {
      "cell_type": "code",
      "execution_count": 1,
      "id": "6876a8ba",
      "metadata": {
        "id": "6876a8ba",
        "colab": {
          "base_uri": "https://localhost:8080/"
        },
        "outputId": "6a3586d9-94ac-4a4b-a7db-d55b46fc3903"
      },
      "outputs": [
        {
          "output_type": "stream",
          "name": "stdout",
          "text": [
            "Mounted at /content/drive\n"
          ]
        }
      ],
      "source": [
        "from google.colab import drive\n",
        "drive.mount ('/content/drive', force_remount=True)\n"
      ]
    },
    {
      "cell_type": "code",
      "source": [
        "!unzip  \"drive/My Drive/DataDa2/masksfull.zip\""
      ],
      "metadata": {
        "id": "NtsR6BMPSDgE",
        "colab": {
          "base_uri": "https://localhost:8080/"
        },
        "outputId": "94e86522-ce84-4673-9f8b-c9f9c371ff84"
      },
      "id": "NtsR6BMPSDgE",
      "execution_count": 2,
      "outputs": [
        {
          "output_type": "stream",
          "name": "stdout",
          "text": [
            "Archive:  drive/My Drive/DataDa2/masksfull.zip\n",
            "replace MasksFull/mask_009.npy? [y]es, [n]o, [A]ll, [N]one, [r]ename: N\n"
          ]
        }
      ]
    },
    {
      "cell_type": "code",
      "source": [
        "!unzip  \"drive/My Drive/DataDa2/images_train.zip\"\n",
        "!unzip  \"drive/My Drive/DataDa2/images2.zip\""
      ],
      "metadata": {
        "colab": {
          "base_uri": "https://localhost:8080/"
        },
        "id": "7Om_CporRrJK",
        "outputId": "85cd5993-65a1-4196-c20d-7847a772e5b3"
      },
      "id": "7Om_CporRrJK",
      "execution_count": 3,
      "outputs": [
        {
          "output_type": "stream",
          "name": "stdout",
          "text": [
            "Archive:  drive/My Drive/DataDa2/images_train.zip\n",
            "  inflating: images/image_000.npy    \n",
            "  inflating: images/image_001.npy    \n",
            "  inflating: images/image_002.npy    \n",
            "  inflating: images/image_003.npy    \n",
            "  inflating: images/image_004.npy    \n",
            "  inflating: images/image_005.npy    \n",
            "  inflating: images/image_006.npy    \n",
            "  inflating: images/image_007.npy    \n",
            "  inflating: images/image_008.npy    \n",
            "  inflating: images/image_009.npy    \n",
            "  inflating: images/image_010.npy    \n",
            "  inflating: images/image_011.npy    \n",
            "  inflating: images/image_012.npy    \n",
            "  inflating: images/image_013.npy    \n",
            "  inflating: images/image_014.npy    \n",
            "  inflating: images/image_015.npy    \n",
            "  inflating: images/image_016.npy    \n",
            "  inflating: images/image_017.npy    \n",
            "  inflating: images/image_018.npy    \n",
            "  inflating: images/image_019.npy    \n",
            "Archive:  drive/My Drive/DataDa2/images2.zip\n",
            "   creating: images 2/\n",
            "  inflating: images 2/image_020.npy  \n",
            "  inflating: images 2/image_021.npy  \n",
            "  inflating: images 2/image_022.npy  \n",
            "  inflating: images 2/image_023.npy  \n",
            "  inflating: images 2/image_024.npy  \n",
            "  inflating: images 2/image_025.npy  \n",
            "  inflating: images 2/image_026.npy  \n",
            "  inflating: images 2/image_027.npy  \n",
            "  inflating: images 2/image_028.npy  \n",
            "  inflating: images 2/image_029.npy  \n",
            "  inflating: images 2/image_030.npy  \n",
            "  inflating: images 2/image_031.npy  \n",
            "  inflating: images 2/image_032.npy  \n",
            "  inflating: images 2/image_033.npy  \n",
            "  inflating: images 2/image_034.npy  \n",
            "  inflating: images 2/image_035.npy  \n",
            "  inflating: images 2/image_036.npy  \n",
            "  inflating: images 2/image_037.npy  \n",
            "  inflating: images 2/image_038.npy  \n",
            "  inflating: images 2/image_039.npy  \n"
          ]
        }
      ]
    },
    {
      "cell_type": "code",
      "source": [
        "from os.path import isfile, join\n",
        "from os import listdir\n",
        "import numpy as np\n",
        "import pandas as pd"
      ],
      "metadata": {
        "id": "o7pqPW79CCKr"
      },
      "id": "o7pqPW79CCKr",
      "execution_count": 3,
      "outputs": []
    },
    {
      "cell_type": "code",
      "source": [
        "def load_images():\n",
        "  #data = np.empty((0, 10))\n",
        "  data_list = []\n",
        "\n",
        "# Process the first range\n",
        "  for i in range(10):\n",
        "      X = np.load(f\"/content/images/image_00{i}.npy\")\n",
        "      X = X.reshape(10, -1).transpose()\n",
        "      data_list.append(X)\n",
        "\n",
        "  # Process the second range\n",
        "  for i in range(10, 20):\n",
        "      X = np.load(f\"/content/images/image_0{i}.npy\")\n",
        "      X = X.reshape(10, -1).transpose()\n",
        "      data_list.append(X)\n",
        "\n",
        "  for i in range(20, 40):\n",
        "        X = np.load(f\"/content/images 2/image_0{i}.npy\")\n",
        "        X = X.reshape(10, -1).transpose()\n",
        "        data_list.append(X)\n",
        "  # Concatenate all arrays in the list along the first axis (number of features)\n",
        "  data = np.concatenate(data_list, axis=0)\n",
        "  print(data.shape)\n",
        "  return data"
      ],
      "metadata": {
        "id": "O6aM7k0TCGwB"
      },
      "id": "O6aM7k0TCGwB",
      "execution_count": 4,
      "outputs": []
    },
    {
      "cell_type": "code",
      "source": [
        "def load_masks():\n",
        "  #data = np.empty((0, 10))\n",
        "  mask_list = []\n",
        "\n",
        "# Process the first range\n",
        "  for i in range(10):\n",
        "      temp = np.load(f\"/content/MasksFull/mask_00{i}.npy\")\n",
        "      temp = temp.reshape(1, -1).transpose()\n",
        "      mask_list.append(temp)\n",
        "\n",
        "  # Process the second range\n",
        "  for i in range(10, 40):\n",
        "      temp = np.load(f\"/content/MasksFull/mask_0{i}.npy\")\n",
        "      temp = temp.reshape(1, -1).transpose()\n",
        "      mask_list.append(temp)\n",
        "\n",
        "  # Concatenate all arrays in the list along the first axis (number of features)\n",
        "  y = np.concatenate(mask_list, axis=0)\n",
        "\n",
        "  return y"
      ],
      "metadata": {
        "id": "vFTn_305QJ75"
      },
      "id": "vFTn_305QJ75",
      "execution_count": 5,
      "outputs": []
    },
    {
      "cell_type": "code",
      "source": [
        "X = load_images()"
      ],
      "metadata": {
        "colab": {
          "base_uri": "https://localhost:8080/"
        },
        "id": "CsUxfwkoFWiY",
        "outputId": "47a6fdbb-172d-41ab-9d2c-ee4115749c2e"
      },
      "id": "CsUxfwkoFWiY",
      "execution_count": 6,
      "outputs": [
        {
          "output_type": "stream",
          "name": "stdout",
          "text": [
            "(41943040, 10)\n"
          ]
        }
      ]
    },
    {
      "cell_type": "code",
      "source": [
        "y = load_masks()"
      ],
      "metadata": {
        "id": "SW_KEqi8XseF"
      },
      "id": "SW_KEqi8XseF",
      "execution_count": 7,
      "outputs": []
    },
    {
      "cell_type": "code",
      "execution_count": 8,
      "id": "c42b48d3",
      "metadata": {
        "id": "c42b48d3",
        "colab": {
          "base_uri": "https://localhost:8080/"
        },
        "outputId": "dee9986a-683e-4e41-b70d-26af6c76b856"
      },
      "outputs": [
        {
          "output_type": "stream",
          "name": "stdout",
          "text": [
            "-5.939021 147.62091\n",
            "-5.601946 139.2023\n"
          ]
        }
      ],
      "source": [
        "from sklearn.model_selection import train_test_split\n",
        "\n",
        "# Split the dataset into training and validation sets\n",
        "#X_train, y_train, X_test, y_test = train_test_split(X1,y1, test_size=0.2, random_state=1)\n",
        "\n",
        "# Step 3: Create training and testing sets\n",
        "X_train, X_test, y_train, y_test = train_test_split(\n",
        "    X,  # Features\n",
        "    y,   # Labels\n",
        "    test_size=0.2,          # Adjust the test size as needed\n",
        "    random_state=11         # Set a random seed for reproducibility\n",
        ")\n",
        "\n",
        "print(np.min(y_test), np.max(y_test))\n",
        "print(np.min(y_train), np.max(y_train))"
      ]
    },
    {
      "cell_type": "code",
      "source": [
        "import xgboost\n",
        "# instantiate the model\n",
        "model = xgboost.XGBRegressor(objective ='reg:squarederror',\n",
        "                             colsample_bytree = 0.6,\n",
        "                             learning_rate = 0.01,\n",
        "                             max_depth = 5,\n",
        "                             reg_lambda = 1,\n",
        "                             n_estimators = 500)\n",
        "\n",
        "model.fit(X_train, y_train)\n",
        "\n"
      ],
      "metadata": {
        "colab": {
          "base_uri": "https://localhost:8080/",
          "height": 248
        },
        "id": "6ZgVYDcw21iV",
        "outputId": "344c7014-270e-437c-fa08-2bbefac55f13"
      },
      "id": "6ZgVYDcw21iV",
      "execution_count": 12,
      "outputs": [
        {
          "output_type": "execute_result",
          "data": {
            "text/plain": [
              "XGBRegressor(base_score=None, booster=None, callbacks=None,\n",
              "             colsample_bylevel=None, colsample_bynode=None,\n",
              "             colsample_bytree=0.6, early_stopping_rounds=None,\n",
              "             enable_categorical=False, eval_metric=None, feature_types=None,\n",
              "             gamma=None, gpu_id=None, grow_policy=None, importance_type=None,\n",
              "             interaction_constraints=None, learning_rate=0.01, max_bin=None,\n",
              "             max_cat_threshold=None, max_cat_to_onehot=None,\n",
              "             max_delta_step=None, max_depth=5, max_leaves=None,\n",
              "             min_child_weight=None, missing=nan, monotone_constraints=None,\n",
              "             n_estimators=500, n_jobs=None, num_parallel_tree=None,\n",
              "             predictor=None, random_state=None, ...)"
            ],
            "text/html": [
              "<style>#sk-container-id-2 {color: black;background-color: white;}#sk-container-id-2 pre{padding: 0;}#sk-container-id-2 div.sk-toggleable {background-color: white;}#sk-container-id-2 label.sk-toggleable__label {cursor: pointer;display: block;width: 100%;margin-bottom: 0;padding: 0.3em;box-sizing: border-box;text-align: center;}#sk-container-id-2 label.sk-toggleable__label-arrow:before {content: \"▸\";float: left;margin-right: 0.25em;color: #696969;}#sk-container-id-2 label.sk-toggleable__label-arrow:hover:before {color: black;}#sk-container-id-2 div.sk-estimator:hover label.sk-toggleable__label-arrow:before {color: black;}#sk-container-id-2 div.sk-toggleable__content {max-height: 0;max-width: 0;overflow: hidden;text-align: left;background-color: #f0f8ff;}#sk-container-id-2 div.sk-toggleable__content pre {margin: 0.2em;color: black;border-radius: 0.25em;background-color: #f0f8ff;}#sk-container-id-2 input.sk-toggleable__control:checked~div.sk-toggleable__content {max-height: 200px;max-width: 100%;overflow: auto;}#sk-container-id-2 input.sk-toggleable__control:checked~label.sk-toggleable__label-arrow:before {content: \"▾\";}#sk-container-id-2 div.sk-estimator input.sk-toggleable__control:checked~label.sk-toggleable__label {background-color: #d4ebff;}#sk-container-id-2 div.sk-label input.sk-toggleable__control:checked~label.sk-toggleable__label {background-color: #d4ebff;}#sk-container-id-2 input.sk-hidden--visually {border: 0;clip: rect(1px 1px 1px 1px);clip: rect(1px, 1px, 1px, 1px);height: 1px;margin: -1px;overflow: hidden;padding: 0;position: absolute;width: 1px;}#sk-container-id-2 div.sk-estimator {font-family: monospace;background-color: #f0f8ff;border: 1px dotted black;border-radius: 0.25em;box-sizing: border-box;margin-bottom: 0.5em;}#sk-container-id-2 div.sk-estimator:hover {background-color: #d4ebff;}#sk-container-id-2 div.sk-parallel-item::after {content: \"\";width: 100%;border-bottom: 1px solid gray;flex-grow: 1;}#sk-container-id-2 div.sk-label:hover label.sk-toggleable__label {background-color: #d4ebff;}#sk-container-id-2 div.sk-serial::before {content: \"\";position: absolute;border-left: 1px solid gray;box-sizing: border-box;top: 0;bottom: 0;left: 50%;z-index: 0;}#sk-container-id-2 div.sk-serial {display: flex;flex-direction: column;align-items: center;background-color: white;padding-right: 0.2em;padding-left: 0.2em;position: relative;}#sk-container-id-2 div.sk-item {position: relative;z-index: 1;}#sk-container-id-2 div.sk-parallel {display: flex;align-items: stretch;justify-content: center;background-color: white;position: relative;}#sk-container-id-2 div.sk-item::before, #sk-container-id-2 div.sk-parallel-item::before {content: \"\";position: absolute;border-left: 1px solid gray;box-sizing: border-box;top: 0;bottom: 0;left: 50%;z-index: -1;}#sk-container-id-2 div.sk-parallel-item {display: flex;flex-direction: column;z-index: 1;position: relative;background-color: white;}#sk-container-id-2 div.sk-parallel-item:first-child::after {align-self: flex-end;width: 50%;}#sk-container-id-2 div.sk-parallel-item:last-child::after {align-self: flex-start;width: 50%;}#sk-container-id-2 div.sk-parallel-item:only-child::after {width: 0;}#sk-container-id-2 div.sk-dashed-wrapped {border: 1px dashed gray;margin: 0 0.4em 0.5em 0.4em;box-sizing: border-box;padding-bottom: 0.4em;background-color: white;}#sk-container-id-2 div.sk-label label {font-family: monospace;font-weight: bold;display: inline-block;line-height: 1.2em;}#sk-container-id-2 div.sk-label-container {text-align: center;}#sk-container-id-2 div.sk-container {/* jupyter's `normalize.less` sets `[hidden] { display: none; }` but bootstrap.min.css set `[hidden] { display: none !important; }` so we also need the `!important` here to be able to override the default hidden behavior on the sphinx rendered scikit-learn.org. See: https://github.com/scikit-learn/scikit-learn/issues/21755 */display: inline-block !important;position: relative;}#sk-container-id-2 div.sk-text-repr-fallback {display: none;}</style><div id=\"sk-container-id-2\" class=\"sk-top-container\"><div class=\"sk-text-repr-fallback\"><pre>XGBRegressor(base_score=None, booster=None, callbacks=None,\n",
              "             colsample_bylevel=None, colsample_bynode=None,\n",
              "             colsample_bytree=0.6, early_stopping_rounds=None,\n",
              "             enable_categorical=False, eval_metric=None, feature_types=None,\n",
              "             gamma=None, gpu_id=None, grow_policy=None, importance_type=None,\n",
              "             interaction_constraints=None, learning_rate=0.01, max_bin=None,\n",
              "             max_cat_threshold=None, max_cat_to_onehot=None,\n",
              "             max_delta_step=None, max_depth=5, max_leaves=None,\n",
              "             min_child_weight=None, missing=nan, monotone_constraints=None,\n",
              "             n_estimators=500, n_jobs=None, num_parallel_tree=None,\n",
              "             predictor=None, random_state=None, ...)</pre><b>In a Jupyter environment, please rerun this cell to show the HTML representation or trust the notebook. <br />On GitHub, the HTML representation is unable to render, please try loading this page with nbviewer.org.</b></div><div class=\"sk-container\" hidden><div class=\"sk-item\"><div class=\"sk-estimator sk-toggleable\"><input class=\"sk-toggleable__control sk-hidden--visually\" id=\"sk-estimator-id-2\" type=\"checkbox\" checked><label for=\"sk-estimator-id-2\" class=\"sk-toggleable__label sk-toggleable__label-arrow\">XGBRegressor</label><div class=\"sk-toggleable__content\"><pre>XGBRegressor(base_score=None, booster=None, callbacks=None,\n",
              "             colsample_bylevel=None, colsample_bynode=None,\n",
              "             colsample_bytree=0.6, early_stopping_rounds=None,\n",
              "             enable_categorical=False, eval_metric=None, feature_types=None,\n",
              "             gamma=None, gpu_id=None, grow_policy=None, importance_type=None,\n",
              "             interaction_constraints=None, learning_rate=0.01, max_bin=None,\n",
              "             max_cat_threshold=None, max_cat_to_onehot=None,\n",
              "             max_delta_step=None, max_depth=5, max_leaves=None,\n",
              "             min_child_weight=None, missing=nan, monotone_constraints=None,\n",
              "             n_estimators=500, n_jobs=None, num_parallel_tree=None,\n",
              "             predictor=None, random_state=None, ...)</pre></div></div></div></div></div>"
            ]
          },
          "metadata": {},
          "execution_count": 12
        }
      ]
    },
    {
      "cell_type": "code",
      "source": [
        "preds = model.predict(X_test)"
      ],
      "metadata": {
        "id": "fdEY0T-EWbh7"
      },
      "id": "fdEY0T-EWbh7",
      "execution_count": 13,
      "outputs": []
    },
    {
      "cell_type": "code",
      "execution_count": 14,
      "id": "9a1f7ab4",
      "metadata": {
        "id": "9a1f7ab4",
        "colab": {
          "base_uri": "https://localhost:8080/",
          "height": 750
        },
        "outputId": "48a302ae-6cfa-4740-aef9-57f5c0e29c14"
      },
      "outputs": [
        {
          "output_type": "stream",
          "name": "stdout",
          "text": [
            "RMSE: 2.5000123977661133\n"
          ]
        },
        {
          "output_type": "display_data",
          "data": {
            "text/plain": [
              "<Figure size 800x800 with 1 Axes>"
            ],
            "image/png": "[encoded data removed]"
          },
          "metadata": {}
        }
      ],
      "source": [
        "%matplotlib inline\n",
        "import matplotlib.pyplot as plt\n",
        "from matplotlib.ticker import StrMethodFormatter\n",
        "\n",
        "from sklearn.metrics import mean_squared_error\n",
        "\n",
        "# compute RMSE\n",
        "print(\"RMSE: {}\".format(np.sqrt(mean_squared_error(y_test, preds))))\n",
        "\n",
        "# visualize predictions vs. true labels\n",
        "fig = plt.figure(figsize=(8,8))\n",
        "plt.scatter(preds, y_test, color=\"blue\", alpha=0.5)\n",
        "plt.xticks(rotation=45)\n",
        "plt.gca().xaxis.set_major_formatter(StrMethodFormatter('{x:,.0f}'))\n",
        "plt.plot([-6, 150], [-6, 150], 'k--')\n",
        "plt.xlabel(\"Predictions\")\n",
        "plt.ylabel(\"True Labels\")\n",
        "plt.xlim([-6, 150])\n",
        "plt.ylim([-6, 150])\n",
        "plt.title(\"Evaluation of XGBoost Regression Model \")\n",
        "plt.show()"
      ]
    },
    {
      "cell_type": "code",
      "execution_count": 15,
      "id": "cec63412",
      "metadata": {
        "id": "cec63412",
        "colab": {
          "base_uri": "https://localhost:8080/"
        },
        "outputId": "42a0578d-0dcf-4804-e5a5-6db22e37e9c7"
      },
      "outputs": [
        {
          "output_type": "stream",
          "name": "stdout",
          "text": [
            "Mean Absolute Error: 1.7655736\n"
          ]
        }
      ],
      "source": [
        "from sklearn.metrics import mean_absolute_error\n",
        "\n",
        "mae = mean_absolute_error(y_test, preds)\n",
        "print(\"Mean Absolute Error:\", mae)"
      ]
    }
  ],
  "metadata": {
    "kernelspec": {
      "display_name": "Python 3",
      "name": "python3"
    },
    "language_info": {
      "codemirror_mode": {
        "name": "ipython",
        "version": 3
      },
      "file_extension": ".py",
      "mimetype": "text/x-python",
      "name": "python",
      "nbconvert_exporter": "python",
      "pygments_lexer": "ipython3",
      "version": "3.9.6"
    },
    "colab": {
      "provenance": [],
      "gpuType": "T4",
      "machine_shape": "hm",
      "include_colab_link": true
    },
    "accelerator": "GPU"
  },
  "nbformat": 4,
  "nbformat_minor": 5
}