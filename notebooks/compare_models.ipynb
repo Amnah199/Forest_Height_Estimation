{
  "nbformat": 4,
  "nbformat_minor": 0,
  "metadata": {
    "colab": {
      "provenance": [],
      "authorship_tag": "ABX9TyNboG2dJHexPzboWtKRvF4p",
      "include_colab_link": true
    },
    "kernelspec": {
      "name": "python3",
      "display_name": "Python 3"
    },
    "language_info": {
      "name": "python"
    }
  },
  "cells": [
    {
      "cell_type": "markdown",
      "metadata": {
        "id": "view-in-github",
        "colab_type": "text"
      },
      "source": [
        "<a href=\"https://colab.research.google.com/github/lgiesen/forest_height/blob/main/notebooks/compare_models.ipynb\" target=\"_parent\"><img src=\"https://colab.research.google.com/assets/colab-badge.svg\" alt=\"Open In Colab\"/></a>"
      ]
    },
    {
      "cell_type": "code",
      "execution_count": 1,
      "metadata": {
        "colab": {
          "base_uri": "https://localhost:8080/"
        },
        "id": "kuiTf3fzMLa-",
        "outputId": "5e892d2b-1870-409b-d94e-661ceac998f2"
      },
      "outputs": [
        {
          "output_type": "stream",
          "name": "stdout",
          "text": [
            "Mounted at /content/drive\n"
          ]
        }
      ],
      "source": [
        "from google.colab import drive\n",
        "drive.mount ('/content/drive', force_remount=True)"
      ]
    },
    {
      "cell_type": "code",
      "source": [
        "# the zipped data is uploaded in the root_path folder\n",
        "root_path = 'drive/MyDrive/Colab Notebooks/data/'\n",
        "path_images = f'{root_path}images/'\n",
        "path_masks = f'{root_path}masks/'\n",
        "user = \"lgiesen\"\n",
        "repo = \"forest_height\"\n",
        "color=\"#01748F\"\n",
        "!git clone https://github.com/{user}/{repo}.git"
      ],
      "metadata": {
        "colab": {
          "base_uri": "https://localhost:8080/"
        },
        "id": "WoPsSvzQMO_v",
        "outputId": "69e4fdda-f2cd-44ff-e35c-5474aa2f3227"
      },
      "execution_count": 2,
      "outputs": [
        {
          "output_type": "stream",
          "name": "stdout",
          "text": [
            "Cloning into 'forest_height'...\n",
            "remote: Enumerating objects: 501, done.\u001b[K\n",
            "remote: Counting objects: 100% (153/153), done.\u001b[K\n",
            "remote: Compressing objects: 100% (135/135), done.\u001b[K\n",
            "remote: Total 501 (delta 78), reused 61 (delta 18), pack-reused 348\u001b[K\n",
            "Receiving objects: 100% (501/501), 23.59 MiB | 18.18 MiB/s, done.\n",
            "Resolving deltas: 100% (269/269), done.\n"
          ]
        }
      ]
    },
    {
      "cell_type": "code",
      "source": [
        "%run /content/forest_height/src/load_data.py\n",
        "%run /content/forest_height/src/evaluate_model.py"
      ],
      "metadata": {
        "id": "PB2feVkKMQDv"
      },
      "execution_count": 3,
      "outputs": []
    },
    {
      "cell_type": "markdown",
      "source": [
        "Load data and models"
      ],
      "metadata": {
        "id": "SFpk952aWLsM"
      }
    },
    {
      "cell_type": "code",
      "source": [
        "X_train, y_train, X_test, y_test = load_data(\"ndvi\")\n",
        "# reshape to fit models\n",
        "X_train, X_test = X_train.reshape(-1,1), X_test.reshape(-1,1)"
      ],
      "metadata": {
        "id": "Yp9g6TSRMTH4"
      },
      "execution_count": 13,
      "outputs": []
    },
    {
      "cell_type": "code",
      "source": [
        "import joblib\n",
        "models_path = \"forest_height/models/\"\n",
        "gbr = joblib.load(f\"{models_path}boosted_trees_NDVI_10.01.joblib\")\n",
        "dt = joblib.load(f\"{models_path}decison_trees_NDVI_10.02.joblib\")\n",
        "rf = joblib.load(f\"{models_path}random_forest_NDVI_10.02.joblib\")"
      ],
      "metadata": {
        "id": "vI70tQ6nMVCD"
      },
      "execution_count": 5,
      "outputs": []
    },
    {
      "cell_type": "code",
      "source": [
        "rf = joblib.load(f\"{models_path}archive/random_forest.joblib\")"
      ],
      "metadata": {
        "id": "uHmPDrtETGEg"
      },
      "execution_count": 25,
      "outputs": []
    },
    {
      "cell_type": "markdown",
      "source": [
        "Get predictions from every model:\n",
        "\n",
        "Boosted Trees"
      ],
      "metadata": {
        "id": "10nkxvGrRJuE"
      }
    },
    {
      "cell_type": "code",
      "source": [
        "y_pred_gbr = gbr.predict(X_test)\n",
        "mae_gbr, mse_gbr, rmse_gbr, mape_gbr = evaluate_model(y_test, y_pred_gbr)"
      ],
      "metadata": {
        "colab": {
          "base_uri": "https://localhost:8080/"
        },
        "id": "ts7qk2lmQhQ_",
        "outputId": "4e339977-3c40-4190-fd0b-06742076e6d3"
      },
      "execution_count": 15,
      "outputs": [
        {
          "output_type": "stream",
          "name": "stdout",
          "text": [
            "MAE: 10.010264086025932; MSE: 136.04751729766355; RMSE: 3.1639001384408347; MAPE: 1.2606865889059502\n"
          ]
        }
      ]
    },
    {
      "cell_type": "markdown",
      "source": [
        "Decision Trees"
      ],
      "metadata": {
        "id": "pMvm0uqzRRVV"
      }
    },
    {
      "cell_type": "code",
      "source": [
        "y_pred_dt = dt.predict(X_test)\n",
        "mae_dt, mse_dt, rmse_dt, mape_dt = evaluate_model(y_test, y_pred_dt)"
      ],
      "metadata": {
        "colab": {
          "base_uri": "https://localhost:8080/"
        },
        "id": "5K0K3hfrRXuW",
        "outputId": "9cba2812-f6ad-496f-9f75-19cf191b6f7e"
      },
      "execution_count": 17,
      "outputs": [
        {
          "output_type": "stream",
          "name": "stdout",
          "text": [
            "MAE: 10.024194370966914; MSE: 136.3848106951077; RMSE: 3.1661008150352563; MAPE: 1.2621682918256745\n"
          ]
        }
      ]
    },
    {
      "cell_type": "markdown",
      "source": [
        "Random Forest"
      ],
      "metadata": {
        "id": "awCDvlPFRO9g"
      }
    },
    {
      "cell_type": "code",
      "source": [
        "y_pred_rf = rf.predict(X_test)\n",
        "mae_rf, mse_rf, rmse_rf, mape_rf = evaluate_model(y_test, y_pred_rf)"
      ],
      "metadata": {
        "colab": {
          "base_uri": "https://localhost:8080/"
        },
        "id": "iLOFZ712RFTo",
        "outputId": "7f828f73-28e6-461a-a090-7adad1ebc6f1"
      },
      "execution_count": 16,
      "outputs": [
        {
          "output_type": "stream",
          "name": "stdout",
          "text": [
            "MAE: 10.021537493308648; MSE: 136.5169536595948; RMSE: 3.165681205255616; MAPE: 1.2434139977359764\n"
          ]
        }
      ]
    },
    {
      "cell_type": "markdown",
      "source": [
        "### Compare Errors"
      ],
      "metadata": {
        "id": "Ih74BIo4R8Wq"
      }
    },
    {
      "cell_type": "code",
      "source": [
        "import numpy as np\n",
        "errors = (\"MAE\", \"MSE\", \"RMSE\", \"MAPE\")\n",
        "models = {\n",
        "    'Boosted Trees': (mae_gbr, mse_gbr, rmse_gbr, mape_gbr),\n",
        "    'Decision Trees': (mae_dt, mse_dt, rmse_dt, mape_dt),\n",
        "    'Random Forest': (mae_rf, mse_rf, rmse_rf, mape_rf),\n",
        "}\n",
        "\n",
        "x = np.arange(len(errors))  # the label locations\n",
        "width = 0.25  # the width of the bars\n",
        "multiplier = 0\n",
        "\n",
        "fig, ax = plt.subplots(layout='constrained')\n",
        "\n",
        "for attribute, measurement in models.items():\n",
        "    offset = width * multiplier\n",
        "    rects = ax.bar(x + offset, np.round(measurement), width, label=attribute)\n",
        "    ax.bar_label(rects, padding=0, color=color)\n",
        "    multiplier += 1\n",
        "\n",
        "# Add some text for labels, title and custom x-axis tick labels, etc.\n",
        "ax.set_ylabel('Rounded Error')\n",
        "ax.set_title('Errors of Machine Learning Models')\n",
        "ax.set_xticks(x + width, errors)\n",
        "ax.legend(loc='upper left', ncols=3)\n",
        "ax.set_ylim(0, 200)\n",
        "\n",
        "plt.show()"
      ],
      "metadata": {
        "colab": {
          "base_uri": "https://localhost:8080/",
          "height": 508
        },
        "id": "uDfSYoZ6R-ji",
        "outputId": "b23b12ab-d66b-4434-999c-3774c155064f"
      },
      "execution_count": 80,
      "outputs": [
        {
          "output_type": "display_data",
          "data": {
            "text/plain": [
              "<Figure size 640x480 with 1 Axes>"
            ],
            "image/png": "[encoded data removed]"
          },
          "metadata": {}
        }
      ]
    },
    {
      "cell_type": "code",
      "source": [
        "sex_counts = {\n",
        "    'Male': np.array([73, 34, 61]),\n",
        "    'Female': np.array([73, 34, 58]),\n",
        "}\n",
        "for sex, sex_count in sex_counts.items():\n",
        "    print(type(sex))"
      ],
      "metadata": {
        "colab": {
          "base_uri": "https://localhost:8080/"
        },
        "id": "i9joeKqA5Uus",
        "outputId": "2b2fcac6-7857-415e-a25a-e3cf1a0e05ca"
      },
      "execution_count": 112,
      "outputs": [
        {
          "output_type": "stream",
          "name": "stdout",
          "text": [
            "<class 'str'>\n",
            "<class 'str'>\n"
          ]
        }
      ]
    },
    {
      "cell_type": "code",
      "source": [
        "models = ['Boosted Trees', 'Decision Trees', 'Random Forest']\n",
        "errors = [mae_gbr, mae_dt, mae_rf]\n",
        "plt.bar(models, errors, color=color)\n",
        "plt.ylabel(\"Mean Absolute Error (MAE)\")\n",
        "plt.xlabel(\"Machine Learning Models\")\n",
        "ax.set_title('MAE of Machine Learning Models')\n",
        "plt.show()"
      ],
      "metadata": {
        "colab": {
          "base_uri": "https://localhost:8080/",
          "height": 449
        },
        "id": "Jm0cCd943TR7",
        "outputId": "c2c6e13e-9aee-430d-bef8-69a25da1bfc6"
      },
      "execution_count": 128,
      "outputs": [
        {
          "output_type": "display_data",
          "data": {
            "text/plain": [
              "<Figure size 640x480 with 1 Axes>"
            ],
            "image/png": "[encoded data removed]"
          },
          "metadata": {}
        }
      ]
    },
    {
      "cell_type": "markdown",
      "source": [
        "### Compare Feature Importance"
      ],
      "metadata": {
        "id": "i6Tt9g4IPr5N"
      }
    },
    {
      "cell_type": "markdown",
      "source": [
        "Load models with all possible features, i.e. all color channels and NDVI values."
      ],
      "metadata": {
        "id": "RlNsb_a6ViUH"
      }
    },
    {
      "cell_type": "code",
      "source": [
        "rf_color_channels_ndvi = joblib.load(f\"{models_path}random_forest_color_channels_NDVI_10.45.joblib\")\n",
        "dt_color_channels_ndvi = joblib.load(f\"{models_path}decison_trees_color_channels_NDVI_10.08.joblib\")\n",
        "gbr_color_channels_ndvi = joblib.load(f\"{models_path}boosted_trees_color_channels_NDVI_10.09.joblib\")"
      ],
      "metadata": {
        "id": "mpP9DWj9Vh1J"
      },
      "execution_count": 29,
      "outputs": []
    },
    {
      "cell_type": "code",
      "source": [
        "import numpy as np\n",
        "channel = ['B2', 'B3', 'B4', 'B5', 'B6', 'B7', 'B8', 'B8A', 'B11', 'B12', 'NDVI']\n",
        "models = {\n",
        "    'Boosted Trees': gbr_color_channels_ndvi.feature_importances_ * 100,\n",
        "    'Decision Trees': dt_color_channels_ndvi.feature_importances_ * 100,\n",
        "    'Random Forest': rf_color_channels_ndvi.feature_importances_ * 100,\n",
        "}\n",
        "\n",
        "x = np.arange(len(channel))  # the label locations\n",
        "width = 0.25  # the width of the bars\n",
        "multiplier = 0\n",
        "\n",
        "fig, ax = plt.subplots(layout='constrained')\n",
        "\n",
        "for attribute, measurement in models.items():\n",
        "    offset = width * multiplier\n",
        "    rects = ax.bar(x + offset, np.round(measurement), width, label=attribute)\n",
        "    ax.bar_label(rects, padding=0)\n",
        "    multiplier += 1\n",
        "\n",
        "# Add some text for labels, title and custom x-axis tick labels, etc.\n",
        "ax.set_ylabel('Feature Importance (rounded in %)')\n",
        "ax.set_title('Feature Importance for Each Model')\n",
        "ax.set_xticks(x + width, channel)\n",
        "ax.legend(loc='upper left', ncols=3)\n",
        "ax.set_ylim(0, 100)\n",
        "\n",
        "plt.show()"
      ],
      "metadata": {
        "colab": {
          "base_uri": "https://localhost:8080/",
          "height": 508
        },
        "id": "OITtiyz41oeT",
        "outputId": "360b2802-857f-4f7a-d8b9-ca7ef8cf92c9"
      },
      "execution_count": 96,
      "outputs": [
        {
          "output_type": "display_data",
          "data": {
            "text/plain": [
              "<Figure size 640x480 with 1 Axes>"
            ],
            "image/png": "[encoded data removed]"
          },
          "metadata": {}
        }
      ]
    },
    {
      "cell_type": "markdown",
      "source": [
        "Visualize model predictions vs. true values"
      ],
      "metadata": {
        "id": "NUZ5GRyTPt5U"
      }
    },
    {
      "cell_type": "code",
      "source": [
        "from matplotlib import pyplot as plt\n",
        "# only the NDVI channel is plotted on the x-axis\n",
        "# because 11-dimensional data cannot be visualized for humans\n",
        "\n",
        "def visualize\n",
        "fig, ax = plt.subplots()\n",
        "plt.scatter(X_test, y_test, 10, color='black')\n",
        "plt.scatter(X_test, y_pred, 10, color=color)\n",
        "plt.title('Random Forest Regression')\n",
        "plt.xlabel('NDVI Value')\n",
        "plt.ylabel('Forest Height')\n",
        "ax.legend((\"True Value\", \"Prediction\"), loc='upper left')\n",
        "plt.show()"
      ],
      "metadata": {
        "id": "o6MMDTkTOkfX"
      },
      "execution_count": null,
      "outputs": []
    },
    {
      "cell_type": "markdown",
      "source": [
        "Predictions vs True Values"
      ],
      "metadata": {
        "id": "cBT5Jlf5PyfS"
      }
    },
    {
      "cell_type": "code",
      "source": [
        "%matplotlib inline\n",
        "import matplotlib.pyplot as plt\n",
        "from matplotlib.ticker import StrMethodFormatter\n",
        "\n",
        "def visualize_pred_vs_true(y_pred, y_test, model_name):\n",
        "    fig = plt.figure(figsize=(8,8))\n",
        "    plt.scatter(y_pred, y_test, color=color, alpha=0.5)\n",
        "    plt.xticks(rotation=45)\n",
        "    plt.gca().xaxis.set_major_formatter(StrMethodFormatter('{x:,.0f}'))\n",
        "    plt.plot([-1,75], [-1, 75], 'k--')\n",
        "    plt.xlabel(\"Predictions\")\n",
        "    plt.ylabel(\"True Labels\")\n",
        "    plt.xlim([-1,75])\n",
        "    plt.ylim([-1,75])\n",
        "    plt.title(f\"Evaluation of {model_name} Model on Labeled Data\")\n",
        "    plt.show()"
      ],
      "metadata": {
        "id": "gq39ybLrPzHZ"
      },
      "execution_count": 8,
      "outputs": []
    },
    {
      "cell_type": "markdown",
      "metadata": {
        "id": "HJB2PgV2sc1P"
      },
      "source": [
        "Visualize prediction"
      ]
    },
    {
      "cell_type": "code",
      "source": [
        "%run forest_height/src/visualize_data.py"
      ],
      "metadata": {
        "id": "i1gukkxBPokd"
      },
      "execution_count": null,
      "outputs": []
    },
    {
      "cell_type": "code",
      "source": [
        "plot(y_pred[0])\n",
        "plot(X_test[0])"
      ],
      "metadata": {
        "id": "HCJVYXcIPjfP"
      },
      "execution_count": null,
      "outputs": []
    }
  ]
}