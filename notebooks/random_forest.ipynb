{
  "nbformat": 4,
  "nbformat_minor": 0,
  "metadata": {
    "colab": {
      "provenance": [],
      "authorship_tag": "ABX9TyPa3GXohsPUFzxsFyMgAnq3",
      "include_colab_link": true
    },
    "kernelspec": {
      "name": "python3",
      "display_name": "Python 3"
    },
    "language_info": {
      "name": "python"
    }
  },
  "cells": [
    {
      "cell_type": "markdown",
      "metadata": {
        "id": "view-in-github",
        "colab_type": "text"
      },
      "source": [
        "<a href=\"https://colab.research.google.com/github/lgiesen/forest_height/blob/main/notebooks/random_forest.ipynb\" target=\"_parent\"><img src=\"https://colab.research.google.com/assets/colab-badge.svg\" alt=\"Open In Colab\"/></a>"
      ]
    },
    {
      "cell_type": "code",
      "execution_count": 1,
      "metadata": {
        "colab": {
          "base_uri": "https://localhost:8080/"
        },
        "id": "nUWo97O_SPAx",
        "outputId": "faf05fc7-1929-4a50-b8ed-53940d9ed347"
      },
      "outputs": [
        {
          "output_type": "stream",
          "name": "stdout",
          "text": [
            "Mounted at /content/drive\n"
          ]
        }
      ],
      "source": [
        "from google.colab import drive\n",
        "drive.mount ('/content/drive', force_remount=True)"
      ]
    },
    {
      "cell_type": "code",
      "source": [
        "# the zipped data is uploaded in the root_path folder\n",
        "root_path = 'drive/MyDrive/Colab Notebooks/data/'\n",
        "path_images = f'{root_path}images/'\n",
        "path_masks = f'{root_path}masks/'\n",
        "user = \"lgiesen\"\n",
        "repo = \"forest_height\"\n",
        "!git clone https://github.com/{user}/{repo}.git"
      ],
      "metadata": {
        "colab": {
          "base_uri": "https://localhost:8080/"
        },
        "id": "TCyCKCFRShPr",
        "outputId": "476cc418-c172-49fc-b2ed-acdfad466f67"
      },
      "execution_count": 2,
      "outputs": [
        {
          "output_type": "stream",
          "name": "stdout",
          "text": [
            "Cloning into 'forest_height'...\n",
            "remote: Enumerating objects: 302, done.\u001b[K\n",
            "remote: Counting objects: 100% (165/165), done.\u001b[K\n",
            "remote: Compressing objects: 100% (132/132), done.\u001b[K\n",
            "remote: Total 302 (delta 91), reused 77 (delta 32), pack-reused 137\u001b[K\n",
            "Receiving objects: 100% (302/302), 19.80 MiB | 24.61 MiB/s, done.\n",
            "Resolving deltas: 100% (157/157), done.\n"
          ]
        }
      ]
    },
    {
      "cell_type": "markdown",
      "source": [
        "Load dataset"
      ],
      "metadata": {
        "id": "cKzWgkMJjsif"
      }
    },
    {
      "cell_type": "code",
      "source": [
        "import pandas as pd\n",
        "X_train = pd.read_pickle(\"forest_height/data/X_train.pkl\")\n",
        "y_train = pd.read_pickle(\"forest_height/data/y_train.pkl\")\n",
        "X_test = pd.read_pickle(\"forest_height/data/X_test.pkl\")\n",
        "y_test = pd.read_pickle(\"forest_height/data/y_test.pkl\")"
      ],
      "metadata": {
        "id": "BnDK9F5LSRsC"
      },
      "execution_count": 6,
      "outputs": []
    },
    {
      "cell_type": "markdown",
      "source": [
        "Random Search"
      ],
      "metadata": {
        "id": "WVMTDT5YjuV2"
      }
    },
    {
      "cell_type": "code",
      "source": [
        "import numpy as np\n",
        "# Number of trees in random forest\n",
        "n_estimators = [100, 200, 300, 400, 500] #[int(x) for x in np.linspace(start = 200, stop = 2000, num = 10)]\n",
        "# Number of features to consider at every split\n",
        "max_features = ['auto', 'sqrt', 'log2']\n",
        "# Maximum number of levels in tree\n",
        "max_depth = [int(x) for x in np.linspace(1, 100, num = 11)]\n",
        "# Minimum number of samples required to split a node\n",
        "min_samples_split = [2, 5, 10, 15]\n",
        "# Minimum number of samples required at each leaf node\n",
        "min_samples_leaf = [1, 2, 4]\n",
        "# Method of selecting samples for training each tree\n",
        "bootstrap = [True, False]# Create the random grid\n",
        "random_grid = {'n_estimators': n_estimators,\n",
        "               'max_features': max_features,\n",
        "               'max_depth': max_depth,\n",
        "               'min_samples_split': min_samples_split,\n",
        "               'min_samples_leaf': min_samples_leaf,\n",
        "               'criterion': ['absolute_error'],\n",
        "               'bootstrap': bootstrap}"
      ],
      "metadata": {
        "id": "zdAsHM14ZyIj"
      },
      "execution_count": 34,
      "outputs": []
    },
    {
      "cell_type": "code",
      "source": [
        "%%time\n",
        "from sklearn.ensemble import RandomForestRegressor\n",
        "from sklearn.model_selection import RandomizedSearchCV\n",
        "# initialize model\n",
        "rf = RandomForestRegressor()\n",
        "\n",
        "rf_random = RandomizedSearchCV(\n",
        "    estimator = rf,\n",
        "    param_distributions = random_grid,\n",
        "    # scoring=\"neg_mean_absolute_error\", # strategy to evaluate the performance\n",
        "    n_iter = 50,\n",
        "    cv = 5, # k-fold cross-validation\n",
        "    verbose=3, # the higher, the more messages\n",
        "    random_state=42,\n",
        "    n_jobs = -1, # use all processors\n",
        "    return_train_score=True)\n",
        "\n",
        "# train model\n",
        "rf_random.fit(X_train, y_train)"
      ],
      "metadata": {
        "colab": {
          "base_uri": "https://localhost:8080/"
        },
        "id": "tF9YKwkBaxEB",
        "outputId": "4f97979f-2820-4207-a607-36b8d918e63a"
      },
      "execution_count": null,
      "outputs": [
        {
          "metadata": {
            "tags": null
          },
          "name": "stdout",
          "output_type": "stream",
          "text": [
            "Fitting 5 folds for each of 50 candidates, totalling 250 fits\n"
          ]
        }
      ]
    },
    {
      "cell_type": "code",
      "source": [
        "cv_results = rf_random.cv_results_\n",
        "for mean_score, params in zip(cv_results[\"mean_test_score\"], cvres[\"params\"]):\n",
        "    print(np.sqrt(-mean_score), params)"
      ],
      "metadata": {
        "id": "tIwVksyxaD1b"
      },
      "execution_count": null,
      "outputs": []
    },
    {
      "cell_type": "code",
      "source": [
        "df = pd.DataFrame(cv_results)"
      ],
      "metadata": {
        "id": "8xfHWBjmbQOy"
      },
      "execution_count": null,
      "outputs": []
    },
    {
      "cell_type": "code",
      "source": [
        "rf_random.best_params_"
      ],
      "metadata": {
        "id": "SoVcPS95TnnZ"
      },
      "execution_count": null,
      "outputs": []
    },
    {
      "cell_type": "markdown",
      "source": [
        "# todo: feature importance:"
      ],
      "metadata": {
        "id": "iPtdACGvzGZq"
      }
    },
    {
      "cell_type": "code",
      "source": [
        "import matplotlib.pyplot as plt\n",
        "# get importance\n",
        "importance = rf_random.coef_\n",
        "# summarize feature importance\n",
        "for i,v in enumerate(importance):\n",
        " print('Feature: %0d, Score: %.5f' % (i,v))\n",
        "# plot feature importance\n",
        "pyplot.bar([x for x in range(len(importance))], importance)\n",
        "pyplot.show()"
      ],
      "metadata": {
        "id": "XDq6mWIizPBo"
      },
      "execution_count": null,
      "outputs": []
    },
    {
      "cell_type": "code",
      "source": [
        "# rerun this cell\n",
        "sort = rf.feature_importances_.argsort()\n",
        "plt.barh(X_train.feature_names[sort], rf.feature_importances_[sort])\n",
        "plt.xlabel(\"Feature Importance\")"
      ],
      "metadata": {
        "id": "TnT_vcXQza9a"
      },
      "execution_count": null,
      "outputs": []
    },
    {
      "cell_type": "markdown",
      "source": [
        "Grid Search"
      ],
      "metadata": {
        "id": "SfnU8dZcjpH_"
      }
    },
    {
      "cell_type": "code",
      "source": [
        "from sklearn.model_selection import GridSearchCV# Create the parameter grid based on the results of random search\n",
        "# param_grid = {\n",
        "#     'bootstrap': [True],\n",
        "#     'max_depth': [80, 90, 100, 110],\n",
        "#     'max_features': [2, 3],\n",
        "#     'min_samples_leaf': [3, 4, 5],\n",
        "#     'min_samples_split': [8, 10, 12],\n",
        "#     'n_estimators': [100, 200, 300, 1000]\n",
        "# }\n",
        "# Create a based model\n",
        "rf = RandomForestRegressor()# Instantiate the grid search model\n",
        "grid_search = GridSearchCV(\n",
        "    estimator = rf,\n",
        "    param_grid = random_grid,\n",
        "    cv = 3,\n",
        "    n_jobs = -1,\n",
        "    verbose = 3)"
      ],
      "metadata": {
        "id": "ZgSV4oZ3jqyB"
      },
      "execution_count": null,
      "outputs": []
    },
    {
      "cell_type": "code",
      "source": [
        "%%time\n",
        "# Fit the grid search to the data\n",
        "grid_search.fit(X_train, y_train)"
      ],
      "metadata": {
        "id": "-eVOttoRjqri"
      },
      "execution_count": null,
      "outputs": []
    },
    {
      "cell_type": "code",
      "source": [
        "grid_search.best_params_"
      ],
      "metadata": {
        "id": "inxpYYRfjol7"
      },
      "execution_count": null,
      "outputs": []
    },
    {
      "cell_type": "code",
      "source": [
        "best_grid = grid_search.best_estimator_\n",
        "y_pred = best_grid.predict(X_test)\n",
        "grid_accuracy = evaluate(best_grid, test_features, test_labels)"
      ],
      "metadata": {
        "id": "GZPyxHr6kPSQ"
      },
      "execution_count": null,
      "outputs": []
    },
    {
      "cell_type": "code",
      "source": [
        "%%time\n",
        "from sklearn.ensemble import RandomForestRegressor\n",
        "# initialize model\n",
        "rf = RandomForestRegressor(rf_random.best_params_, random_state=42)\n",
        "\n",
        "# train model\n",
        "rf.fit(X_train, y_train)"
      ],
      "metadata": {
        "id": "QEjiP47wbxqs"
      },
      "execution_count": null,
      "outputs": []
    },
    {
      "cell_type": "markdown",
      "source": [
        "Save model"
      ],
      "metadata": {
        "id": "2eAY29MJsfYN"
      }
    },
    {
      "cell_type": "code",
      "source": [
        "import joblib\n",
        "# save model\n",
        "joblib.dump(rf, 'random_forest.joblib')\n",
        "# load model with:\n",
        "# rf = joblib.load(\"random_forest.joblib\")"
      ],
      "metadata": {
        "id": "xoqfdhFfTo3l"
      },
      "execution_count": null,
      "outputs": []
    },
    {
      "cell_type": "code",
      "source": [
        "X_test = X_test.reshape(-1, 1)"
      ],
      "metadata": {
        "id": "RPVOSBoLT1a8"
      },
      "execution_count": null,
      "outputs": []
    },
    {
      "cell_type": "code",
      "source": [
        "base_accuracy = evaluate(rf_random, X_test, y_test)"
      ],
      "metadata": {
        "id": "zqmu309ZT2j5"
      },
      "execution_count": null,
      "outputs": []
    },
    {
      "cell_type": "code",
      "source": [
        "y_pred = rf_random.predict(X_test)"
      ],
      "metadata": {
        "id": "RQjcT0kbT4NE"
      },
      "execution_count": null,
      "outputs": []
    },
    {
      "cell_type": "markdown",
      "source": [
        "Visualize prediction"
      ],
      "metadata": {
        "id": "HJB2PgV2sc1P"
      }
    },
    {
      "cell_type": "code",
      "source": [
        "%run forest_height/src/visualize_data.py"
      ],
      "metadata": {
        "id": "Jn5VR_sksPXJ"
      },
      "execution_count": null,
      "outputs": []
    },
    {
      "cell_type": "code",
      "source": [
        "plot(y_pred[0])\n",
        "plot(X_test[0])"
      ],
      "metadata": {
        "id": "mPsZRsC_sNwv"
      },
      "execution_count": null,
      "outputs": []
    },
    {
      "cell_type": "code",
      "source": [
        "ypred_rf = rf.predict(Xtest)\n",
        "\n",
        "mse_rf = mse(ytest, ypred_rf)\n",
        "rmse_rf = mse_rf ** (1/2)\n",
        "mae_rf = mae(ytest, ypred_rf)\n",
        "mape_rf = mape(ytest, ypred_rf)\n",
        "\n",
        "print(mape_rf)\n",
        "print(mae_rf)\n",
        "print(rmse_rf)"
      ],
      "metadata": {
        "id": "DNwBMKnQYEVF"
      },
      "execution_count": null,
      "outputs": []
    },
    {
      "cell_type": "code",
      "source": [
        "from sklearn.metrics import (mean_absolute_error,\n",
        "                             mean_absolute_percentage_error,\n",
        "                             mean_squared_error)\n",
        "\n",
        "\n",
        "def evaluate_model(y_test, y_pred):\n",
        "    mae = mean_absolute_error(y_test, y_pred)\n",
        "    mse = mean_squared_error(y_test, y_pred)\n",
        "    rmse = mean_squared_error(y_test, y_pred) ** (1/2)\n",
        "    mape = mean_absolute_percentage_error(y_test, y_pred)\n",
        "    print(f'MAE: {mae}; MSE: {mse}; RMSE: {rmse}; MAPE: {mape}')\n",
        "    return (mae, mse, rmse, mape)"
      ],
      "metadata": {
        "id": "pdtCfJ-nYaeH"
      },
      "execution_count": 10,
      "outputs": []
    },
    {
      "cell_type": "code",
      "source": [
        "mae, mse, rmse, mape = evaluate_model(y_test, y_pred)"
      ],
      "metadata": {
        "id": "1OsAW66ZZdBR"
      },
      "execution_count": null,
      "outputs": []
    },
    {
      "cell_type": "code",
      "source": [],
      "metadata": {
        "id": "vqv-HRsfT6n9"
      },
      "execution_count": null,
      "outputs": []
    },
    {
      "cell_type": "code",
      "source": [
        "from matplotlib import pyplot as plt\n",
        "plt.scatter(X_test, y_test, color = 'green')\n",
        "plt.scatter(X_test, y_pred, color = 'red')\n",
        "plt.title('Random Forest Regression')\n",
        "plt.xlabel('Pixel')\n",
        "plt.ylabel('Forest Height')\n",
        "plt.show()"
      ],
      "metadata": {
        "id": "qxQMcPzbT5FT"
      },
      "execution_count": null,
      "outputs": []
    },
    {
      "cell_type": "code",
      "source": [
        "del X_train, y_train"
      ],
      "metadata": {
        "id": "fuGvZc1-X_lt"
      },
      "execution_count": null,
      "outputs": []
    }
  ]
}