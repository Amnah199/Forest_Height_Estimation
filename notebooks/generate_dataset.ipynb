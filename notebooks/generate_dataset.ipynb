{
  "cells": [
    {
      "cell_type": "markdown",
      "metadata": {
        "id": "view-in-github",
        "colab_type": "text"
      },
      "source": [
        "<a href=\"https://colab.research.google.com/github/lgiesen/forest_height/blob/main/notebooks/generate_dataset.ipynb\" target=\"_parent\"><img src=\"https://colab.research.google.com/assets/colab-badge.svg\" alt=\"Open In Colab\"/></a>"
      ]
    },
    {
      "cell_type": "markdown",
      "source": [
        "# Load Data"
      ],
      "metadata": {
        "id": "u73c0Q_dtc2U"
      }
    },
    {
      "cell_type": "code",
      "source": [
        "from google.colab import drive\n",
        "drive.mount ('/content/drive', force_remount=True)"
      ],
      "metadata": {
        "colab": {
          "base_uri": "https://localhost:8080/"
        },
        "id": "kaXIeWlctulu",
        "outputId": "9c284eae-a891-4d41-a847-4b6d4015039c"
      },
      "execution_count": 32,
      "outputs": [
        {
          "output_type": "stream",
          "name": "stdout",
          "text": [
            "Mounted at /content/drive\n"
          ]
        }
      ]
    },
    {
      "cell_type": "code",
      "source": [
        "# the zipped data is uploaded in the root_path folder\n",
        "root_path = 'drive/MyDrive/Colab Notebooks/data/'\n",
        "path_images = f'{root_path}images/'\n",
        "path_masks = f'{root_path}masks/'\n",
        "user = \"lgiesen\"\n",
        "repo = \"forest_height\"\n",
        "!git clone https://github.com/{user}/{repo}.git"
      ],
      "metadata": {
        "colab": {
          "base_uri": "https://localhost:8080/"
        },
        "id": "BHOyEgCG4vju",
        "outputId": "35c24f75-30f3-4582-ce86-d156a55aa8c9"
      },
      "execution_count": 2,
      "outputs": [
        {
          "output_type": "stream",
          "name": "stdout",
          "text": [
            "Cloning into 'forest_height'...\n",
            "remote: Enumerating objects: 576, done.\u001b[K\n",
            "remote: Counting objects: 100% (228/228), done.\u001b[K\n",
            "remote: Compressing objects: 100% (115/115), done.\u001b[K\n",
            "remote: Total 576 (delta 122), reused 209 (delta 112), pack-reused 348\n",
            "Receiving objects: 100% (576/576), 38.49 MiB | 26.81 MiB/s, done.\n",
            "Resolving deltas: 100% (313/313), done.\n"
          ]
        }
      ]
    },
    {
      "cell_type": "code",
      "source": [
        "%run /content/forest_height/src/generate_data.py"
      ],
      "metadata": {
        "id": "sIEfTp3kRr6Y"
      },
      "execution_count": 3,
      "outputs": []
    },
    {
      "cell_type": "code",
      "source": [
        "%%time\n",
        "# unzip data\n",
        "%cd \"drive/MyDrive/Colab Notebooks/data/\"\n",
        "# use -B flag to rename files if there is a file with its name\n",
        "!for f in *.zip; do unzip -B \"$f\"; done\n",
        "%cd ../../../../"
      ],
      "metadata": {
        "id": "7j6QFmDk78E9"
      },
      "execution_count": null,
      "outputs": []
    },
    {
      "cell_type": "code",
      "source": [
        "def save_dataset(X_train, X_test, y_train, y_test):\n",
        "  X_train.to_pickle(\"X_train.pkl\")\n",
        "  y_train.to_pickle(\"y_train.pkl\")\n",
        "  X_test.to_pickle(\"X_test.pkl\")\n",
        "  y_test.to_pickle(\"y_test.pkl\")\n",
        "  %cd ../../"
      ],
      "metadata": {
        "id": "g-vRVuT5cJyS"
      },
      "execution_count": 4,
      "outputs": []
    },
    {
      "cell_type": "markdown",
      "source": [
        "Make directories for all types of datasets. All datasets are not upsampled here. To make them upsampled, set the parameter `is_balanced=True`."
      ],
      "metadata": {
        "id": "2dVgRqAYl1nc"
      }
    },
    {
      "cell_type": "code",
      "source": [
        "%cd forest_height/data/\n",
        "!mkdir color_channels color_channels_ndvi ndvi vi all"
      ],
      "metadata": {
        "colab": {
          "base_uri": "https://localhost:8080/"
        },
        "id": "uio4sCnJc-LR",
        "outputId": "6f425723-e13b-47af-e3f6-a66c923ec6a7"
      },
      "execution_count": 5,
      "outputs": [
        {
          "output_type": "stream",
          "name": "stdout",
          "text": [
            "/content/forest_height/data\n",
            "mkdir: cannot create directory ‘color_channels’: File exists\n",
            "mkdir: cannot create directory ‘color_channels_ndvi’: File exists\n",
            "mkdir: cannot create directory ‘ndvi’: File exists\n"
          ]
        }
      ]
    },
    {
      "cell_type": "markdown",
      "source": [
        "Only color channels"
      ],
      "metadata": {
        "id": "BvDYnMUOl7XY"
      }
    },
    {
      "cell_type": "code",
      "source": [
        "%cd ../..\n",
        "X_train, X_test, y_train, y_test = generate_dataset(path_images, path_masks, ['color_channels'])\n",
        "%cd forest_height/data/color_channels\n",
        "save_dataset(X_train, X_test, y_train, y_test)\n"
      ],
      "metadata": {
        "colab": {
          "base_uri": "https://localhost:8080/"
        },
        "id": "SJ1zfmuDMba2",
        "outputId": "5750073e-4f87-4568-8d48-ebc7b2386a91"
      },
      "execution_count": 9,
      "outputs": [
        {
          "output_type": "stream",
          "name": "stdout",
          "text": [
            "/content\n",
            "/content/forest_height/data/color_channels\n",
            "/content/forest_height\n"
          ]
        }
      ]
    },
    {
      "cell_type": "code",
      "source": [
        "X_train.shape"
      ],
      "metadata": {
        "id": "4kbKQ6ZASDrS",
        "outputId": "0253ab3b-7b0b-466e-b72d-3761035fdc71",
        "colab": {
          "base_uri": "https://localhost:8080/"
        }
      },
      "execution_count": 10,
      "outputs": [
        {
          "output_type": "execute_result",
          "data": {
            "text/plain": [
              "(31090, 10)"
            ]
          },
          "metadata": {},
          "execution_count": 10
        }
      ]
    },
    {
      "cell_type": "markdown",
      "source": [
        "Color channels and ndvi value"
      ],
      "metadata": {
        "id": "nR_XLa-JnHwi"
      }
    },
    {
      "cell_type": "code",
      "source": [
        "%cd ..\n",
        "X_train, X_test, y_train, y_test = generate_dataset(path_images, path_masks, ['color_channels', 'NDVI'])\n",
        "%cd forest_height/data/color_channels_ndvi\n",
        "save_dataset(X_train, X_test, y_train, y_test)"
      ],
      "metadata": {
        "id": "_97Kmf4qrHYA",
        "outputId": "773b307f-70ae-4634-a83b-ae7bd896f806",
        "colab": {
          "base_uri": "https://localhost:8080/"
        }
      },
      "execution_count": 11,
      "outputs": [
        {
          "output_type": "stream",
          "name": "stdout",
          "text": [
            "/content\n",
            "/content/forest_height/data/color_channels_ndvi\n",
            "/content/forest_height\n"
          ]
        }
      ]
    },
    {
      "cell_type": "markdown",
      "source": [
        "Only ndvi value"
      ],
      "metadata": {
        "id": "QUBnyCuAnJ-W"
      }
    },
    {
      "cell_type": "code",
      "source": [
        "%cd ..\n",
        "X_train, X_test, y_train, y_test = generate_dataset(path_images, path_masks, ['NDVI'])\n",
        "%cd forest_height/data/ndvi\n",
        "save_dataset(X_train, X_test, y_train, y_test)"
      ],
      "metadata": {
        "colab": {
          "base_uri": "https://localhost:8080/"
        },
        "id": "0dCo89CmuP4Y",
        "outputId": "ff07b669-f032-4cbf-ffd2-539eedefc191"
      },
      "execution_count": 12,
      "outputs": [
        {
          "output_type": "stream",
          "name": "stdout",
          "text": [
            "/content\n",
            "/content/forest_height/data/ndvi\n",
            "/content/forest_height\n"
          ]
        }
      ]
    },
    {
      "cell_type": "code",
      "source": [
        "%cd ..\n",
        "X_train, X_test, y_train, y_test = generate_dataset(path_images, path_masks, ['VI'])\n",
        "%cd forest_height/data/vi\n",
        "save_dataset(X_train, X_test, y_train, y_test)"
      ],
      "metadata": {
        "colab": {
          "base_uri": "https://localhost:8080/"
        },
        "id": "SgzDgzu8dFlf",
        "outputId": "ff930487-766e-49b2-b12f-c0f6bcbef08d"
      },
      "execution_count": 13,
      "outputs": [
        {
          "output_type": "stream",
          "name": "stdout",
          "text": [
            "/content\n",
            "/content/forest_height/data/vi\n",
            "/content/forest_height\n"
          ]
        }
      ]
    },
    {
      "cell_type": "code",
      "source": [
        "%cd ..\n",
        "X_train, X_test, y_train, y_test = generate_dataset(path_images, path_masks, ['color_channels', 'NDVI', 'VI'])\n",
        "%cd forest_height/data/all\n",
        "save_dataset(X_train, X_test, y_train, y_test)"
      ],
      "metadata": {
        "id": "W56kFs-8SPAv",
        "outputId": "c909ca2f-8e4d-403e-c53a-e3707965aa18",
        "colab": {
          "base_uri": "https://localhost:8080/"
        }
      },
      "execution_count": 35,
      "outputs": [
        {
          "output_type": "stream",
          "name": "stdout",
          "text": [
            "/\n"
          ]
        }
      ]
    },
    {
      "cell_type": "code",
      "source": [
        "# remove drive connection as it is no longer needed\n",
        "drive.flush_and_unmount()"
      ],
      "metadata": {
        "id": "wJ1a2sqeJhg1"
      },
      "execution_count": 14,
      "outputs": []
    }
  ],
  "metadata": {
    "colab": {
      "provenance": [],
      "include_colab_link": true
    },
    "kernelspec": {
      "display_name": "Python 3",
      "name": "python3"
    },
    "language_info": {
      "name": "python"
    }
  },
  "nbformat": 4,
  "nbformat_minor": 0
}