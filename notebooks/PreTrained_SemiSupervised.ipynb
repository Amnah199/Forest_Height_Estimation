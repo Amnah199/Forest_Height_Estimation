{
  "cells": [
    {
      "cell_type": "markdown",
      "metadata": {
        "id": "view-in-github",
        "colab_type": "text"
      },
      "source": [
        "<a href=\"https://colab.research.google.com/github/lgiesen/forest-height/blob/main/PreTrained_SemiSupervised.ipynb\" target=\"_parent\"><img src=\"https://colab.research.google.com/assets/colab-badge.svg\" alt=\"Open In Colab\"/></a>"
      ]
    },
    {
      "cell_type": "code",
      "execution_count": 3,
      "id": "6876a8ba",
      "metadata": {
        "colab": {
          "base_uri": "https://localhost:8080/"
        },
        "id": "6876a8ba",
        "outputId": "7a40c136-69cc-4f40-8625-8f4d5a531776"
      },
      "outputs": [
        {
          "output_type": "stream",
          "name": "stdout",
          "text": [
            "Mounted at /content/gdrive\n"
          ]
        }
      ],
      "source": [
        "from google.colab import drive\n",
        "drive.mount('/content/gdrive')"
      ]
    },
    {
      "cell_type": "code",
      "source": [
        "!unzip gdrive/My\\ Drive/DataDa2/images_train.zip"
      ],
      "metadata": {
        "colab": {
          "base_uri": "https://localhost:8080/"
        },
        "id": "NtsR6BMPSDgE",
        "outputId": "d177f9cb-d330-433e-a860-cf3d6ae758c7"
      },
      "id": "NtsR6BMPSDgE",
      "execution_count": 4,
      "outputs": [
        {
          "output_type": "stream",
          "name": "stdout",
          "text": [
            "Archive:  gdrive/My Drive/DataDa2/images_train.zip\n",
            "  inflating: images/image_000.npy    \n",
            "  inflating: images/image_001.npy    \n",
            "  inflating: images/image_002.npy    \n",
            "  inflating: images/image_003.npy    \n",
            "  inflating: images/image_004.npy    \n",
            "  inflating: images/image_005.npy    \n",
            "  inflating: images/image_006.npy    \n",
            "  inflating: images/image_007.npy    \n",
            "  inflating: images/image_008.npy    \n",
            "  inflating: images/image_009.npy    \n",
            "  inflating: images/image_010.npy    \n",
            "  inflating: images/image_011.npy    \n",
            "  inflating: images/image_012.npy    \n",
            "  inflating: images/image_013.npy    \n",
            "  inflating: images/image_014.npy    \n",
            "  inflating: images/image_015.npy    \n",
            "  inflating: images/image_016.npy    \n",
            "  inflating: images/image_017.npy    \n",
            "  inflating: images/image_018.npy    \n",
            "  inflating: images/image_019.npy    \n"
          ]
        }
      ]
    },
    {
      "cell_type": "code",
      "source": [
        "!unzip gdrive/My\\ Drive/DataDa2/masks_train.zip"
      ],
      "metadata": {
        "colab": {
          "base_uri": "https://localhost:8080/"
        },
        "id": "Ak85ua5OSFLO",
        "outputId": "6544e72f-513f-4fcb-8d4c-114f3ac0a2fb"
      },
      "id": "Ak85ua5OSFLO",
      "execution_count": 5,
      "outputs": [
        {
          "output_type": "stream",
          "name": "stdout",
          "text": [
            "Archive:  gdrive/My Drive/DataDa2/masks_train.zip\n",
            "  inflating: masks/mask_000.npy      \n",
            "  inflating: masks/mask_001.npy      \n",
            "  inflating: masks/mask_002.npy      \n",
            "  inflating: masks/mask_003.npy      \n",
            "  inflating: masks/mask_004.npy      \n",
            "  inflating: masks/mask_005.npy      \n",
            "  inflating: masks/mask_006.npy      \n",
            "  inflating: masks/mask_007.npy      \n",
            "  inflating: masks/mask_008.npy      \n",
            "  inflating: masks/mask_009.npy      \n",
            "  inflating: masks/mask_010.npy      \n",
            "  inflating: masks/mask_011.npy      \n",
            "  inflating: masks/mask_012.npy      \n",
            "  inflating: masks/mask_013.npy      \n",
            "  inflating: masks/mask_014.npy      \n",
            "  inflating: masks/mask_015.npy      \n",
            "  inflating: masks/mask_016.npy      \n",
            "  inflating: masks/mask_017.npy      \n",
            "  inflating: masks/mask_018.npy      \n",
            "  inflating: masks/mask_019.npy      \n"
          ]
        }
      ]
    },
    {
      "cell_type": "code",
      "source": [
        "import numpy as np\n",
        "import pandas as pd\n",
        "\n",
        "data = np.empty((0, 9))\n",
        "\n",
        "for i in range(10):\n",
        "    X = np.load('/content/images/image_00' + str(i) + '.npy')\n",
        "    y = np.load('/content/masks/mask_00' + str(i) + '.npy')\n",
        "\n",
        "    X1 = X[[0, 1, 2, 6, 7, 8, 9]]\n",
        "    X1 = X1.reshape(7, -1).transpose()\n",
        "\n",
        "    y = y.reshape(1, -1).transpose()\n",
        "\n",
        "    # Calculate NDVI\n",
        "    b8 = X[[6]].reshape(1, -1).transpose()\n",
        "    b4 = X[[2]].reshape(1, -1).transpose()\n",
        "\n",
        "    denominator = b8 + b4\n",
        "    ndvi = np.where(denominator != 0, (b8 - b4) / denominator, 0)\n",
        "\n",
        "\n",
        "    # Concatenate the slices with the new column\n",
        "\n",
        "    Xy = np.concatenate((X1, y), axis=1)\n",
        "    index = Xy.shape[1] - 1\n",
        "\n",
        "    left_slice = Xy[:, :index]\n",
        "    right_slice = Xy[:, index:]\n",
        "    Xy = np.concatenate((left_slice, ndvi, right_slice), axis=1)\n",
        "\n",
        "    # Concatenate the arrays along the first axis (number of features)\n",
        "    data = np.concatenate((data, Xy), axis=0)\n",
        "\n",
        "\n"
      ],
      "metadata": {
        "id": "R022jMhEPaFK",
        "colab": {
          "base_uri": "https://localhost:8080/"
        },
        "outputId": "d68b04f2-3d2d-4fbe-ad61-551fd7ed3882"
      },
      "id": "R022jMhEPaFK",
      "execution_count": 6,
      "outputs": [
        {
          "output_type": "stream",
          "name": "stderr",
          "text": [
            "<ipython-input-6-7eed8fb048c9>:20: RuntimeWarning: invalid value encountered in true_divide\n",
            "  ndvi = np.where(denominator != 0, (b8 - b4) / denominator, 0)\n"
          ]
        }
      ]
    },
    {
      "cell_type": "code",
      "source": [
        "for i in range(10,20):\n",
        "    X = np.load('/content/images/image_0' + str(i) + '.npy')\n",
        "    y = np.load('/content/masks/mask_0' + str(i) + '.npy')\n",
        "    X1 = X[[0, 1, 2, 6, 7, 8, 9]]\n",
        "    X1 = X1.reshape(7, -1).transpose()\n",
        "    y = y.reshape(1, -1).transpose()\n",
        "\n",
        "    # Calculate NDVI\n",
        "    b8 = X[[6]].reshape(1, -1).transpose()\n",
        "    b4 = X[[2]].reshape(1, -1).transpose()\n",
        "    denominator = b8 + b4\n",
        "    ndvi = np.where(denominator != 0, (b8 - b4) / denominator, 0)\n",
        "\n",
        "    # Concatenate the slices with the new column\n",
        "\n",
        "    Xy = np.concatenate((X1, y), axis=1)\n",
        "    index = Xy.shape[1] - 1\n",
        "\n",
        "    left_slice = Xy[:, :index]\n",
        "    right_slice = Xy[:, index:]\n",
        "    Xy = np.concatenate((left_slice, ndvi, right_slice), axis=1)\n",
        "    #Xy_ndvi = np.hstack((Xy, ndvi))\n",
        "\n",
        "    # Concatenate the arrays along the first axis (number of features)\n",
        "    data = np.concatenate((data, Xy), axis=0)\n",
        "    print(data.shape)"
      ],
      "metadata": {
        "colab": {
          "base_uri": "https://localhost:8080/"
        },
        "id": "jPIvyrIKqJTf",
        "outputId": "96f6c563-6be1-4f48-829b-704e6242a1c9"
      },
      "id": "jPIvyrIKqJTf",
      "execution_count": 7,
      "outputs": [
        {
          "output_type": "stream",
          "name": "stdout",
          "text": [
            "(11534336, 9)\n",
            "(12582912, 9)\n",
            "(13631488, 9)\n",
            "(14680064, 9)\n",
            "(15728640, 9)\n",
            "(16777216, 9)\n",
            "(17825792, 9)\n",
            "(18874368, 9)\n",
            "(19922944, 9)\n",
            "(20971520, 9)\n"
          ]
        }
      ]
    },
    {
      "cell_type": "code",
      "source": [
        "\n",
        "num = np.count_nonzero(data[:,-1])\n",
        "nonzero = np.nonzero(data[:,-1])\n",
        "zero = np.where(data[:,-1] == 0)[0]\n",
        "\n",
        "\n",
        "labeled_data = data[nonzero]\n",
        "unlabeled_data = data[zero]\n",
        "print(labeled_data.shape)\n",
        "print(unlabeled_data.shape)\n",
        "df = pd.DataFrame(labeled_data)\n",
        "df1 = pd.DataFrame(unlabeled_data)\n",
        "print(df)\n",
        "print(df1)\n",
        "\n"
      ],
      "metadata": {
        "colab": {
          "base_uri": "https://localhost:8080/"
        },
        "id": "o6sFwQJAlCeX",
        "outputId": "4674e961-22ed-441e-e97c-7963f977d2c9"
      },
      "id": "o6sFwQJAlCeX",
      "execution_count": 8,
      "outputs": [
        {
          "output_type": "stream",
          "name": "stdout",
          "text": [
            "(32239, 9)\n",
            "(20939281, 9)\n",
            "           0       1       2       3       4       5       6         7  \\\n",
            "0      217.0   407.0   233.0  2150.0  2036.0  1013.0   515.0  0.804448   \n",
            "1      233.0   317.0   238.0  1581.0  1684.0   732.0   387.0  0.738318   \n",
            "2      157.0   287.0   215.0  1381.0  1720.0   839.0   457.0  0.730576   \n",
            "3      220.0   351.0   268.0  1844.0  2028.0   935.0   502.0  0.746212   \n",
            "4      254.0   408.0   314.0  2202.0  2689.0  1263.0   654.0  0.750397   \n",
            "...      ...     ...     ...     ...     ...     ...     ...       ...   \n",
            "32234  220.0   313.0   236.0  1711.0  1757.0   774.0   362.0  0.757576   \n",
            "32235  361.0   490.0   365.0  2423.0  2334.0  1096.0   585.0  0.738164   \n",
            "32236  395.0   538.0   336.0  2790.0  2988.0  1409.0   703.0  0.785029   \n",
            "32237  346.0   491.0   348.0  2986.0  3333.0  1764.0   928.0  0.791242   \n",
            "32238  831.0  1060.0  1232.0  2920.0  3208.0  2482.0  1521.0  0.406551   \n",
            "\n",
            "               8  \n",
            "0      27.389999  \n",
            "1      27.200001  \n",
            "2      25.450001  \n",
            "3      30.190001  \n",
            "4      44.480000  \n",
            "...          ...  \n",
            "32234  37.380001  \n",
            "32235  23.750000  \n",
            "32236  31.990000  \n",
            "32237  28.730000  \n",
            "32238  35.770000  \n",
            "\n",
            "[32239 rows x 9 columns]\n",
            "              0      1      2       3       4       5       6         7    8\n",
            "0         325.0  591.0  360.0  4208.0  4325.0  2275.0  1038.0  0.842382  0.0\n",
            "1         294.0  564.0  344.0  4230.0  4325.0  2275.0  1038.0  0.849585  0.0\n",
            "2         316.0  583.0  332.0  4459.0  4705.0  2336.0  1057.0  0.861407  0.0\n",
            "3         317.0  628.0  337.0  4677.0  4705.0  2336.0  1057.0  0.865576  0.0\n",
            "4         302.0  608.0  340.0  4509.0  4586.0  2351.0  1111.0  0.859765  0.0\n",
            "...         ...    ...    ...     ...     ...     ...     ...       ...  ...\n",
            "20939276  254.0  362.0  249.0  2348.0  2545.0  1123.0   545.0  0.808240  0.0\n",
            "20939277  258.0  358.0  267.0  2082.0  2295.0  1071.0   532.0  0.772669  0.0\n",
            "20939278  242.0  358.0  251.0  1957.0  2111.0  1031.0   494.0  0.772645  0.0\n",
            "20939279  238.0  329.0  233.0  1840.0  2040.0   964.0   462.0  0.775205  0.0\n",
            "20939280  243.0  353.0  251.0  1774.0  1993.0   931.0   462.0  0.752099  0.0\n",
            "\n",
            "[20939281 rows x 9 columns]\n"
          ]
        }
      ]
    },
    {
      "cell_type": "code",
      "execution_count": 9,
      "id": "c42b48d3",
      "metadata": {
        "id": "c42b48d3"
      },
      "outputs": [],
      "source": [
        "from sklearn.model_selection import train_test_split\n",
        "\n",
        "# Split the dataset into training and validation sets\n",
        "#X_train, y_train, X_test, y_test = train_test_split(X1,y1, test_size=0.2, random_state=1)\n",
        "\n",
        "# Step 3: Create training and testing sets\n",
        "X_train_labeled, X_test_labeled, y_train_labeled, y_test_labeled = train_test_split(\n",
        "    labeled_data[:, :-1],  # Features\n",
        "    labeled_data[:, -1],   # Labels\n",
        "    test_size=0.2,          # Adjust the test size as needed\n",
        "    random_state=11         # Set a random seed for reproducibility\n",
        ")\n",
        "\n",
        "\n"
      ]
    },
    {
      "cell_type": "code",
      "execution_count": 10,
      "metadata": {
        "id": "--ac0MT_zG2e"
      },
      "outputs": [],
      "source": [
        "\n",
        "# Split the dataset into training and validation sets\n",
        "#X_train, y_train, X_test, y_test = train_test_split(X1,y1, test_size=0.2, random_state=1)\n",
        "\n",
        "# Step 3: Create training and testing sets\n",
        "\n",
        "\n",
        "\n",
        "X_train_unlabeled= unlabeled_data[:, :-1]"
      ],
      "id": "--ac0MT_zG2e"
    },
    {
      "cell_type": "code",
      "source": [
        "import numpy as np\n",
        "from sklearn.ensemble import RandomForestRegressor\n",
        "from sklearn.semi_supervised import LabelPropagation\n",
        "\n",
        "\n",
        "\n",
        "# Pre-training step\n",
        "pretrain_model = RandomForestRegressor()\n",
        "pretrain_model.fit(X_train_labeled, y_train_labeled)\n",
        "\n",
        "# Generate representations for labeled and unlabeled data using the pre-trained model\n",
        "labeled_representations = pretrain_model.predict(X_train_labeled)\n",
        "unlabeled_representations = pretrain_model.predict(X_train_unlabeled)\n",
        "\n",
        "# Combine labeled and unlabeled data\n",
        "combined_data = np.vstack((X_train_labeled, X_train_unlabeled))\n",
        "combined_representations = np.concatenate((labeled_representations, unlabeled_representations))\n",
        "\n"
      ],
      "metadata": {
        "id": "Kk0Eil4iyu_U"
      },
      "id": "Kk0Eil4iyu_U",
      "execution_count": null,
      "outputs": []
    },
    {
      "cell_type": "code",
      "source": [
        "# Create a regression model (e.g., RandomForestRegressor)\n",
        "regression_model = RandomForestRegressor()\n",
        "regression_model.fit(combined_data, combined_representations)\n",
        "\n",
        "# Predict forest height for the test data\n",
        "y_pred_test = regression_model.predict(X_test_labeled)\n"
      ],
      "metadata": {
        "id": "4hkOU1pN3AO7"
      },
      "id": "4hkOU1pN3AO7",
      "execution_count": null,
      "outputs": []
    },
    {
      "cell_type": "code",
      "execution_count": null,
      "id": "9a1f7ab4",
      "metadata": {
        "id": "9a1f7ab4"
      },
      "outputs": [],
      "source": [
        "%matplotlib inline\n",
        "import matplotlib.pyplot as plt\n",
        "from matplotlib.ticker import StrMethodFormatter\n",
        "\n",
        "from sklearn.metrics import mean_squared_error\n",
        "\n",
        "# compute RMSE\n",
        "print(\"RMSE: {}\".format(np.sqrt(mean_squared_error(y_test_labeled, y_pred_test))))\n",
        "\n",
        "# visualize predictions vs. true labels\n",
        "fig = plt.figure(figsize=(8,8))\n",
        "plt.scatter(y_pred_test, y_test_labeled, color=\"blue\", alpha=0.5)\n",
        "plt.xticks(rotation=45)\n",
        "plt.gca().xaxis.set_major_formatter(StrMethodFormatter('{x:,.0f}'))\n",
        "plt.plot([-1, 83], [-1, 83], 'k--')\n",
        "plt.xlabel(\"Predictions\")\n",
        "plt.ylabel(\"True Labels\")\n",
        "plt.xlim([-1, 83])\n",
        "plt.ylim([-1, 83])\n",
        "plt.title(\"Evaluation of Random Forest Regression Model \")\n",
        "plt.show()"
      ]
    },
    {
      "cell_type": "code",
      "execution_count": null,
      "id": "cec63412",
      "metadata": {
        "id": "cec63412"
      },
      "outputs": [],
      "source": [
        "from sklearn.metrics import mean_absolute_error\n",
        "\n",
        "mse = mean_absolute_error(y_test_labeled, y_pred_test)\n",
        "\n",
        "print(\"Mean Absolute Error:\", mse)"
      ]
    }
  ],
  "metadata": {
    "kernelspec": {
      "display_name": "Python 3",
      "name": "python3"
    },
    "language_info": {
      "codemirror_mode": {
        "name": "ipython",
        "version": 3
      },
      "file_extension": ".py",
      "mimetype": "text/x-python",
      "name": "python",
      "nbconvert_exporter": "python",
      "pygments_lexer": "ipython3",
      "version": "3.9.6"
    },
    "colab": {
      "provenance": [],
      "gpuType": "T4",
      "include_colab_link": true
    },
    "accelerator": "GPU"
  },
  "nbformat": 4,
  "nbformat_minor": 5
}